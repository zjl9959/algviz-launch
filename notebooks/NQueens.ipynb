{
 "cells": [
  {
   "cell_type": "code",
   "execution_count": null,
   "metadata": {},
   "outputs": [],
   "source": [
    "import algviz\n",
    "N = 4\n",
    "viz = algviz.Visualizer(1)\n",
    "board = viz.createTable(N, N)\n",
    "cursor_row = viz.createCursor('r')\n",
    "cursor_col = viz.createCursor('c')\n",
    "board[cursor_row][cursor_col]\n",
    "\n",
    "def draw_board_background():\n",
    "    for r in range(N):\n",
    "        for c in range(N):\n",
    "            if (r + c) % 2:\n",
    "                board.mark(algviz.color_gray, r, c, True)\n",
    "\n",
    "def solve_queen(queen_row_pos, col_has_queen, cur_row):\n",
    "    if cur_row == N:\n",
    "        for r in range(N):\n",
    "            board.mark(algviz.color_green, r, queen_row_pos[r])\n",
    "        viz.display(3)\n",
    "        return\n",
    "    cursor_row << cur_row\n",
    "    for c in range(0, N):\n",
    "        cursor_col << c\n",
    "        board[cur_row][c] = '❔'\n",
    "        viz.display()\n",
    "        if col_has_queen[c] == False:\n",
    "            conflict = False\n",
    "            for r in range(0, cur_row):\n",
    "                if queen_row_pos[r] - c == r - cur_row or c - queen_row_pos[r] == r - cur_row:\n",
    "                    board.mark(algviz.color_red, r, queen_row_pos[r])\n",
    "                    board.mark(algviz.color_red, cur_row, c)\n",
    "                    viz.display(0.5)\n",
    "                    conflict = True\n",
    "                    break\n",
    "            if not conflict:\n",
    "                queen_row_pos[cur_row] = c\n",
    "                col_has_queen[c] = True\n",
    "                board[cur_row][c] = '👑'\n",
    "                viz.display()\n",
    "                solve_queen(queen_row_pos, col_has_queen, cur_row+1)\n",
    "                col_has_queen[c] = False\n",
    "                board[cur_row][c] = ''\n",
    "                cursor_row << cur_row\n",
    "            else:\n",
    "                board[cur_row][c] = ''\n",
    "        else:\n",
    "            for r in range(cur_row):\n",
    "                if queen_row_pos[r] == c:\n",
    "                    board.mark(algviz.color_red, r, c)\n",
    "                    break\n",
    "            board.mark(algviz.color_red, cur_row, c)\n",
    "            viz.display(0.5)\n",
    "            board[cur_row][c] = ''\n",
    "\n",
    "draw_board_background()\n",
    "solve_queen([-1 for _ in range(N)], [False for _ in range(N)], 0)\n"
   ]
  }
 ],
 "metadata": {
  "kernelspec": {
   "display_name": "Python 3.9.6 64-bit",
   "language": "python",
   "name": "python3"
  },
  "language_info": {
   "codemirror_mode": {
    "name": "ipython",
    "version": 3
   },
   "file_extension": ".py",
   "mimetype": "text/x-python",
   "name": "python",
   "nbconvert_exporter": "python",
   "pygments_lexer": "ipython3",
   "version": "3.9.6"
  },
  "orig_nbformat": 4,
  "vscode": {
   "interpreter": {
    "hash": "815ac738e0f697bd51fd06b8a1fd40126c4f0901e89f12f4abca109931f98f14"
   }
  }
 },
 "nbformat": 4,
 "nbformat_minor": 2
}
