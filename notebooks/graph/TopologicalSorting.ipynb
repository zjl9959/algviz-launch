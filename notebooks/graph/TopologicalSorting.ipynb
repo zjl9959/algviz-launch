{
 "cells": [
  {
   "cell_type": "markdown",
   "metadata": {},
   "source": [
    "# Topological sorting"
   ]
  },
  {
   "cell_type": "code",
   "execution_count": null,
   "metadata": {},
   "outputs": [],
   "source": [
    "import algviz\n",
    "\n",
    "nodes = [i for i in range(16)]\n",
    "edges = [\n",
    "    (0, 1, None), (0, 2, None), (0, 3, None), (0, 4, None), (0, 5, None),\n",
    "    (1, 6, None), (2, 7, None), (3, 8, None), (3, 9, None), (4, 10, None),\n",
    "    (4, 11, None), (4, 12, None), (5, 12, None), (7, 6, None), (8, 13, None), (15, 6, None),\n",
    "    (9, 14, None), (10, 15, None), (11, 15, None), (13, 14, None), (15, 14, None), (12, 6, None)\n",
    "]\n",
    "graph_nodes = algviz.parseGraph(nodes, edges)"
   ]
  },
  {
   "cell_type": "markdown",
   "metadata": {},
   "source": [
    "## Depth first search"
   ]
  },
  {
   "cell_type": "code",
   "execution_count": null,
   "metadata": {},
   "outputs": [],
   "source": [
    "class Solution:\n",
    "    def topologicalSortingDfs(self, parent, node):\n",
    "        self.visited.add(node)\n",
    "        self.graph.markNode(algviz.cTan, node, True)\n",
    "        self.graph.markEdge(algviz.cTan, parent, node)\n",
    "        self.viz.display(0.5)\n",
    "        for v in node.neighbors():\n",
    "            if v[0] not in self.visited:\n",
    "                self.topologicalSortingDfs(node, v[0])\n",
    "        self.stack.insert(0, node)\n",
    "        self.stack.mark(algviz.cGreenYellow, 0)\n",
    "        self.graph.markNode(algviz.cSilver, node, True)\n",
    "        self.graph.markNode(algviz.cGreenYellow, node)\n",
    "        self.viz.display()\n",
    "\n",
    "    def topologicalSorting(self, graph):\n",
    "        self.viz = algviz.Visualizer(0.7)\n",
    "        self.graph = self.viz.createGraph(list(graph.values()))\n",
    "        self.visited = set()\n",
    "        self.stack = self.viz.createVector(cell_size=(30, 30), show_index=False, name='Result')\n",
    "        for node in graph.values():\n",
    "            if node not in self.visited:\n",
    "                self.topologicalSortingDfs(None, node)\n",
    "\n",
    "    def replay(self):\n",
    "        self.graph.removeMarks([algviz.cTan, algviz.cSilver])\n",
    "        self.viz.display()\n",
    "        for i in range(len(self.stack)):\n",
    "            node = self.stack[i]\n",
    "            self.graph.markNode(algviz.cGreenYellow, node, True)\n",
    "            self.stack.mark(algviz.cGreenYellow, i, hold=True)\n",
    "            self.viz.display()\n",
    "\n",
    "solver = Solution()\n",
    "solver.topologicalSorting(graph_nodes)\n",
    "solver.replay()"
   ]
  },
  {
   "cell_type": "markdown",
   "metadata": {},
   "source": [
    "# Kahns algorithm"
   ]
  },
  {
   "cell_type": "code",
   "execution_count": null,
   "metadata": {},
   "outputs": [],
   "source": [
    "def topologicalSortingKahns(graph_nodes):\n",
    "    # Calculate the degree of each node.\n",
    "    viz = algviz.Visualizer(1)\n",
    "    graph = viz.createGraph(data=list(graph_nodes.values()))\n",
    "    degree = viz.createVector(name='Nodes in-degree')\n",
    "    degree_index = dict()\n",
    "    for node in graph_nodes.values():\n",
    "        degree_index[node] = len(degree)\n",
    "        degree.append(0)\n",
    "    for u in graph_nodes.values():\n",
    "        for v in u.neighbors():\n",
    "            graph.markEdge(algviz.cTomato, u, v[0])\n",
    "            graph.markNode(algviz.cTomato, v[0])\n",
    "            degree[degree_index[v[0]]] += 1\n",
    "            degree.mark(algviz.cTomato, degree_index[v[0]])\n",
    "            viz.display(0.5)\n",
    "    stack = viz.createVector(name='Zero in-degree nodes stack')\n",
    "    # Put the point with in-degree 0 into the queue.\n",
    "    for u in graph_nodes.values():\n",
    "        if degree[degree_index[u]] == 0:\n",
    "            graph.markNode(algviz.cSilver, u, True)\n",
    "            stack.append(u)\n",
    "            viz.display(0.5)\n",
    "    # Take points, delete edges, add points.\n",
    "    res = viz.createVector(name='Result')\n",
    "    while len(stack) > 0:\n",
    "        cur_node = stack.pop()\n",
    "        res.append(cur_node)\n",
    "        viz.display()\n",
    "        for neighbor in cur_node.neighbors():\n",
    "            v = neighbor[0]\n",
    "            degree[degree_index[v]] -= 1\n",
    "            graph.markEdge(algviz.cAqua, cur_node, v)\n",
    "            graph.markNode(algviz.cAqua, v)\n",
    "            degree.mark(algviz.cAqua, degree_index[v])\n",
    "            viz.display()\n",
    "            if degree[degree_index[v]] == 0:\n",
    "                stack.append(v)\n",
    "                graph.markNode(algviz.cSilver, v, True)\n",
    "                viz.display()\n",
    "    return res._data\n",
    "\n",
    "res = topologicalSortingKahns(graph_nodes)"
   ]
  }
 ],
 "metadata": {
  "kernelspec": {
   "display_name": "Python 3.9.13 ('algviz-public')",
   "language": "python",
   "name": "python3"
  },
  "language_info": {
   "codemirror_mode": {
    "name": "ipython",
    "version": 3
   },
   "file_extension": ".py",
   "mimetype": "text/x-python",
   "name": "python",
   "nbconvert_exporter": "python",
   "pygments_lexer": "ipython3",
   "version": "3.9.13"
  },
  "orig_nbformat": 4,
  "vscode": {
   "interpreter": {
    "hash": "ba530876bec2e6283b9bacba891681e9dff395534db17e3ec46729d6d41aa6cf"
   }
  }
 },
 "nbformat": 4,
 "nbformat_minor": 2
}
