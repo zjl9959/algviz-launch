{
 "cells": [
  {
   "cell_type": "code",
   "execution_count": null,
   "metadata": {},
   "outputs": [],
   "source": [
    "import algviz\n",
    "\n",
    "viz = algviz.Visualizer(0.5)\n",
    "nodes = [i for i in range(16)]\n",
    "nodes_label = {\n",
    "    0:\"通识\", 1:\"音乐\", 2:\"语文\", 3:\"体育\", 4:\"美术\",\n",
    "    5:\"科学\", 6:\"说唱\", 7:\"法律\", 8:\"跑步\", 9:\"跳高\",\n",
    "    10:\"美容\", 11:\"美发\", 12:\"养鸡\", 13:\"篮球\", 14:\"街舞\", 15:\"穿搭\"\n",
    "}\n",
    "edges = [\n",
    "    (0, 1, None), (0, 2, None), (0, 3, None), (0, 4, None), (0, 5, None),\n",
    "    (1, 6, None), (2, 7, None), (3, 8, None), (3, 9, None), (4, 10, None),\n",
    "    (4, 11, None), (4, 12, None), (5, 12, None), (7, 6, None), (8, 13, None), (15, 6, None),\n",
    "    (9, 14, None), (10, 15, None), (11, 15, None), (13, 14, None), (15, 14, None), (12, 6, None)\n",
    "]\n",
    "graph_nodes = algviz.parseGraph(nodes, edges, nodes_label)\n",
    "graph = viz.createGraph(graph_nodes)\n",
    "\n",
    "class Solution:\n",
    "    def topologicalSortingDfs(self, parent, node):\n",
    "        self.visited.add(node)\n",
    "        self.graph.markNode(algviz.cTan, node, True)\n",
    "        self.graph.markEdge(algviz.cTan, parent, node)\n",
    "        self.viz.display(0.5)\n",
    "        for v in node.neighbors():\n",
    "            if v[0] not in self.visited:\n",
    "                self.topologicalSortingDfs(node, v[0])\n",
    "        self.stack.insert(0, node)\n",
    "        self.stack.mark(algviz.cGreenYellow, 0)\n",
    "        self.graph.markNode(algviz.cSilver, node, True)\n",
    "        self.graph.markNode(algviz.cGreenYellow, node)\n",
    "        self.viz.display()\n",
    "\n",
    "    def topologicalSorting(self, graph):\n",
    "        self.viz = algviz.Visualizer(0.7)\n",
    "        self.graph = self.viz.createGraph(list(graph.values()))\n",
    "        self.visited = set()\n",
    "        self.stack = self.viz.createVector(cell_size=(30, 30), show_index=False)\n",
    "        for node in graph.values():\n",
    "            if node not in self.visited:\n",
    "                self.topologicalSortingDfs(None, node)\n",
    "\n",
    "    def replay(self):\n",
    "        self.graph.removeMarks([algviz.cTan, algviz.cSilver])\n",
    "        self.viz.display()\n",
    "        for i in range(len(self.stack)):\n",
    "            node = self.stack[i]\n",
    "            self.graph.markNode(algviz.cGreenYellow, node, True)\n",
    "            self.stack.mark(algviz.cGreenYellow, i, hold=True)\n",
    "            self.viz.display()\n",
    "\n",
    "solver = Solution()\n",
    "solver.topologicalSorting(graph_nodes)\n",
    "solver.replay()"
   ]
  }
 ],
 "metadata": {
  "kernelspec": {
   "display_name": "Python 3.9.13 ('algviz-public')",
   "language": "python",
   "name": "python3"
  },
  "language_info": {
   "codemirror_mode": {
    "name": "ipython",
    "version": 3
   },
   "file_extension": ".py",
   "mimetype": "text/x-python",
   "name": "python",
   "nbconvert_exporter": "python",
   "pygments_lexer": "ipython3",
   "version": "3.9.13"
  },
  "orig_nbformat": 4,
  "vscode": {
   "interpreter": {
    "hash": "ba530876bec2e6283b9bacba891681e9dff395534db17e3ec46729d6d41aa6cf"
   }
  }
 },
 "nbformat": 4,
 "nbformat_minor": 2
}
