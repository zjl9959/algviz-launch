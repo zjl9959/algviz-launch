{
 "cells": [
  {
   "cell_type": "markdown",
   "metadata": {},
   "source": [
    "# Floyd-Warshall algorithm\n",
    "\n",
    "Calculate the shortest path between each nodes in the given graph.\n",
    "\n",
    "# Recursive formula\n",
    "\n",
    "$shortestPath(i, j, 0) = w(i, j)$ -> basic case.\n",
    "\n",
    "$shortestPath(i, j, k) = min(shortestPath(i, j, k-1), shortestPath(i, k, k-1) + shortestPath(k, j, k-1))$\n",
    "\n",
    "# Reference\n",
    "\n",
    "+ https://en.wikipedia.org/wiki/Floyd%E2%80%93Warshall_algorithm\n",
    "+ https://zh.m.wikipedia.org/zh-hans/Floyd-Warshall%E7%AE%97%E6%B3%95"
   ]
  }
 ],
 "metadata": {
  "kernelspec": {
   "display_name": "Python 3.9.13 ('algviz-public')",
   "language": "python",
   "name": "python3"
  },
  "language_info": {
   "name": "python",
   "version": "3.9.13"
  },
  "orig_nbformat": 4,
  "vscode": {
   "interpreter": {
    "hash": "ba530876bec2e6283b9bacba891681e9dff395534db17e3ec46729d6d41aa6cf"
   }
  }
 },
 "nbformat": 4,
 "nbformat_minor": 2
}
