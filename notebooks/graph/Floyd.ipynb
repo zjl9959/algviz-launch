{
 "cells": [
  {
   "cell_type": "markdown",
   "metadata": {},
   "source": [
    "# Floyd-Warshall algorithm\n",
    "\n",
    "Calculate the shortest path between each nodes in the given graph.\n",
    "\n",
    "# Recursive formula\n",
    "\n",
    "$shortestPath(i, j, 0) = w(i, j)$ -> basic case.\n",
    "\n",
    "$shortestPath(i, j, k) = min(shortestPath(i, j, k-1), shortestPath(i, k, k-1) + shortestPath(k, j, k-1))$ when $k > 0.$\n",
    "\n",
    "# Reference\n",
    "\n",
    "+ https://en.wikipedia.org/wiki/Floyd%E2%80%93Warshall_algorithm\n",
    "+ https://zh.m.wikipedia.org/zh-hans/Floyd-Warshall%E7%AE%97%E6%B3%95"
   ]
  },
  {
   "cell_type": "code",
   "execution_count": null,
   "metadata": {},
   "outputs": [],
   "source": [
    "import algviz\n",
    "\n",
    "class FloydShortestPath:\n",
    "    def __init__(self, graph_table):\n",
    "        self.viz = algviz.Visualizer(1)\n",
    "        self.N = len(graph_table)\n",
    "        self.dist = self.viz.createTable(self.N, self.N,\n",
    "            graph_table, \"Minimum distance:\")\n",
    "        self.viz.display()\n",
    "\n",
    "    def solve(self):\n",
    "        i = self.viz.createCursor(0, 'i')\n",
    "        j = self.viz.createCursor(0, 'j')\n",
    "        k = self.viz.createCursor(1, 'k')\n",
    "        while k < self.N:\n",
    "            while i < self.N:\n",
    "                while j < self.N:\n",
    "                    self.dist.mark(algviz.cLime, i, k)\n",
    "                    self.dist.mark(algviz.cLime, k, j)\n",
    "                    self.dist.mark(algviz.cTomato, i, j)\n",
    "                    if self.dist[i][k] == None or self.dist[k][j] == None:\n",
    "                        self.viz.display(0.5); j += 1\n",
    "                        continue\n",
    "                    dist = self.dist[i][k] + self.dist[k][j]\n",
    "                    if self.dist[i][j] == None or dist < self.dist[i][j]:\n",
    "                        self.dist[i][j] = dist\n",
    "                    self.viz.display()\n",
    "                    j += 1\n",
    "                i += 1; j << 0\n",
    "            k += 1; i << 0"
   ]
  },
  {
   "cell_type": "code",
   "execution_count": null,
   "metadata": {},
   "outputs": [],
   "source": [
    "# Define a graph using an adjacency table form:\n",
    "graph_table = [\n",
    "    [0, 2, None, None, 1],\n",
    "    [None, 0, 3, None, None],\n",
    "    [None, None, 0, 1, None],\n",
    "    [None, 4, None, 0, None],\n",
    "    [None, 1, None, 2, 0]\n",
    "]\n",
    "\n",
    "solver = FloydShortestPath(graph_table)\n",
    "solver.solve()"
   ]
  }
 ],
 "metadata": {
  "kernelspec": {
   "display_name": "Python 3.9.13 ('algviz-public')",
   "language": "python",
   "name": "python3"
  },
  "language_info": {
   "codemirror_mode": {
    "name": "ipython",
    "version": 3
   },
   "file_extension": ".py",
   "mimetype": "text/x-python",
   "name": "python",
   "nbconvert_exporter": "python",
   "pygments_lexer": "ipython3",
   "version": "3.9.13"
  },
  "orig_nbformat": 4,
  "vscode": {
   "interpreter": {
    "hash": "ba530876bec2e6283b9bacba891681e9dff395534db17e3ec46729d6d41aa6cf"
   }
  }
 },
 "nbformat": 4,
 "nbformat_minor": 2
}
