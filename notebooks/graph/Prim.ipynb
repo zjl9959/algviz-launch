{
 "cells": [
  {
   "cell_type": "markdown",
   "metadata": {},
   "source": [
    "# Prim algorithm\n",
    "\n",
    "**Prim's algorithm is a greedy algorithm that finds a [minimum spanning tree](https://en.wikipedia.org/wiki/Minimum_spanning_tree) for a weighted undirected graph.**\n",
    "\n",
    "The algorithm consists of the following steps:\n",
    "\n",
    "1. Initialize a tree with a single vertex, chosen arbitrarily from the graph.\n",
    "\n",
    "2. Grow the tree by one edge: of the edges that connect the tree to vertices not yet in the tree, find the minimum-weight edge, and transfer it to the tree.\n",
    "\n",
    "3. Repeat step 2 (until all vertices are in the tree).\n",
    "\n",
    "## Reference\n",
    "\n",
    "https://en.wikipedia.org/wiki/Prim%27s_algorithm"
   ]
  },
  {
   "cell_type": "code",
   "execution_count": null,
   "metadata": {},
   "outputs": [],
   "source": [
    "import algviz\n",
    "\n",
    "class PrimAlgorithm:\n",
    "    def __init__(self, graph_nodes):\n",
    "        self.viz = algviz.Visualizer(0.5)\n",
    "        self.graph = self.viz.createGraph(graph_nodes, name='Input graph', directed=False)\n",
    "        self.nodes_num = len(graph_nodes)\n",
    "        self.graph_nodes = graph_nodes\n",
    "        self.tree_nodes = list()\n",
    "        for node in graph_nodes.values():\n",
    "            self.tree_nodes.append(node)\n",
    "            self.graph.markNode(algviz.cTomato, node, True)\n",
    "            break\n",
    "        self.viz.display()\n",
    "\n",
    "    def solve(self):\n",
    "        used_edges = list()\n",
    "        while len(self.tree_nodes) < self.nodes_num:\n",
    "            min_edge = None; min_node1 = None; min_node2 = None\n",
    "            for node in self.tree_nodes:\n",
    "                for (neighbor, edge) in node.neighbors():\n",
    "                    if neighbor not in self.tree_nodes:\n",
    "                        if min_edge == None or edge < min_edge:\n",
    "                            min_edge = edge\n",
    "                            min_node1 = node; min_node2 = neighbor\n",
    "            if min_edge == None:\n",
    "                return False\n",
    "            self.graph.markNode(algviz.cTomato, min_node2, True)\n",
    "            self.graph.markEdge(algviz.cRed, min_node1, min_node2, True)\n",
    "            used_edges.append((min_node1, min_node2))\n",
    "            self.tree_nodes.append(min_node2)\n",
    "            self.viz.display()\n",
    "        self.graph.removeMark(algviz.cTomato)\n",
    "        for node in self.graph_nodes.values():\n",
    "            for (neighbor, edge) in node.neighbors():\n",
    "                if (node, neighbor) not in used_edges:\n",
    "                    node.remove(neighbor)\n",
    "        self.viz.display(3)\n",
    "        return True"
   ]
  },
  {
   "cell_type": "code",
   "execution_count": null,
   "metadata": {},
   "outputs": [],
   "source": [
    "nodes1 = [i for i in range(4)]\n",
    "edges1 = [(0, 1, 2), (0, 3, 4), (2, 1, 3), (2, 3, 2), (3, 1, 6)]\n",
    "graph_nodes1 = algviz.parseGraph(nodes1, edges1, directed=False)\n",
    "\n",
    "solver1 = PrimAlgorithm(graph_nodes1)\n",
    "solver1.solve()"
   ]
  },
  {
   "cell_type": "code",
   "execution_count": null,
   "metadata": {},
   "outputs": [],
   "source": [
    "\n",
    "nodes2 = [i for i in range(10)]\n",
    "edges2 = [\n",
    "    (0, 1, 6), (0, 2, 5), (0, 3, 2), (2, 4, 4), (6, 5, 3),\n",
    "    (1, 6, 3), (2, 7, 5), (3, 8, 2), (3, 9, 1), (7, 6, 2),\n",
    "    (4, 8 ,7), (7, 8, 4), (9, 2, 3), (5, 1, 5)\n",
    "]\n",
    "graph_nodes2 = algviz.parseGraph(nodes2, edges2, directed=False)\n",
    "\n",
    "solver2 = PrimAlgorithm(graph_nodes2)\n",
    "solver2.solve()"
   ]
  }
 ],
 "metadata": {
  "kernelspec": {
   "display_name": "Python 3.9.13 ('algviz-public')",
   "language": "python",
   "name": "python3"
  },
  "language_info": {
   "codemirror_mode": {
    "name": "ipython",
    "version": 3
   },
   "file_extension": ".py",
   "mimetype": "text/x-python",
   "name": "python",
   "nbconvert_exporter": "python",
   "pygments_lexer": "ipython3",
   "version": "3.9.13"
  },
  "orig_nbformat": 4,
  "vscode": {
   "interpreter": {
    "hash": "ba530876bec2e6283b9bacba891681e9dff395534db17e3ec46729d6d41aa6cf"
   }
  }
 },
 "nbformat": 4,
 "nbformat_minor": 2
}
