{
 "cells": [
  {
   "cell_type": "markdown",
   "metadata": {},
   "source": [
    "# Reverse linked list\n",
    "\n",
    "Solve the leetcode problem [reverse-linked-list](https://leetcode.com/problems/reverse-linked-list/).\n",
    "\n",
    "## Solution\n",
    "\n",
    "Scan the linked list from head to tail.\n",
    "\n",
    "Use the `h1` and `h2` pointers to record the two adjacent nodes.\n",
    "\n",
    "Do the \"h2->h2\" to \"h1<-h2\" operation while scanning."
   ]
  },
  {
   "cell_type": "code",
   "execution_count": null,
   "metadata": {},
   "outputs": [],
   "source": [
    "import algviz\n",
    "\n",
    "def reverse_linked_list(data):\n",
    "    # Create a visualizer object.\n",
    "    viz = algviz.Visualizer(1)\n",
    "    # Create and display a forward linked list.\n",
    "    head = algviz.parseForwardLinkedList(data)\n",
    "    graph = viz.createGraph(head)\n",
    "    viz.display(1)\n",
    "    # before h1->h2, after h1<-h2\n",
    "    h1 = None\n",
    "    h2 = head\n",
    "    while h2 is not None:\n",
    "        temp = h2.next\n",
    "        h2.next = h1\n",
    "        h1 = h2\n",
    "        h2 = temp\n",
    "        graph.markNode(algviz.cGold, h1)\n",
    "        graph.markNode(algviz.cAqua, h2)\n",
    "        viz.display()\n",
    "    viz.display()\n",
    "\n",
    "data = [1, 2, 3, 4, 5, 6, 7]\n",
    "reverse_linked_list(data)"
   ]
  }
 ],
 "metadata": {
  "kernelspec": {
   "display_name": "Python 3.9.13 ('algviz-public')",
   "language": "python",
   "name": "python3"
  },
  "language_info": {
   "codemirror_mode": {
    "name": "ipython",
    "version": 3
   },
   "file_extension": ".py",
   "mimetype": "text/x-python",
   "name": "python",
   "nbconvert_exporter": "python",
   "pygments_lexer": "ipython3",
   "version": "3.9.13"
  },
  "orig_nbformat": 4,
  "vscode": {
   "interpreter": {
    "hash": "ba530876bec2e6283b9bacba891681e9dff395534db17e3ec46729d6d41aa6cf"
   }
  }
 },
 "nbformat": 4,
 "nbformat_minor": 2
}
