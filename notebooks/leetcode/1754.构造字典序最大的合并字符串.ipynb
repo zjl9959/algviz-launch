{
 "cells": [
  {
   "attachments": {},
   "cell_type": "markdown",
   "metadata": {},
   "source": [
    "# 1754.构造字典序最大的合并字符串\n",
    "\n",
    "本笔记包含力扣题目 [1754.构造字典序最大的合并字符串](https://leetcode.cn/problems/largest-merge-of-two-strings/) 的求解动画演示代码，动画基于 [algviz](https://github.com/zjl9959/algviz) 算法动画引擎实时在线渲染。\n",
    "\n",
    "*相关链接：[algviz 官网](https://algviz.com)，[algviz 安装方式](https://algviz.com/cn/installation.html)，[algviz 使用教程](https://algviz.com/cn/examples.html)， [algviz 接口 API 文档](https://algviz.readthedocs.io/en/latest/)。*"
   ]
  },
  {
   "attachments": {},
   "cell_type": "markdown",
   "metadata": {},
   "source": [
    "## 解题思路\n",
    "\n",
    "【双指针】【贪心算法】\n",
    "\n",
    "双指针从两个字符串的头部开始扫描，如果指针位置处的字符不相等，那么将字典序较大的字符加入到结果中，并更新指针位置。\n",
    "\n",
    "如果指针所指向的两个字符相等，那么我们需要判断哪个字符串中有一个字典序更大子序列，可以通过继续向后扫描来实现。具体操作见下面的动画："
   ]
  },
  {
   "attachments": {},
   "cell_type": "markdown",
   "metadata": {},
   "source": [
    "## 算法演示代码\n",
    "\n",
    "请依次运行下方单元格中的代码来生成可视化动画！👇\n",
    "\n",
    "您可以尝试修改代码中的输入参数，来观察不同情况下的运行动画。\n",
    "\n",
    "*如果您在运行中遇到了报错，麻烦把报错日志提交到这里（[Algviz Github issues](https://github.com/zjl9959/algviz/issues)），也可以直接发我邮箱（zjl9959@gmail.com），谢谢！*"
   ]
  },
  {
   "cell_type": "code",
   "execution_count": null,
   "metadata": {},
   "outputs": [],
   "source": [
    "# 此段代码用于生成题解中的动画，可在本地运行\n",
    "# 动画使用algviz渲染，详情见我主页中的介绍\n",
    "import algviz\n",
    "\n",
    "class Solution(object):\n",
    "    def largestMerge(self, word1, word2):\n",
    "        viz = algviz.Visualizer()\n",
    "        word1 = viz.createVector(word1, 'word1', cell_size=(40, 40), show_index=False)\n",
    "        word2 = viz.createVector(word2, 'word2', cell_size=(40, 40), show_index=False)\n",
    "        merge = viz.createVector(name='Merge', cell_size=(40, 40), show_index=False)\n",
    "        i = viz.createCursor(0, name='i')\n",
    "        j = viz.createCursor(0, name='j')\n",
    "        while i < len(word1) and j < len(word2):\n",
    "            word1.mark(algviz.cTomato, i)\n",
    "            word2.mark(algviz.cTomato, j)\n",
    "            viz.display()\n",
    "            if word1[i] > word2[j]:\n",
    "                merge.append(word1[i])\n",
    "                word1.mark(algviz.cSilver, i, hold=True)\n",
    "                i += 1\n",
    "            elif word2[j] > word1[i]:\n",
    "                merge.append(word2[j])\n",
    "                word2.mark(algviz.cSilver, j, hold=True)\n",
    "                j += 1\n",
    "            else:\n",
    "                for k in range(min(len(word1) - i.index(), len(word2) - j.index())):\n",
    "                    if word1[i + k] > word2[j + k] or (word1[i + k] == word2[j + k] and k + 1 == len(word2) - j.index()):\n",
    "                        merge.append(word1[i])\n",
    "                        word1.mark(algviz.cSilver, i, hold=True)\n",
    "                        i += 1\n",
    "                        break\n",
    "                    elif word2[j + k] > word1[i + k] or (word1[i + k] == word2[j + k] and k + 1 == len(word1) - i.index()):\n",
    "                        merge.append(word2[j])\n",
    "                        word2.mark(algviz.cSilver, j, hold=True)\n",
    "                        j += 1\n",
    "                        break\n",
    "                    word1.mark(algviz.cLime, i + k)\n",
    "                    word2.mark(algviz.cLime, j + k)\n",
    "                    viz.display()\n",
    "                viz.display()\n",
    "        while i < len(word1):\n",
    "            merge.append(word1[i])\n",
    "            word1.mark(algviz.cSilver, i, hold=True)\n",
    "            i += 1\n",
    "            viz.display(0.5)\n",
    "        while j < len(word2):\n",
    "            merge.append(word2[j])\n",
    "            word2.mark(algviz.cSilver, j, hold=True)\n",
    "            j += 1\n",
    "            viz.display(0.5)\n",
    "        return ''.join(merge)"
   ]
  },
  {
   "cell_type": "code",
   "execution_count": null,
   "metadata": {},
   "outputs": [],
   "source": [
    "word1 = \"abcabc\"\n",
    "word2 = \"abdcaba\"\n",
    "print(Solution().largestMerge(word1, word2))"
   ]
  },
  {
   "cell_type": "code",
   "execution_count": null,
   "metadata": {},
   "outputs": [],
   "source": [
    "word1 = \"uuurru\"\n",
    "word2 = \"urrru\"\n",
    "print(Solution().largestMerge(word1, word2))"
   ]
  },
  {
   "attachments": {},
   "cell_type": "markdown",
   "metadata": {},
   "source": [
    "## 可提交版本代码"
   ]
  },
  {
   "cell_type": "code",
   "execution_count": null,
   "metadata": {},
   "outputs": [],
   "source": [
    "class Solution(object):\n",
    "    def largestMerge(self, word1, word2):\n",
    "        \"\"\"\n",
    "        :type word1: str\n",
    "        :type word2: str\n",
    "        :rtype: str\n",
    "        \"\"\"\n",
    "        merge = list()\n",
    "        i = 0\n",
    "        j = 0\n",
    "        while i < len(word1) and j < len(word2):\n",
    "            if word1[i] > word2[j]:\n",
    "                merge.append(word1[i])\n",
    "                i += 1\n",
    "            elif word2[j] > word1[i]:\n",
    "                merge.append(word2[j])\n",
    "                j += 1\n",
    "            else:\n",
    "                for k in range(min(len(word1) - i, len(word2) - j)):\n",
    "                    if word1[i + k] > word2[j + k] or (word1[i + k] == word2[j + k] and k + 1 == len(word2) - j):\n",
    "                        merge.append(word1[i])\n",
    "                        i += 1\n",
    "                        break\n",
    "                    elif word2[j + k] > word1[i + k] or (word1[i + k] == word2[j + k] and k + 1 == len(word1) - i):\n",
    "                        merge.append(word2[j])\n",
    "                        j += 1\n",
    "                        break\n",
    "        while i < len(word1):\n",
    "            merge.append(word1[i])\n",
    "            i += 1\n",
    "        while j < len(word2):\n",
    "            merge.append(word2[j])\n",
    "            j += 1\n",
    "        return ''.join(merge)"
   ]
  }
 ],
 "metadata": {
  "kernelspec": {
   "display_name": "algviz-public",
   "language": "python",
   "name": "python3"
  },
  "language_info": {
   "codemirror_mode": {
    "name": "ipython",
    "version": 3
   },
   "file_extension": ".py",
   "mimetype": "text/x-python",
   "name": "python",
   "nbconvert_exporter": "python",
   "pygments_lexer": "ipython3",
   "version": "3.9.13"
  },
  "orig_nbformat": 4,
  "vscode": {
   "interpreter": {
    "hash": "ba530876bec2e6283b9bacba891681e9dff395534db17e3ec46729d6d41aa6cf"
   }
  }
 },
 "nbformat": 4,
 "nbformat_minor": 2
}
