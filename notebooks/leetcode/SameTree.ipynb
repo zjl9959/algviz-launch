{
 "cells": [
  {
   "cell_type": "markdown",
   "metadata": {},
   "source": [
    "# Problem description\n",
    "\n",
    "This notebook shows the algorithm running process to solves the [SameTree](https://leetcode.com/problems/same-tree/) problem."
   ]
  },
  {
   "cell_type": "code",
   "execution_count": null,
   "metadata": {},
   "outputs": [],
   "source": [
    "import algviz\n",
    "\n",
    "class solver:\n",
    "    def __init__(self):\n",
    "        pass\n",
    "\n",
    "    def run(self, tree1_info, tree2_info):\n",
    "        self.viz = algviz.Visualizer()\n",
    "        tree1_root = algviz.parseBinaryTree(tree1_info)\n",
    "        tree2_root = algviz.parseBinaryTree(tree2_info)\n",
    "        self.tree1 = self.viz.createGraph(tree1_root, 'tree1')\n",
    "        self.tree2 = self.viz.createGraph(tree2_root, 'tree2')\n",
    "        return self.isSameTree(tree1_root, tree2_root)\n",
    "\n",
    "    def isSameTree(self, p, q):\n",
    "        self.tree1.markNode(algviz.color_silver, p, True)\n",
    "        self.tree2.markNode(algviz.color_silver, q, True)\n",
    "        if p == None and q == None:\n",
    "            return True\n",
    "        elif p == None:\n",
    "            self.tree2.markNode(algviz.color_red, q)\n",
    "            self.viz.display()\n",
    "            return False\n",
    "        elif q == None:\n",
    "            self.tree1.markNode(algviz.color_red, p)\n",
    "            self.viz.display()\n",
    "            return False\n",
    "        elif p.val == q.val:\n",
    "            self.tree1.markNode(algviz.color_green, p)\n",
    "            self.tree2.markNode(algviz.color_green, q)\n",
    "            self.viz.display()\n",
    "            return self.isSameTree(p.left, q.left) and self.isSameTree(p.right, q.right)\n",
    "        else:\n",
    "            self.tree1.markNode(algviz.color_red, p)\n",
    "            self.tree2.markNode(algviz.color_red, q)\n",
    "            self.viz.display()\n",
    "            return False"
   ]
  },
  {
   "cell_type": "code",
   "execution_count": null,
   "metadata": {},
   "outputs": [],
   "source": [
    "# Example 1 (a true case):\n",
    "\n",
    "solver().run([1, 2, 3, 4, None, 5, 6], [1, 2, 3, 4, None, 5, 6])"
   ]
  },
  {
   "cell_type": "code",
   "execution_count": null,
   "metadata": {},
   "outputs": [],
   "source": [
    "# Example 2 (a false case with different tree nodes value):\n",
    "\n",
    "solver().run([1, 2, 7, 4, None, 5, 6], [1, 2, 3, 4, None, 5, 6])"
   ]
  },
  {
   "cell_type": "code",
   "execution_count": null,
   "metadata": {},
   "outputs": [],
   "source": [
    "# Example 3 (a false case with different shaped trees)\n",
    "\n",
    "solver().run([1, 2, 3, 4, None, 5, 6], [1, 2, 3, 4, None, None, 6])"
   ]
  }
 ],
 "metadata": {
  "kernelspec": {
   "display_name": "Python 3.9.13 ('algviz-server')",
   "language": "python",
   "name": "python3"
  },
  "language_info": {
   "codemirror_mode": {
    "name": "ipython",
    "version": 3
   },
   "file_extension": ".py",
   "mimetype": "text/x-python",
   "name": "python",
   "nbconvert_exporter": "python",
   "pygments_lexer": "ipython3",
   "version": "3.9.13"
  },
  "orig_nbformat": 4,
  "vscode": {
   "interpreter": {
    "hash": "1637f6fe889c01d7407cfcf109b1d41815d8a43dc2c175a869be989182487f41"
   }
  }
 },
 "nbformat": 4,
 "nbformat_minor": 2
}
