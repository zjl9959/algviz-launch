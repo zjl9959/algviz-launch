{
 "cells": [
  {
   "cell_type": "markdown",
   "metadata": {},
   "source": [
    "# Classic\n",
    "\n",
    "|  Notebook  |   Description   |  Animation  |\n",
    "| :-----:  | :-----: | :-----:   |\n",
    "|  [BubbleSort.ipynb](classic/BubbleSort.ipynb)   | Implement of the [bubble sort](https://en.wikipedia.org/wiki/Bubble_sort) algorithm. |  <img src=\"https://cdn.jsdelivr.net/gh/zjl9959/algviz-launch@master/svgs/BubbleSort_sec.svg\" width=120px/> |"
   ]
  },
  {
   "cell_type": "markdown",
   "metadata": {},
   "source": [
    "# Backtracking\n",
    "\n",
    "|  Notebook    |  Description   |  Animation  |\n",
    "| :-----:   | :-----:  | :-----:   |\n",
    "| [Fibonacci.ipynb](backtracking/Fibonacci.ipynb) | Calculate the [fibonacci number](https://en.wikipedia.org/wiki/Fibonacci_number). | <img src=\"https://cdn.jsdelivr.net/gh/zjl9959/algviz-launch@master/svgs/Fibonacci_sec.svg\" height=120px /> |\n",
    "|  [NQueens.ipynb](backtracking/NQueens.ipynb)   | The algorithm to solve the [NQueens](https://leetcode.com/problems/n-queens/) problem. |  <img src=\"https://cdn.jsdelivr.net/gh/zjl9959/algviz-launch@master/svgs/NQueens_sec.svg\" height=120px /> |"
   ]
  },
  {
   "cell_type": "markdown",
   "metadata": {},
   "source": [
    "# Linked list\n",
    "\n",
    "|  Notebook    |  Description   |  Animation  |\n",
    "| :-----:   | :-----:  | :-----:   |\n",
    "| [find_middle_node_in_linked_list.ipynb](linked_list/find_middle_node_in_linked_list.ipynb) | Algorithm to find the middle node in a linked list. | - |\n",
    "| [ReverseLinkedList](linked_list/ReverseLinkedList.ipynb)   | - | - |"
   ]
  },
  {
   "cell_type": "markdown",
   "metadata": {},
   "source": [
    "# Tree\n",
    "\n",
    "|  Notebook    |  Description   |  Animation  |\n",
    "| :-----:   | :-----:  | :-----:   |\n",
    "| [TraverseBinaryTree.ipynb](tree/TraverseBinaryTree.ipynb) | - | - |\n",
    "| [TrieTree.ipynb](tree/TrieTree.ipynb) | - | - |\n",
    "| [MirrorBinaryTree.ipynb](tree/MirrorBinaryTree.ipynb) | - | - |"
   ]
  },
  {
   "cell_type": "markdown",
   "metadata": {},
   "source": [
    "# Graph\n",
    "\n",
    "|  Notebook    |  Description   |  Animation  |\n",
    "| :-----:   | :-----:  | :-----:   |\n",
    "| [TopologicalSorting.ipynb](graph/TopologicalSorting.ipynb) | - | - |\n",
    "| [Dijkstra.ipynb](graph/Dijkstra.ipynb) | - | - |\n",
    "| [Floyd.ipynb](graph/Floyd.ipynb) | - | - |\n",
    "| [Kruskal.ipynb](graph/Kruskal.ipynb) | - | - |\n",
    "| [Prim.ipynb](graph/Prim.ipynb) | - | - |"
   ]
  },
  {
   "cell_type": "markdown",
   "metadata": {},
   "source": [
    "# Leetcode\n",
    "\n",
    "|  Notebook    |  Description   |  Animation  |\n",
    "| :-----:   | :-----:  | :-----:   |\n",
    "| [SameTree.ipynb](leetcode/SameTree.ipynb) | - | - |\n",
    "| [SmallestNumberinInfiniteSet.ipynb](leetcode/SmallestNumberinInfiniteSet.ipynb) | - | - |"
   ]
  }
 ],
 "metadata": {
  "kernelspec": {
   "display_name": "Python 3.9.13 ('algviz-public')",
   "language": "python",
   "name": "python3"
  },
  "language_info": {
   "name": "python",
   "version": "3.9.13"
  },
  "orig_nbformat": 4,
  "vscode": {
   "interpreter": {
    "hash": "ba530876bec2e6283b9bacba891681e9dff395534db17e3ec46729d6d41aa6cf"
   }
  }
 },
 "nbformat": 4,
 "nbformat_minor": 2
}
