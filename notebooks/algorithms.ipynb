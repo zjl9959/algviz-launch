{
 "cells": [
  {
   "cell_type": "markdown",
   "metadata": {},
   "source": [
    "# Classic\n",
    "\n",
    "|  Notebook  |   Description   |  Animation  |\n",
    "| :-----:  | :-----: | :-----:   |\n",
    "|  [BubbleSort.ipynb](notebooks/classic/BubbleSort.ipynb)   | Implement of the [bubble sort](https://en.wikipedia.org/wiki/Bubble_sort) algorithm. |  ![bubble_sort_example](https://cdn.jsdelivr.net/gh/zjl9959/algviz-launch@master/svgs/BubbleSort_sec.svg) |"
   ]
  },
  {
   "cell_type": "markdown",
   "metadata": {},
   "source": [
    "# Backtracking\n",
    "\n",
    "|  Notebook    |  Description   |  Animation  |\n",
    "| :-----:   | :-----:  | :-----:   |\n",
    "|  [NQueens.ipynb](notebooks/backtracking/NQueens.ipynb)   | The algorithm to solve the [NQueens](https://leetcode.com/problems/n-queens/) problem. |  ![NQueens](https://cdn.jsdelivr.net/gh/zjl9959/algviz-launch@master/svgs/NQueens_sec.svg) |"
   ]
  },
  {
   "cell_type": "markdown",
   "metadata": {},
   "source": [
    "# Linked list\n",
    "\n",
    "TODO"
   ]
  },
  {
   "cell_type": "markdown",
   "metadata": {},
   "source": [
    "# Tree\n",
    "\n",
    "TODO"
   ]
  },
  {
   "cell_type": "markdown",
   "metadata": {},
   "source": [
    "\n",
    "# Graph\n",
    "\n",
    "TODO"
   ]
  },
  {
   "cell_type": "markdown",
   "metadata": {},
   "source": [
    "# Leetcode\n",
    "\n",
    "TODO"
   ]
  }
 ],
 "metadata": {
  "kernelspec": {
   "display_name": "Python 3.9.13 ('algviz-server')",
   "language": "python",
   "name": "python3"
  },
  "language_info": {
   "name": "python",
   "version": "3.9.13"
  },
  "orig_nbformat": 4,
  "vscode": {
   "interpreter": {
    "hash": "1637f6fe889c01d7407cfcf109b1d41815d8a43dc2c175a869be989182487f41"
   }
  }
 },
 "nbformat": 4,
 "nbformat_minor": 2
}
