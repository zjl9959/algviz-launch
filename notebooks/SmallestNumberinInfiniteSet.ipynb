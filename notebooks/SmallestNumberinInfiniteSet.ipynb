{
 "cells": [
  {
   "cell_type": "code",
   "execution_count": null,
   "metadata": {},
   "outputs": [],
   "source": [
    "import algviz\n",
    "\n",
    "class SmallestInfiniteSet:\n",
    "    def __init__(self):\n",
    "        self.pp = None      # Pop pointer.\n",
    "        self.v2l = dict()   # Value map list.\n",
    "        self.viz = algviz.Visualizer()\n",
    "        self.pp = algviz.DoublyLinkedListNode(0)\n",
    "        self.li = self.viz.createGraph(self.pp, name='Doubly-linked list')\n",
    "        self.log = self.viz.createLogger(5, name='Simulation log')\n",
    "        self.res = self.viz.createVector(name='Results', cell_size=(25, 25))\n",
    "\n",
    "    def popSmallest(self) -> int:\n",
    "        res = self.pp.val + 1\n",
    "        node = algviz.DoublyLinkedListNode(res, self.pp, self.pp.next)\n",
    "        if self.pp.next != None:\n",
    "            self.pp.next.prev = node\n",
    "            self.pp.next = node\n",
    "            self.v2l[res] = node\n",
    "        else:\n",
    "            self.pp.next = node\n",
    "            self.v2l[res] = node\n",
    "        self.log.write('New node:{}'.format(res))\n",
    "        self.updatePopPointer()\n",
    "        self.log.write(\"popSmallest -> {}\".format(res))\n",
    "        self.res.append(res)\n",
    "        self.update_display()\n",
    "        return res\n",
    "\n",
    "    def update_display(self, delay=2.0):\n",
    "        self.li.markNode(algviz.color_green, self.pp)\n",
    "        self.viz.display(delay=delay)\n",
    "        self.log.clear()\n",
    "        \n",
    "    def updatePopPointer(self):\n",
    "        while self.pp != None and self.pp.next != None:\n",
    "            if self.pp.val + 1 == self.pp.next.val:\n",
    "                self.pp = self.pp.next\n",
    "                self.li.markNode(algviz.color_green, self.pp)\n",
    "                self.log.write('updatePopPointer:{}'.format(self.pp.val))\n",
    "                self.update_display()\n",
    "            else:\n",
    "                break\n",
    "\n",
    "    def addBack(self, num: int) -> None:\n",
    "        self.log.write(\"addBack(num:{})\".format(num))\n",
    "        if num not in self.v2l:\n",
    "            self.update_display()\n",
    "            return\n",
    "        node = self.v2l[num]\n",
    "        self.li.markNode(algviz.color_blue, node)\n",
    "        self.v2l.pop(num)\n",
    "        if self.pp.val >= node.val:\n",
    "            self.pp = node.prev\n",
    "        if node.prev:\n",
    "            node.prev.next = node.next\n",
    "        if node.next:\n",
    "            node.next.prev = node.prev\n",
    "        self.log.write('Remove node:{}'.format(num))\n",
    "        self.li.removeNode(node)\n",
    "        self.res.append(None)\n",
    "        self.update_display(3)"
   ]
  },
  {
   "cell_type": "code",
   "execution_count": null,
   "metadata": {},
   "outputs": [],
   "source": [
    "solver = SmallestInfiniteSet()\n",
    "solver.addBack(2)\n",
    "solver.popSmallest()\n",
    "solver.popSmallest()\n",
    "solver.popSmallest()\n",
    "solver.addBack(1)\n",
    "solver.popSmallest()\n",
    "solver.popSmallest()\n",
    "solver.popSmallest()"
   ]
  },
  {
   "cell_type": "code",
   "execution_count": null,
   "metadata": {},
   "outputs": [],
   "source": [
    "solver = SmallestInfiniteSet()\n",
    "solver.popSmallest()\n",
    "solver.addBack(1)\n",
    "solver.popSmallest()\n",
    "solver.popSmallest()\n",
    "solver.popSmallest()\n",
    "solver.addBack(2)\n",
    "solver.addBack(3)\n",
    "solver.popSmallest()\n",
    "solver.popSmallest()"
   ]
  }
 ],
 "metadata": {
  "kernelspec": {
   "display_name": "Python 3.9.6 64-bit",
   "language": "python",
   "name": "python3"
  },
  "language_info": {
   "codemirror_mode": {
    "name": "ipython",
    "version": 3
   },
   "file_extension": ".py",
   "mimetype": "text/x-python",
   "name": "python",
   "nbconvert_exporter": "python",
   "pygments_lexer": "ipython3",
   "version": "3.9.6"
  },
  "orig_nbformat": 4,
  "vscode": {
   "interpreter": {
    "hash": "815ac738e0f697bd51fd06b8a1fd40126c4f0901e89f12f4abca109931f98f14"
   }
  }
 },
 "nbformat": 4,
 "nbformat_minor": 2
}
