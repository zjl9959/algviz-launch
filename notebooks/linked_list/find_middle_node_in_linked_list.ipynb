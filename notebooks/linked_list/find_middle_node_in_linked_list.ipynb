{
 "cells": [
  {
   "cell_type": "code",
   "execution_count": null,
   "metadata": {},
   "outputs": [],
   "source": [
    "import algviz\n",
    "\n",
    "# Create a visualizer object.\n",
    "viz = algviz.Visualizer(2.0)\n",
    "# Create and display a forward linked list.\n",
    "data = [1, 2, 3, 4, 5, 6, 7]\n",
    "head = algviz.parseForwardLinkedList(data)\n",
    "graph = viz.createGraph(head)\n",
    "viz.display()\n",
    "# Find the middle positon of linked list.\n",
    "tr1 = tr2 = head\n",
    "while tr1 is not None and tr1.next is not None:\n",
    "    tr1 = tr1.next.next\n",
    "    tr2 = tr2.next\n",
    "    graph.markNode(algviz.color_pink, tr1, False)\n",
    "    graph.markNode(algviz.color_spring_green, tr2, False)\n",
    "    viz.display()"
   ]
  }
 ],
 "metadata": {
  "kernelspec": {
   "display_name": "Python 3.9.13 ('algviz-public')",
   "language": "python",
   "name": "python3"
  },
  "language_info": {
   "codemirror_mode": {
    "name": "ipython",
    "version": 3
   },
   "file_extension": ".py",
   "mimetype": "text/x-python",
   "name": "python",
   "nbconvert_exporter": "python",
   "pygments_lexer": "ipython3",
   "version": "3.9.13"
  },
  "orig_nbformat": 4,
  "vscode": {
   "interpreter": {
    "hash": "ba530876bec2e6283b9bacba891681e9dff395534db17e3ec46729d6d41aa6cf"
   }
  }
 },
 "nbformat": 4,
 "nbformat_minor": 2
}
