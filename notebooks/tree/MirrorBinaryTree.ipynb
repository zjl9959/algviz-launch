{
 "cells": [
  {
   "cell_type": "code",
   "execution_count": null,
   "metadata": {},
   "outputs": [],
   "source": [
    "import algviz\n",
    "\n",
    "# Create a visualizer object.\n",
    "viz = algviz.Visualizer(3.0)\n",
    "# Create a binary tree.\n",
    "tree_nodes = [1,\n",
    "              2, 3,\n",
    "              4, 5, 6, 7,\n",
    "              8, None, 9, None, None, None, 10, 11]\n",
    "root = algviz.parseBinaryTree(tree_nodes)\n",
    "graph = viz.createGraph(root)\n",
    "viz.display()\n",
    "\n",
    "# This rescursive function implement a mirror algorithm.\n",
    "def mirror_tree(root):\n",
    "    if root is None:\n",
    "        return None\n",
    "    graph.markNode(algviz.color_silver, root, True)\n",
    "    graph.markNode(algviz.color_lime, root)\n",
    "    left_subtree = None\n",
    "    if root.left:\n",
    "        left_subtree = mirror_tree(root.left)\n",
    "    right_subtree = None\n",
    "    if root.right:\n",
    "        right_subtree = mirror_tree(root.right)\n",
    "    root.left = right_subtree\n",
    "    root.right = left_subtree\n",
    "    viz.display()       # Display the newest tree when we swap it's subtrees.\n",
    "    return root\n",
    "# Mirror tree from root node.\n",
    "mirror_tree(root)\n",
    "viz.display(delay=1.0)"
   ]
  }
 ],
 "metadata": {
  "kernelspec": {
   "display_name": "Python 3.9.13 ('algviz-public')",
   "language": "python",
   "name": "python3"
  },
  "language_info": {
   "codemirror_mode": {
    "name": "ipython",
    "version": 3
   },
   "file_extension": ".py",
   "mimetype": "text/x-python",
   "name": "python",
   "nbconvert_exporter": "python",
   "pygments_lexer": "ipython3",
   "version": "3.9.13"
  },
  "orig_nbformat": 4,
  "vscode": {
   "interpreter": {
    "hash": "ba530876bec2e6283b9bacba891681e9dff395534db17e3ec46729d6d41aa6cf"
   }
  }
 },
 "nbformat": 4,
 "nbformat_minor": 2
}
