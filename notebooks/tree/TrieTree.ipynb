{
 "cells": [
  {
   "cell_type": "code",
   "execution_count": null,
   "metadata": {},
   "outputs": [],
   "source": [
    "import algviz\n",
    "\n",
    "str_list = ['b', 'abc', 'abd', 'bcd', 'abcd', 'efg', 'hii']\n",
    "\n",
    "# Create a visualizer object.\n",
    "viz = algviz.Visualizer(3)\n",
    "root = algviz.TreeNode('root')\n",
    "graph = viz.createGraph(root)\n",
    "\n",
    "# Construct trie tree step by step.\n",
    "for s in str_list:\n",
    "    cur = root\n",
    "    for c in s:\n",
    "        child_pos = None\n",
    "        for child in cur.children():\n",
    "            if str(child) == c:\n",
    "                child_pos = child\n",
    "                break\n",
    "        if not child_pos:\n",
    "            child_pos = algviz.TreeNode(c)\n",
    "            cur.add(child_pos)\n",
    "        cur = child_pos\n",
    "        graph.markNode(algviz.color_aqua, cur)\n",
    "        viz.display()\n",
    "viz.display()"
   ]
  }
 ],
 "metadata": {
  "kernelspec": {
   "display_name": "Python 3.9.13 ('algviz-public')",
   "language": "python",
   "name": "python3"
  },
  "language_info": {
   "codemirror_mode": {
    "name": "ipython",
    "version": 3
   },
   "file_extension": ".py",
   "mimetype": "text/x-python",
   "name": "python",
   "nbconvert_exporter": "python",
   "pygments_lexer": "ipython3",
   "version": "3.9.13"
  },
  "orig_nbformat": 4,
  "vscode": {
   "interpreter": {
    "hash": "ba530876bec2e6283b9bacba891681e9dff395534db17e3ec46729d6d41aa6cf"
   }
  }
 },
 "nbformat": 4,
 "nbformat_minor": 2
}
