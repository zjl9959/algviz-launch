{
 "cells": [
  {
   "cell_type": "markdown",
   "metadata": {},
   "source": [
    "# TrieTree"
   ]
  },
  {
   "cell_type": "markdown",
   "metadata": {},
   "source": [
    "This notebook shows how to construct a [trie tree](https://en.wikipedia.org/wiki/Trie) with a list of known strings and then shows how to use the trie tree to match a given string."
   ]
  },
  {
   "cell_type": "code",
   "execution_count": null,
   "metadata": {},
   "outputs": [],
   "source": [
    "import algviz\n",
    "\n",
    "class TrieTree:\n",
    "    def __init__(self, str_list):\n",
    "        self.viz = algviz.Visualizer(1)\n",
    "        table_cols = 0\n",
    "        for s in str_list:\n",
    "            table_cols = max(table_cols, len(s))\n",
    "        self.table = self.viz.createTable(len(str_list), table_cols, str_list, 'String list to construct trie tree', cell_size=(20, 20))\n",
    "        self.root = algviz.TreeNode('root')\n",
    "        self.graph = self.viz.createGraph(self.root)\n",
    "        self.s = self.viz.createVector(name='String to match', cell_size=(20, 20))\n",
    "        self.construct(str_list)\n",
    "\n",
    "    def construct(self, str_list):\n",
    "        for i in range(len(str_list)):\n",
    "            cur = self.root\n",
    "            for j in range(len(str_list[i])):\n",
    "                child_pos = None\n",
    "                for child in cur.children():\n",
    "                    if str(child) == str_list[i][j]:\n",
    "                        child_pos = child\n",
    "                        break\n",
    "                if not child_pos:\n",
    "                    child_pos = algviz.TreeNode(str_list[i][j])\n",
    "                    cur.add(child_pos)\n",
    "                cur = child_pos\n",
    "                self.table.mark(algviz.cAqua, i, j)\n",
    "                self.graph.markNode(algviz.cAqua, cur)\n",
    "                self.viz.display()\n",
    "        self.viz.display()\n",
    "\n",
    "    def match(self, s):\n",
    "        self.graph.removeMark(algviz.cLime)\n",
    "        self.s.clear()\n",
    "        for c in s:\n",
    "            self.s.append(c)\n",
    "        cur = self.root\n",
    "        i = 0\n",
    "        while i < len(s):\n",
    "            match = False\n",
    "            self.s.removeMark(algviz.cLime)\n",
    "            self.s.mark(algviz.cLime, i, True)\n",
    "            for child in cur.children():\n",
    "                if child.val == s[i]:\n",
    "                    cur = child\n",
    "                    i += 1\n",
    "                    match = True\n",
    "                    self.graph.markNode(algviz.cLime, cur, True)\n",
    "                    self.viz.display()\n",
    "                    break\n",
    "                else:\n",
    "                    self.graph.markNode(algviz.cSilver, child)\n",
    "                    self.viz.display(0.5)\n",
    "            if not match:\n",
    "                return False\n",
    "        return i == len(s)"
   ]
  },
  {
   "cell_type": "code",
   "execution_count": null,
   "metadata": {},
   "outputs": [],
   "source": [
    "# Construct a tire tree.\n",
    "str_list = ['abc', 'abd', 'bcd', 'bce']\n",
    "trie_tree = TrieTree(str_list)"
   ]
  },
  {
   "cell_type": "code",
   "execution_count": null,
   "metadata": {},
   "outputs": [],
   "source": [
    "# Match a string: True case\n",
    "s1 = 'abd'\n",
    "print('Match str:{} result is:{}'.format(s1, trie_tree.match(s1)))"
   ]
  },
  {
   "cell_type": "code",
   "execution_count": null,
   "metadata": {},
   "outputs": [],
   "source": [
    "# Match a string: False case\n",
    "s2 = 'bca'\n",
    "print('Match str:{} result is:{}'.format(s2, trie_tree.match(s2)))"
   ]
  }
 ],
 "metadata": {
  "kernelspec": {
   "display_name": "Python 3.9.13 ('algviz-public')",
   "language": "python",
   "name": "python3"
  },
  "language_info": {
   "codemirror_mode": {
    "name": "ipython",
    "version": 3
   },
   "file_extension": ".py",
   "mimetype": "text/x-python",
   "name": "python",
   "nbconvert_exporter": "python",
   "pygments_lexer": "ipython3",
   "version": "3.9.13"
  },
  "orig_nbformat": 4,
  "vscode": {
   "interpreter": {
    "hash": "ba530876bec2e6283b9bacba891681e9dff395534db17e3ec46729d6d41aa6cf"
   }
  }
 },
 "nbformat": 4,
 "nbformat_minor": 2
}
