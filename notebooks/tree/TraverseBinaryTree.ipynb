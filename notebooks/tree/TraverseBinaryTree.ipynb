{
 "cells": [
  {
   "cell_type": "markdown",
   "metadata": {},
   "source": [
    "# Traverse binary tree"
   ]
  },
  {
   "cell_type": "markdown",
   "metadata": {},
   "source": [
    "Please run all the cells in order and you can see different ways to traverse a binary tree.\n",
    "\n",
    "You can change the input tree by modifying the `tree_nodes` variable."
   ]
  },
  {
   "cell_type": "code",
   "execution_count": null,
   "metadata": {},
   "outputs": [],
   "source": [
    "import algviz\n",
    "\n",
    "'''Binary tree:\n",
    "          1\n",
    "        /   \\\n",
    "      2       3\n",
    "     / \\     / \\\n",
    "    4   5   6   7\n",
    "'''\n",
    "tree_nodes = [1, 2, 3, 4, 5, 6, 7]"
   ]
  },
  {
   "cell_type": "markdown",
   "metadata": {},
   "source": [
    "## Depth first search"
   ]
  },
  {
   "cell_type": "code",
   "execution_count": null,
   "metadata": {},
   "outputs": [],
   "source": [
    "class DFS:                                  # This is the base class\n",
    "    def __init__(self, tree_nodes):\n",
    "        self.root = algviz.parseBinaryTree(tree_nodes)\n",
    "        self.viz = algviz.Visualizer(1.0)\n",
    "        self.graph = self.viz.createGraph(self.root)\n",
    "        self.viz.display()\n",
    "        self.solve(self.root)"
   ]
  },
  {
   "cell_type": "markdown",
   "metadata": {},
   "source": [
    "## Preorder traversal\n",
    "\n",
    "Traversal sequence root->left->right."
   ]
  },
  {
   "cell_type": "code",
   "execution_count": null,
   "metadata": {},
   "outputs": [],
   "source": [
    "class Preorder(DFS):\n",
    "    def __init__(self, tree_nodes):\n",
    "        super().__init__(tree_nodes)\n",
    "\n",
    "    def solve(self, root):\n",
    "        if root is not None:\n",
    "            self.graph.markNode(algviz.cSilver, root, True)    # Mark root node.\n",
    "            self.viz.display()\n",
    "            self.solve(root.left)       # Visit left sub tree.\n",
    "            self.solve(root.right)      # Visit right sub tree.\n",
    "\n",
    "dfs_preorder = Preorder(tree_nodes)"
   ]
  },
  {
   "cell_type": "markdown",
   "metadata": {},
   "source": [
    "## Inorder traversal\n",
    "\n",
    "Traversal sequence left->root->right."
   ]
  },
  {
   "cell_type": "code",
   "execution_count": null,
   "metadata": {},
   "outputs": [],
   "source": [
    "class Inorder(DFS):\n",
    "    def __init__(self, tree_nodes):\n",
    "        super().__init__(tree_nodes)\n",
    "\n",
    "    def solve(self, root):\n",
    "        if root is not None:\n",
    "            self.solve(root.left)       # Visit left sub tree.\n",
    "            self.graph.markNode(algviz.cSilver, root, True)    # Mark root node.\n",
    "            self.viz.display()\n",
    "            self.solve(root.right)      # Visit right sub tree.\n",
    "\n",
    "dfs_inorder = Inorder(tree_nodes)"
   ]
  },
  {
   "cell_type": "markdown",
   "metadata": {},
   "source": [
    "## Post order traversal\n",
    "\n",
    "Traversal sequence left->right->root."
   ]
  },
  {
   "cell_type": "code",
   "execution_count": null,
   "metadata": {},
   "outputs": [],
   "source": [
    "class Postorder(DFS):\n",
    "    def __init__(self, tree_nodes):\n",
    "        super().__init__(tree_nodes)\n",
    "\n",
    "    def solve(self, root):\n",
    "        if root is not None:\n",
    "            self.solve(root.left)       # Visit left sub tree.\n",
    "            self.solve(root.right)      # Visit right sub tree.\n",
    "            self.graph.markNode(algviz.cSilver, root, True)    # Mark root node.\n",
    "            self.viz.display()\n",
    "\n",
    "dfs_postorder = Postorder(tree_nodes)"
   ]
  },
  {
   "cell_type": "markdown",
   "metadata": {},
   "source": [
    "# Breadth-first search"
   ]
  },
  {
   "cell_type": "code",
   "execution_count": null,
   "metadata": {},
   "outputs": [],
   "source": [
    "class BFS:\n",
    "    def __init__(self, tree_nodes):\n",
    "        self.root = algviz.parseBinaryTree(tree_nodes)\n",
    "        self.viz = algviz.Visualizer(1.0)\n",
    "        self.graph = self.viz.createGraph(self.root)\n",
    "        self.queue = self.viz.createVector(name='Queue', data=[self.root])\n",
    "        self.viz.display()\n",
    "        \n",
    "    def solve(self):\n",
    "        while len(self.queue) != 0:\n",
    "            root = self.queue.pop(0)\n",
    "            self.graph.markNode(algviz.cSilver, root, True)    # Mark root node.\n",
    "            self.viz.display(2)\n",
    "            if root.left:\n",
    "                self.queue.append(root.left)\n",
    "                self.graph.markNode(algviz.cGold, root.left)\n",
    "                self.queue.mark(algviz.cGold, len(self.queue)-1)\n",
    "            if root.right:\n",
    "                self.queue.append(root.right)\n",
    "                self.graph.markNode(algviz.cAqua, root.right)\n",
    "                self.queue.mark(algviz.cAqua, len(self.queue)-1)\n",
    "            self.viz.display()\n",
    "\n",
    "bfs = BFS(tree_nodes).solve()"
   ]
  }
 ],
 "metadata": {
  "kernelspec": {
   "display_name": "Python 3.9.13 ('algviz-public')",
   "language": "python",
   "name": "python3"
  },
  "language_info": {
   "codemirror_mode": {
    "name": "ipython",
    "version": 3
   },
   "file_extension": ".py",
   "mimetype": "text/x-python",
   "name": "python",
   "nbconvert_exporter": "python",
   "pygments_lexer": "ipython3",
   "version": "3.9.13"
  },
  "orig_nbformat": 4,
  "vscode": {
   "interpreter": {
    "hash": "ba530876bec2e6283b9bacba891681e9dff395534db17e3ec46729d6d41aa6cf"
   }
  }
 },
 "nbformat": 4,
 "nbformat_minor": 2
}
