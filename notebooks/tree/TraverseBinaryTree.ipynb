{
 "cells": [
  {
   "cell_type": "code",
   "execution_count": null,
   "metadata": {},
   "outputs": [],
   "source": [
    "import algviz\n",
    "\n",
    "# Create a visualizer object.\n",
    "viz = algviz.Visualizer(2.0)\n",
    "\n",
    "'''\n",
    "Create a binary tree like this:\n",
    "        1\n",
    "       / \\\n",
    "      2   3\n",
    "     / \\   \\\n",
    "    4   5   6\n",
    "'''\n",
    "tree_nodes = [1, 2, 3, 4, 5, None, 6]\n",
    "root = algviz.parseBinaryTree(tree_nodes)\n",
    "graph = viz.createGraph(root)\n",
    "viz.display()\n",
    "\n",
    "# This rescursive function implement the binary tree traverse algorithm.\n",
    "def traverse_tree(root):\n",
    "    if root is not None:\n",
    "        root.val\n",
    "        graph.markNode(algviz.color_silver, root, True)\n",
    "        viz.display()\n",
    "        traverse_tree(root.left)\n",
    "        traverse_tree(root.right)\n",
    "\n",
    "# Traverse tree from root node.\n",
    "traverse_tree(root)"
   ]
  }
 ],
 "metadata": {
  "kernelspec": {
   "display_name": "Python 3.9.13 ('algviz-public')",
   "language": "python",
   "name": "python3"
  },
  "language_info": {
   "codemirror_mode": {
    "name": "ipython",
    "version": 3
   },
   "file_extension": ".py",
   "mimetype": "text/x-python",
   "name": "python",
   "nbconvert_exporter": "python",
   "pygments_lexer": "ipython3",
   "version": "3.9.13"
  },
  "orig_nbformat": 4,
  "vscode": {
   "interpreter": {
    "hash": "ba530876bec2e6283b9bacba891681e9dff395534db17e3ec46729d6d41aa6cf"
   }
  }
 },
 "nbformat": 4,
 "nbformat_minor": 2
}
