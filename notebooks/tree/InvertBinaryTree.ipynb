{
 "cells": [
  {
   "cell_type": "markdown",
   "metadata": {},
   "source": [
    "# Invert binary tree\n",
    "\n",
    "Solve the leetcode problem [invert binary tree](https://leetcode.com/problems/invert-binary-tree/)."
   ]
  },
  {
   "cell_type": "code",
   "execution_count": null,
   "metadata": {},
   "outputs": [],
   "source": [
    "import algviz\n",
    "\n",
    "# Create a binary tree.\n",
    "tree_nodes = [1,\n",
    "              2, 3,\n",
    "              4, 5, 6, 7,\n",
    "              8, None, 9, None, None, None, 10, 11]\n",
    "root = algviz.parseBinaryTree(tree_nodes)\n",
    "\n",
    "viz = algviz.Visualizer(1)\n",
    "graph = viz.createGraph(root)\n",
    "viz.display()\n",
    "\n",
    "# This rescursive function implement the invert binary tree algorithm.\n",
    "def invert_binary_tree(root):\n",
    "    if root is None:\n",
    "        return None\n",
    "    graph.markNode(algviz.color_silver, root, True)\n",
    "    graph.markNode(algviz.color_lime, root)\n",
    "    viz.display()\n",
    "    left_subtree = None                         # Cache the left subtree for later usage.\n",
    "    if root.left:\n",
    "        left_subtree = invert_binary_tree(root.left)\n",
    "    right_subtree = None                        # Cache the right subtree for later usage.\n",
    "    if root.right:\n",
    "        right_subtree = invert_binary_tree(root.right)\n",
    "    root.left = right_subtree\n",
    "    root.right = left_subtree\n",
    "    viz.display(2)       # Display the newest tree when we swap it's subtrees.\n",
    "    return root\n",
    "\n",
    "# Start from root node.\n",
    "invert_binary_tree(root)\n",
    "viz.display(delay=1.0)"
   ]
  }
 ],
 "metadata": {
  "kernelspec": {
   "display_name": "Python 3.9.13 ('algviz-public')",
   "language": "python",
   "name": "python3"
  },
  "language_info": {
   "codemirror_mode": {
    "name": "ipython",
    "version": 3
   },
   "file_extension": ".py",
   "mimetype": "text/x-python",
   "name": "python",
   "nbconvert_exporter": "python",
   "pygments_lexer": "ipython3",
   "version": "3.9.13"
  },
  "orig_nbformat": 4,
  "vscode": {
   "interpreter": {
    "hash": "ba530876bec2e6283b9bacba891681e9dff395534db17e3ec46729d6d41aa6cf"
   }
  }
 },
 "nbformat": 4,
 "nbformat_minor": 2
}
