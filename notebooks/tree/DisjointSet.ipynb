{
 "cells": [
  {
   "cell_type": "markdown",
   "metadata": {},
   "source": [
    "# Disjoint-set\n",
    "\n",
    "Disjoint-set(also called union-find set) is a special data structure for checking if two elements belong to the same set and merging two sets into one.\n",
    "\n",
    "## Disjoint-set forest\n",
    "\n",
    "If we put each element into one set, then we get a disjoint-set forest, this is the initial state.\n",
    "\n",
    "Each element maintains a reference that pointer to its parent element. If the pointer is null, then this element is the root of the set it belongs to. Initially, all the potiners are null.\n",
    "\n",
    "## Find\n",
    "\n",
    "At this step, we find the root element of a given element. The root element stands for the set of the given element belongs to.\n",
    "\n",
    "## Union\n",
    "\n",
    "Merge two sets into one set. Usually, we give two elements which belongs to two sets, then the algorithm merge one set into another set.\n",
    "\n",
    "## Optimize\n",
    "\n",
    "If the set tree is unbalanced,  the find operation will cost a lot of time. So, we can do the path compression during the find operation. That is, we set all the references of all the elements in the query path to the root element of the set."
   ]
  },
  {
   "cell_type": "code",
   "execution_count": null,
   "metadata": {},
   "outputs": [],
   "source": [
    "import algviz\n",
    "\n",
    "class DisjointSet:\n",
    "    def __init__(self, nums):\n",
    "        self.viz = algviz.Visualizer(1)\n",
    "        self.sets = self.viz.createGraph()\n",
    "        self.log1 = self.viz.createLogger(1, None, 16, False)\n",
    "        self.log2 = self.viz.createLogger(1, None, 16, False)\n",
    "        self.num2elem = dict()\n",
    "        for x in nums:\n",
    "            elem = algviz.TreeNode(x)\n",
    "            self.num2elem[x] = elem\n",
    "            self.sets.addNode(elem)\n",
    "            elem.parent = None\n",
    "        self.viz.display()\n",
    "\n",
    "    def find(self, x):\n",
    "        elem = self.num2elem[x]\n",
    "        self.sets.markNode(algviz.cLime, elem)\n",
    "        self.viz.display(0.5)\n",
    "        if elem.parent == None:\n",
    "            self.sets.markNode(algviz.cTomato, elem, True)\n",
    "            self.viz.display(0.5)\n",
    "            return elem.val\n",
    "        else:\n",
    "            res = self.find(elem.parent.val)\n",
    "            new_parent = self.num2elem[res]\n",
    "            if elem.parent != new_parent:\n",
    "                self.log2.write('Compress path: {} -> {}'.format(elem.val, new_parent.val))\n",
    "                elem.parent.remove(elem)\n",
    "                elem.parent = new_parent\n",
    "                elem.parent.add(elem)\n",
    "            self.viz.display()\n",
    "            self.log2.write('')\n",
    "            return res\n",
    "\n",
    "    def union(self, x, y):\n",
    "        self.log1.write('Union: {} <=> {}'.format(x, y))\n",
    "        root1 = self.num2elem[self.find(x)]\n",
    "        root2 = self.num2elem[self.find(y)]\n",
    "        self.sets.removeMark(algviz.cTomato)\n",
    "        if root1 != root2:\n",
    "            root1.parent = root2\n",
    "            root2.add(root1)\n",
    "            self.viz.display()"
   ]
  },
  {
   "cell_type": "markdown",
   "metadata": {},
   "source": [
    "You can try to change the numbers in the `elements` and the union operations in the `union_list` to see what will happen."
   ]
  },
  {
   "cell_type": "code",
   "execution_count": null,
   "metadata": {},
   "outputs": [],
   "source": [
    "elements = [0, 1, 2, 3, 4]\n",
    "union_list = [(0, 1), (2, 3), (3, 1), (4, 2)]\n",
    "diset = DisjointSet(elements)\n",
    "for (x, y) in union_list:\n",
    "    diset.union(x, y)"
   ]
  },
  {
   "cell_type": "code",
   "execution_count": null,
   "metadata": {},
   "outputs": [],
   "source": [
    "elements = [0, 1, 2, 3, 4, 5, 6, 7, 8, 9]\n",
    "union_list = [\n",
    "    (0, 1), (2, 3), (4, 3), (0, 4),             # Set0: (0, 1, 2, 3, 4)\n",
    "    (7, 8), (9, 8), (9, 5), (7, 6)              # Set1: (5, 6, 7, 8, 9)\n",
    "]\n",
    "diset = DisjointSet(elements)\n",
    "for (x, y) in union_list:\n",
    "    diset.union(x, y)"
   ]
  }
 ],
 "metadata": {
  "kernelspec": {
   "display_name": "Python 3.9.13 ('algviz-public')",
   "language": "python",
   "name": "python3"
  },
  "language_info": {
   "codemirror_mode": {
    "name": "ipython",
    "version": 3
   },
   "file_extension": ".py",
   "mimetype": "text/x-python",
   "name": "python",
   "nbconvert_exporter": "python",
   "pygments_lexer": "ipython3",
   "version": "3.9.13"
  },
  "orig_nbformat": 4,
  "vscode": {
   "interpreter": {
    "hash": "ba530876bec2e6283b9bacba891681e9dff395534db17e3ec46729d6d41aa6cf"
   }
  }
 },
 "nbformat": 4,
 "nbformat_minor": 2
}
