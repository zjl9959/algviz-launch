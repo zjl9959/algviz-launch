{
 "cells": [
  {
   "cell_type": "markdown",
   "metadata": {},
   "source": [
    "# How to run this notebook?\n",
    "\n",
    "If you are running this notebook in your local environment, please follow this [tutorial](https://algviz.com/en/installation.html) to setup the environment.\n",
    "\n",
    "For more information, please visit [algviz.com](https://algviz.com/) or [zjl9959/algviz-launch](https://github.com/zjl9959/algviz-launch) GitHub repo."
   ]
  },
  {
   "cell_type": "markdown",
   "metadata": {},
   "source": [
    "# What is a fibonacci number?\n",
    "\n",
    "The Fibonacci numbers may be defined by the recurrence relation:\n",
    "\n",
    "$F_{0}=0$, $F_{1}=1$ and $F_{n}=F_{n-1}+F_{n-2}$\n",
    "\n",
    "This is the first ten numbers in fibonacci sequence:\n",
    "\n",
    "> 0, 1, 1, 2, 3, 5, 8, 13, 21, 34 ...\n",
    "\n",
    "Reference: https://en.wikipedia.org/wiki/Fibonacci_number"
   ]
  },
  {
   "cell_type": "markdown",
   "metadata": {},
   "source": [
    "# Solution\n",
    "\n",
    "The code is simple and intuitive.\n",
    "\n",
    "We just need to implement the recurrence relation as below:"
   ]
  },
  {
   "cell_type": "code",
   "execution_count": null,
   "metadata": {},
   "outputs": [],
   "source": [
    "def fib(n):\n",
    "    if n <= 1:\n",
    "        return n\n",
    "    return fib(n-1) + fib(n-2)"
   ]
  },
  {
   "cell_type": "markdown",
   "metadata": {},
   "source": [
    "# Visualization\n",
    "\n",
    "We use the [RecursiveTree](https://algviz.com/en/RecursiveTree/) in algviz to show the recursive animation of this algorithm."
   ]
  },
  {
   "cell_type": "code",
   "execution_count": null,
   "metadata": {},
   "outputs": [],
   "source": [
    "import algviz\n",
    "\n",
    "class FibViz:\n",
    "    def __init__(self) -> None:\n",
    "        self.viz = algviz.Visualizer(1)\n",
    "        name = \"Fibonacci Recursive Tree\"\n",
    "        self.tree = algviz.RecursiveTree(self.viz, name)\n",
    "\n",
    "    def fib(self, n):\n",
    "        self.tree.forward('fib({})'.format(n)); self.viz.display()\n",
    "        if n <= 1:\n",
    "            self.tree.backward(n); self.viz.display()\n",
    "            return n\n",
    "        res = self.fib(n-1) + self.fib(n-2)\n",
    "        self.tree.backward(res); self.viz.display()\n",
    "        return res"
   ]
  },
  {
   "cell_type": "code",
   "execution_count": null,
   "metadata": {},
   "outputs": [],
   "source": [
    "print('Fib(2)=', FibViz().fib(2))"
   ]
  },
  {
   "cell_type": "code",
   "execution_count": null,
   "metadata": {},
   "outputs": [],
   "source": [
    "print('Fib(3)=', FibViz().fib(3))"
   ]
  },
  {
   "cell_type": "code",
   "execution_count": null,
   "metadata": {},
   "outputs": [],
   "source": [
    "print('Fib(4)=', FibViz().fib(4))"
   ]
  },
  {
   "cell_type": "code",
   "execution_count": null,
   "metadata": {},
   "outputs": [],
   "source": [
    "print('Fib(5)=', FibViz().fib(5))"
   ]
  }
 ],
 "metadata": {
  "kernelspec": {
   "display_name": "Python 3.9.13 ('algviz-public')",
   "language": "python",
   "name": "python3"
  },
  "language_info": {
   "codemirror_mode": {
    "name": "ipython",
    "version": 3
   },
   "file_extension": ".py",
   "mimetype": "text/x-python",
   "name": "python",
   "nbconvert_exporter": "python",
   "pygments_lexer": "ipython3",
   "version": "3.9.13"
  },
  "orig_nbformat": 4,
  "vscode": {
   "interpreter": {
    "hash": "ba530876bec2e6283b9bacba891681e9dff395534db17e3ec46729d6d41aa6cf"
   }
  }
 },
 "nbformat": 4,
 "nbformat_minor": 2
}
