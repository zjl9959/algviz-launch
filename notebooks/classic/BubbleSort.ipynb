{
 "cells": [
  {
   "cell_type": "markdown",
   "metadata": {},
   "source": [
    "# Description\n",
    "\n",
    "This notebook shows the running process of the [bubble sort](https://en.wikipedia.org/wiki/Bubble_sort) algorithm.\n",
    "\n",
    "You can try to change the `input_nums` and see how this algorithm works on different input."
   ]
  },
  {
   "cell_type": "code",
   "execution_count": null,
   "metadata": {},
   "outputs": [],
   "source": [
    "import algviz\n",
    "\n",
    "def bubble_sort(data):\n",
    "    viz = algviz.Visualizer(0.5)\n",
    "    vector = viz.createVector(data, cell_size=(40, 160), histogram=True)\n",
    "    for i in range(len(vector)):\n",
    "        for j in range(len(vector)-i-1):\n",
    "            if vector[j] > vector[j+1]:\n",
    "                vector.mark(algviz.cRed, j)\n",
    "                vector.mark(algviz.cGreen, j+1)\n",
    "                viz.display()\n",
    "                vector.swap(j, j+1)\n",
    "            else:\n",
    "                vector.mark(algviz.cRed, j+1)\n",
    "                vector.mark(algviz.cGreen, j)\n",
    "            viz.display()\n",
    "        vector.mark(algviz.cGray, len(vector)-i-1, hold=True)\n",
    "    vector.removeMark(algviz.cGray)\n",
    "    viz.display()\n",
    "\n",
    "input_nums = [5, 4, -2, 1, -1, 3]\n",
    "bubble_sort(input_nums)"
   ]
  }
 ],
 "metadata": {
  "kernelspec": {
   "display_name": "Python 3.9.13 ('algviz-public')",
   "language": "python",
   "name": "python3"
  },
  "language_info": {
   "codemirror_mode": {
    "name": "ipython",
    "version": 3
   },
   "file_extension": ".py",
   "mimetype": "text/x-python",
   "name": "python",
   "nbconvert_exporter": "python",
   "pygments_lexer": "ipython3",
   "version": "3.9.13"
  },
  "orig_nbformat": 4,
  "vscode": {
   "interpreter": {
    "hash": "ba530876bec2e6283b9bacba891681e9dff395534db17e3ec46729d6d41aa6cf"
   }
  }
 },
 "nbformat": 4,
 "nbformat_minor": 2
}
