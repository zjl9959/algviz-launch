{
 "cells": [
  {
   "cell_type": "markdown",
   "metadata": {},
   "source": [
    "# Description\n",
    "\n",
    "This notebook shows the running process of the [bubble sort](https://en.wikipedia.org/wiki/Bubble_sort) algorithm.\n",
    "\n",
    "You can try to change the `input_nums` and see how this algorithm works on different input."
   ]
  },
  {
   "cell_type": "markdown",
   "metadata": {},
   "source": [
    "# How to use\n",
    "\n",
    "If you are running this notebook in your local environment, please follow this [tutorial](https://algviz.com/en/installation.html) to setup the environment.\n",
    "\n",
    "For more information, please visit [algviz.com](https://algviz.com/) or [zjl9959/algviz-launch](https://github.com/zjl9959/algviz-launch) Github repo."
   ]
  },
  {
   "cell_type": "code",
   "execution_count": null,
   "metadata": {},
   "outputs": [],
   "source": [
    "import algviz\n",
    "\n",
    "def bubble_sort(data):\n",
    "    viz = algviz.Visualizer(2)\n",
    "    vector = viz.createVector(data, cell_size=(40, 160), show_index=False, histogram=True)\n",
    "    i = viz.createCursor(name='i')\n",
    "    j = viz.createCursor(name='j')\n",
    "    for e in range(len(vector)):\n",
    "        i << 0; j << 1\n",
    "        while j < len(vector) - e:\n",
    "            viz.display(1.0)\n",
    "            if vector[i] > vector[j]:\n",
    "                vector.mark(algviz.color_red, i); vector.mark(algviz.color_green, j); viz.display(1.0)\n",
    "                vector.swap(i, j); viz.display()\n",
    "            else:\n",
    "                vector.mark(algviz.color_red, j); vector.mark(algviz.color_green, i); viz.display(1.0)\n",
    "            i += 1; j += 1\n",
    "        vector.mark(algviz.color_gray, len(vector)-e-1, hold=True)\n",
    "    vector.removeMark(algviz.color_gray); viz.removeCursor(i); viz.removeCursor(j); viz.display()\n",
    "\n",
    "input_nums = [5, 3, -2, 3, -1, 1, 4]\n",
    "bubble_sort(input_nums)"
   ]
  }
 ],
 "metadata": {
  "kernelspec": {
   "display_name": "Python 3.9.13 ('algviz-server')",
   "language": "python",
   "name": "python3"
  },
  "language_info": {
   "name": "python",
   "version": "3.9.13"
  },
  "orig_nbformat": 4,
  "vscode": {
   "interpreter": {
    "hash": "1637f6fe889c01d7407cfcf109b1d41815d8a43dc2c175a869be989182487f41"
   }
  }
 },
 "nbformat": 4,
 "nbformat_minor": 2
}
