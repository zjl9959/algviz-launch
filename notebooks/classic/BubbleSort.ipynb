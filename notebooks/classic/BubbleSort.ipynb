{
 "cells": [
  {
   "cell_type": "markdown",
   "metadata": {},
   "source": [
    "# Description\n",
    "\n",
    "This notebook shows the running process of the [bubble sort](https://en.wikipedia.org/wiki/Bubble_sort) algorithm.\n",
    "\n",
    "You can try to change the `input_nums` and see how this algorithm works on different input."
   ]
  },
  {
   "cell_type": "code",
   "execution_count": null,
   "metadata": {},
   "outputs": [],
   "source": [
    "import algviz\n",
    "\n",
    "def bubble_sort(data):\n",
    "    viz = algviz.Visualizer(2)\n",
    "    vector = viz.createVector(data, cell_size=(40, 160), show_index=False, histogram=True)\n",
    "    i = viz.createCursor(name='i')\n",
    "    j = viz.createCursor(name='j')\n",
    "    for e in range(len(vector)):\n",
    "        i << 0; j << 1\n",
    "        while j < len(vector) - e:\n",
    "            viz.display(1.0)\n",
    "            if vector[i] > vector[j]:\n",
    "                vector.mark(algviz.color_red, i); vector.mark(algviz.color_green, j); viz.display(1.0)\n",
    "                vector.swap(i, j); viz.display()\n",
    "            else:\n",
    "                vector.mark(algviz.color_red, j); vector.mark(algviz.color_green, i); viz.display(1.0)\n",
    "            i += 1; j += 1\n",
    "        vector.mark(algviz.color_gray, len(vector)-e-1, hold=True)\n",
    "    vector.removeMark(algviz.color_gray); viz.removeCursor(i); viz.removeCursor(j); viz.display()\n",
    "\n",
    "input_nums = [5, 3, -2, 3, -1, 1, 4]\n",
    "bubble_sort(input_nums)"
   ]
  }
 ],
 "metadata": {
  "kernelspec": {
   "display_name": "Python 3",
   "language": "python",
   "name": "python3"
  },
  "language_info": {
   "name": "python",
   "version": "3.8.13 (default, Oct  4 2022, 14:00:32) \n[GCC 9.4.0]"
  },
  "orig_nbformat": 4,
  "vscode": {
   "interpreter": {
    "hash": "9ac03a0a6051494cc606d484d27d20fce22fb7b4d169f583271e11d5ba46a56e"
   }
  }
 },
 "nbformat": 4,
 "nbformat_minor": 2
}
