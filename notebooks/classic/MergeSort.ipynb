{
 "cells": [
  {
   "cell_type": "markdown",
   "metadata": {},
   "source": [
    "# Merge sort algorithm\n",
    "\n",
    "## Introduction\n",
    "\n",
    "The merge sort algorithm uses the idea of divide and conquer, which reduces the big things to small ones and solves the small thing recursively, then gather the solutions together! The idea of divide and conquer includes the divide, resolve, and merge processes.\n",
    "\n",
    "1. Divide: divide the sequence to be sorted into two subsequences (usually from the middle).\n",
    "2. Resolve: call the resolve function recursively on subsequences until the subsequence can be sorted directly.\n",
    "3. Merge: merge the sorted subsequences to get the sorting solution of the parent sequence.\n",
    "\n",
    "## References\n",
    "\n",
    "+ https://algviz.com/en/MergeSort/\n",
    "+ https://algviz.com/en/RecursiveTree/"
   ]
  },
  {
   "cell_type": "code",
   "execution_count": null,
   "metadata": {},
   "outputs": [],
   "source": [
    "import algviz\n",
    "\n",
    "class MergeSort():\n",
    "    def __init__(self, nums_):\n",
    "        self.viz = algviz.Visualizer(2.0)\n",
    "        self.nums = self.viz.createVector(nums_, name='Numbers', cell_size=(40, 200), histogram=True)\n",
    "        self.merge_list = self.viz.createVector(name='Merge list', show_index=False)\n",
    "        self.tree = algviz.RecursiveTree(self.viz)\n",
    "        self.solve(0, len(nums_))\n",
    "    \n",
    "    def solve(self, l, r):\n",
    "        if l < r - 1:\n",
    "            self.tree.forward('{}:{}'.format(l, r))\n",
    "            m = (l + r)//2\n",
    "            self.solve(l, m)\n",
    "            self.solve(m, r)\n",
    "            self.nums.mark(algviz.color_gray, 0, l, hold=True)\n",
    "            if r < len(self.nums):\n",
    "                self.nums.mark(algviz.color_gray, r, len(self.nums), hold=True)\n",
    "            self.merge(l, m, r)\n",
    "            self.tree.backward()\n",
    "            self.nums.removeMark(algviz.color_gray)\n",
    "    \n",
    "    def merge(self, l, m, r):\n",
    "        # Take out the smaller elements in the subsequence in turn and place them in the merge_list.\n",
    "        ll = l; mm = m\n",
    "        self.viz.display()\n",
    "        while ll < m and mm < r:\n",
    "            if self.nums[ll] > self.nums[mm]:\n",
    "                self.merge_list.append(self.nums[mm])\n",
    "                self.nums.mark(algviz.color_gold, mm); self.nums.mark(algviz.color_dark_green, ll)\n",
    "                self.merge_list.mark(algviz.color_gold, len(self.merge_list)-1); self.viz.display()\n",
    "                mm += 1; self.viz.display(1)\n",
    "            else:\n",
    "                self.merge_list.append(self.nums[ll])\n",
    "                self.nums.mark(algviz.color_gold, ll); self.nums.mark(algviz.color_dark_green, mm)\n",
    "                self.merge_list.mark(algviz.color_gold, len(self.merge_list)-1); self.viz.display()\n",
    "                ll += 1; self.viz.display(1)\n",
    "        while ll < m:\n",
    "            self.merge_list.append(self.nums[ll])\n",
    "            self.nums.mark(algviz.color_gold, ll)\n",
    "            self.merge_list.mark(algviz.color_gold, len(self.merge_list)-1); self.viz.display()\n",
    "            ll += 1; self.viz.display(1)\n",
    "        while mm < r:\n",
    "            self.merge_list.append(self.nums[mm])\n",
    "            self.nums.mark(algviz.color_gold, mm)\n",
    "            self.merge_list.mark(algviz.color_gold, len(self.merge_list)-1); self.viz.display()\n",
    "            mm += 1; self.viz.display(1)\n",
    "        # Copies the merge_list into the origin subsequence to be resolved.\n",
    "        self.viz.display()\n",
    "        for i in range(l, r):\n",
    "            self.merge_list.mark(algviz.color_spring_green, 0)\n",
    "            self.nums[i] = self.merge_list.pop(0)\n",
    "            self.nums.mark(algviz.color_spring_green, i)\n",
    "            self.viz.display()"
   ]
  },
  {
   "cell_type": "code",
   "execution_count": null,
   "metadata": {},
   "outputs": [],
   "source": [
    "input_nums = [5, 3, -2, 3, -1, 1, 4]\n",
    "solver = MergeSort(input_nums)"
   ]
  }
 ],
 "metadata": {
  "kernelspec": {
   "display_name": "Python 3.9.13 ('algviz-public')",
   "language": "python",
   "name": "python3"
  },
  "language_info": {
   "codemirror_mode": {
    "name": "ipython",
    "version": 3
   },
   "file_extension": ".py",
   "mimetype": "text/x-python",
   "name": "python",
   "nbconvert_exporter": "python",
   "pygments_lexer": "ipython3",
   "version": "3.9.13"
  },
  "orig_nbformat": 4,
  "vscode": {
   "interpreter": {
    "hash": "ba530876bec2e6283b9bacba891681e9dff395534db17e3ec46729d6d41aa6cf"
   }
  }
 },
 "nbformat": 4,
 "nbformat_minor": 2
}
