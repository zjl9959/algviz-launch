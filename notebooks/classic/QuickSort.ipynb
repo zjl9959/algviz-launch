{
 "cells": [
  {
   "cell_type": "markdown",
   "metadata": {},
   "source": [
    "# Quick sort algorithm\n",
    "\n",
    "The Quicksort algorithm was first proposed by Charles Antony Richard Hoare, also called the partition-exchange sort algorithm.\n",
    "The Quicksort algorithm has high execution efficiency in general and is widely used in practical engineering.\n",
    "For more description, please refer to this [blog](https://algviz.com/en/QuickSort/#fundamental).\n",
    "\n",
    "You can try to change the `input_nums` and run the cells below."
   ]
  },
  {
   "cell_type": "code",
   "execution_count": null,
   "metadata": {},
   "outputs": [],
   "source": [
    "import algviz\n",
    "\n",
    "class QuickSort():\n",
    "    def __init__(self, nums_):\n",
    "        self.viz = algviz.Visualizer(1.0)\n",
    "        self.nums = self.viz.createVector(nums_, name='Numbers', cell_size=(40,200), histogram=True)\n",
    "        self.tree = algviz.RecursiveTree(self.viz)\n",
    "        self.p = self.viz.createCursor(name='P'); self.nums[self.p]\n",
    "        self.solve(0, len(nums_)); self.viz.display(3.0)\n",
    "    \n",
    "    def solve(self, l, r):\n",
    "        if l >= r - 1:\n",
    "            return  # Basic situation: just one element left in the subsequence.\n",
    "        self.tree.forward('{}:{}'.format(l, r-1))\n",
    "        self.nums.mark(algviz.color_gray, 0, l, hold=True)\n",
    "        if r < len(self.nums):\n",
    "            self.nums.mark(algviz.color_gray, r, len(self.nums), hold=True)\n",
    "        i = l; self.p << l; self.viz.display()\n",
    "        # Subsequence segmentation beigin.\n",
    "        while i < r - 1:\n",
    "            if self.nums[i] < self.nums[r-1]:\n",
    "                self.nums.mark(algviz.color_orange, r-1); self.nums.mark(algviz.color_tomato, i); self.viz.display(1.0)\n",
    "                self.nums.swap(i, self.p); self.viz.display(2.0)\n",
    "                self.nums.mark(algviz.color_silver, self.p, hold=True); self.p += 1\n",
    "            else:\n",
    "                self.nums.mark(algviz.color_orange, r-1); self.nums.mark(algviz.color_lime, i); self.viz.display()\n",
    "                self.nums.mark(algviz.color_silver, i, hold=True)\n",
    "            i += 1; self.viz.display(1.0)\n",
    "        self.nums.swap(self.p, r-1); self.viz.display(2.0)\n",
    "        # Subsequence segmentation end.\n",
    "        self.nums.removeMark(algviz.color_gray); self.nums.removeMark(algviz.color_silver)\n",
    "        self.solve(l, self.p.index())\n",
    "        self.solve(self.p + 1, r)\n",
    "        self.tree.backward()"
   ]
  },
  {
   "cell_type": "code",
   "execution_count": null,
   "metadata": {},
   "outputs": [],
   "source": [
    "input_nums = [3, -4, -1, 4, -6, -3, 2]\n",
    "solver = QuickSort(input_nums)"
   ]
  }
 ],
 "metadata": {
  "kernelspec": {
   "display_name": "Python 3.9.13 ('algviz-public')",
   "language": "python",
   "name": "python3"
  },
  "language_info": {
   "codemirror_mode": {
    "name": "ipython",
    "version": 3
   },
   "file_extension": ".py",
   "mimetype": "text/x-python",
   "name": "python",
   "nbconvert_exporter": "python",
   "pygments_lexer": "ipython3",
   "version": "3.9.13"
  },
  "orig_nbformat": 4,
  "vscode": {
   "interpreter": {
    "hash": "ba530876bec2e6283b9bacba891681e9dff395534db17e3ec46729d6d41aa6cf"
   }
  }
 },
 "nbformat": 4,
 "nbformat_minor": 2
}
