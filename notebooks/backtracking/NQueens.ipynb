{
 "cells": [
  {
   "cell_type": "markdown",
   "metadata": {},
   "source": [
    "# Description\n",
    "\n",
    "This notebook shows the algorithm running process to solves the [NQueens](https://en.wikipedia.org/wiki/Eight_queens_puzzle) problem.\n",
    "\n",
    "You can try to change the size of the checkerboard(**N**) and see the algorithm's backtracking process."
   ]
  },
  {
   "cell_type": "markdown",
   "metadata": {},
   "source": [
    "# How to use\n",
    "\n",
    "If you are running this notebook in your local environment, please follow this [tutorial](https://algviz.com/en/installation.html) to setup the environment.\n",
    "\n",
    "For more information, please visit [algviz.com](https://algviz.com/) or [zjl9959/algviz-launch](https://github.com/zjl9959/algviz-launch) Github repo."
   ]
  },
  {
   "cell_type": "code",
   "execution_count": null,
   "metadata": {},
   "outputs": [],
   "source": [
    "import algviz\n",
    "N = 4           # The size of the checkerboard\n",
    "viz = algviz.Visualizer(1)\n",
    "board = viz.createTable(N, N)\n",
    "cursor_row = viz.createCursor(name='r')\n",
    "cursor_col = viz.createCursor(name='c')\n",
    "board[cursor_row][cursor_col]\n",
    "\n",
    "def draw_board_background():\n",
    "    for r in range(N):\n",
    "        for c in range(N):\n",
    "            if (r + c) % 2:\n",
    "                board.mark(algviz.color_gray, r, c, True)\n",
    "\n",
    "def solve_queen(queen_row_pos, col_has_queen, cur_row):\n",
    "    if cur_row == N:\n",
    "        for r in range(N):\n",
    "            board.mark(algviz.color_green, r, queen_row_pos[r])\n",
    "        viz.display(3)\n",
    "        return\n",
    "    cursor_row << cur_row\n",
    "    for c in range(0, N):\n",
    "        cursor_col << c\n",
    "        board[cur_row][c] = '❔'\n",
    "        viz.display()\n",
    "        if col_has_queen[c] == False:\n",
    "            conflict = False\n",
    "            for r in range(0, cur_row):\n",
    "                if queen_row_pos[r] - c == r - cur_row or c - queen_row_pos[r] == r - cur_row:\n",
    "                    board.mark(algviz.color_red, r, queen_row_pos[r])\n",
    "                    board.mark(algviz.color_red, cur_row, c)\n",
    "                    viz.display(0.5)\n",
    "                    conflict = True\n",
    "                    break\n",
    "            if not conflict:\n",
    "                queen_row_pos[cur_row] = c\n",
    "                col_has_queen[c] = True\n",
    "                board[cur_row][c] = '👑'\n",
    "                viz.display()\n",
    "                solve_queen(queen_row_pos, col_has_queen, cur_row+1)\n",
    "                col_has_queen[c] = False\n",
    "                board[cur_row][c] = ''\n",
    "                cursor_row << cur_row\n",
    "            else:\n",
    "                board[cur_row][c] = ''\n",
    "        else:\n",
    "            for r in range(cur_row):\n",
    "                if queen_row_pos[r] == c:\n",
    "                    board.mark(algviz.color_red, r, c)\n",
    "                    break\n",
    "            board.mark(algviz.color_red, cur_row, c)\n",
    "            viz.display(0.5)\n",
    "            board[cur_row][c] = ''\n",
    "\n",
    "draw_board_background()\n",
    "solve_queen([-1 for _ in range(N)], [False for _ in range(N)], 0)"
   ]
  }
 ],
 "metadata": {
  "kernelspec": {
   "display_name": "Python 3.9.13 ('algviz-public')",
   "language": "python",
   "name": "python3"
  },
  "language_info": {
   "codemirror_mode": {
    "name": "ipython",
    "version": 3
   },
   "file_extension": ".py",
   "mimetype": "text/x-python",
   "name": "python",
   "nbconvert_exporter": "python",
   "pygments_lexer": "ipython3",
   "version": "3.9.13"
  },
  "orig_nbformat": 4,
  "vscode": {
   "interpreter": {
    "hash": "ba530876bec2e6283b9bacba891681e9dff395534db17e3ec46729d6d41aa6cf"
   }
  }
 },
 "nbformat": 4,
 "nbformat_minor": 2
}
