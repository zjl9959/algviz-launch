{
 "cells": [
  {
   "attachments": {},
   "cell_type": "markdown",
   "metadata": {},
   "source": [
    "# How to use?\n",
    "\n",
    "All the implemented algorithms are categorized and listed below. 👇\n",
    "\n",
    "Just open one notebook(`xxx.ipynb`) you are interested in and click the \"Run All\" button in the top tab. Then, you will see animations. ✨✨✨\n",
    "\n",
    "*If you don't know what is a Jupyter notebook, you can start from this [guide](https://docs.jupyter.org/en/latest/start/index.html).*"
   ]
  },
  {
   "attachments": {},
   "cell_type": "markdown",
   "metadata": {},
   "source": [
    "# Classic\n",
    "\n",
    "|  Notebook  |   Description   |  Animation  |\n",
    "| :-----:  | :-----: | :-----:   |\n",
    "|  [BubbleSort.ipynb](classic/BubbleSort.ipynb)   | Implement of the [bubble sort](https://en.wikipedia.org/wiki/Bubble_sort) algorithm. |  <img src=\"https://cdn.jsdelivr.net/gh/zjl9959/algviz-launch@master/svgs/BubbleSort_sec.svg\" width=120px/> |\n",
    "|  [MergeSort.ipynb](classic/MergeSort.ipynb)   | Animation of the [merge sort](https://zjl9959.github.io/algviz/en/MergeSort/) algorithm. |  <img src=\"https://cdn.jsdelivr.net/gh/zjl9959/algviz-launch@master/svgs/MergeSort_sec.svg\" width=120px/> |\n",
    "|  [QuickSort.ipynb](classic/QuickSort.ipynb)   | Animation of the [quick sort](https://zjl9959.github.io/algviz/en/QuickSort/) algorithm. |  <img src=\"https://cdn.jsdelivr.net/gh/zjl9959/algviz-launch@master/svgs/QuickSort_sec.svg\" width=120px/> |\n",
    "|  [AStarPathFinding.ipynb](classic/AStarPathFinding.ipynb)   | An heuristic path finding algorithm for grid maps. |  <img src=\"https://cdn.jsdelivr.net/gh/zjl9959/algviz-launch@master/svgs/AStarPathFinding_sec.svg\" width=120px/> |"
   ]
  },
  {
   "attachments": {},
   "cell_type": "markdown",
   "metadata": {},
   "source": [
    "# Backtracking\n",
    "\n",
    "|  Notebook    |  Description   |  Animation  |\n",
    "| :-----:   | :-----:  | :-----:   |\n",
    "| [Fibonacci.ipynb](backtracking/Fibonacci.ipynb) | Calculate the [fibonacci number](https://en.wikipedia.org/wiki/Fibonacci_number). | <img src=\"https://cdn.jsdelivr.net/gh/zjl9959/algviz-launch@master/svgs/Fibonacci_sec.svg\" width=80px /> |\n",
    "|  [NQueens.ipynb](backtracking/NQueens.ipynb)   | The algorithm to solve the [NQueens](https://leetcode.com/problems/n-queens/) problem. |  <img src=\"https://cdn.jsdelivr.net/gh/zjl9959/algviz-launch@master/svgs/NQueens_sec.svg\" width=120px /> |"
   ]
  },
  {
   "attachments": {},
   "cell_type": "markdown",
   "metadata": {},
   "source": [
    "# Tree\n",
    "\n",
    "|  Notebook    |  Description   |  Animation  |\n",
    "| :-----:   | :-----:  | :-----:   |\n",
    "| [TraverseBinaryTree.ipynb](tree/TraverseBinaryTree.ipynb) | Show different ways to traverse a binary tree.<br>Such as preorder, inorder, postorder, BFS. | <img src=\"https://cdn.jsdelivr.net/gh/zjl9959/algviz-launch@master/svgs/TraverseBinaryTree_sec.svg\" width=120px /> |\n",
    "| [TrieTree.ipynb](tree/TrieTree.ipynb) | The creation and use of trie tree. | <img src=\"https://cdn.jsdelivr.net/gh/zjl9959/algviz-launch@master/svgs/TrieTree_sec.svg\" width=150px /> |\n",
    "| [InvertBinaryTree.ipynb](tree/InvertBinaryTree.ipynb) | To solve the [invert binary tree problem](https://leetcode.com/problems/invert-binary-tree/). | <img src=\"https://cdn.jsdelivr.net/gh/zjl9959/algviz-launch@master/svgs/InvertBinaryTree_sec.svg\" width=120px /> |\n",
    "| [DisjointSet.ipynb](tree/DisjointSet.ipynb) | Disjoint-set is an efficient data structure for merge and find opeartion.<br> Also called union-find set. | <img src=\"https://cdn.jsdelivr.net/gh/zjl9959/algviz-launch@master/svgs/DisjointSet_sec.svg\" width=120px /> |"
   ]
  },
  {
   "attachments": {},
   "cell_type": "markdown",
   "metadata": {},
   "source": [
    "# Graph\n",
    "\n",
    "|  Notebook    |  Description   |  Animation  |\n",
    "| :-----:   | :-----:  | :-----:   |\n",
    "| [TopologicalSorting.ipynb](graph/TopologicalSorting.ipynb) | Solve topological sorting problem with dfs and Kahns algorithm | <img src=\"https://cdn.jsdelivr.net/gh/zjl9959/algviz-launch@master/svgs/TopologicalSorting_sec.svg\" width=180px /> |\n",
    "| [Dijkstra.ipynb](graph/Dijkstra.ipynb) | Implement the famous [Dijkstra](https://en.wikipedia.org/wiki/Dijkstra%27s_algorithm) algorithm.<br> Calculate the shortest pathes from one vertex to all the other vertices in the graph. | <img src=\"https://cdn.jsdelivr.net/gh/zjl9959/algviz-launch@master/svgs/Dijkstra_sec.svg\" width=180px /> |\n",
    "| [Floyd.ipynb](graph/Floyd.ipynb) | Calculate the shortest path of all the nodes in graph. <br> Dynamic programing. | <img src=\"https://cdn.jsdelivr.net/gh/zjl9959/algviz-launch@master/svgs/Floyd_sec.svg\" width=120px /> |\n",
    "| [Kruskal.ipynb](graph/Kruskal.ipynb) | TODO | - |\n",
    "| [Prim.ipynb](graph/Prim.ipynb) | Generate the minimum span tree. <br> Pick one vertex from the graph each time. | <img src=\"https://cdn.jsdelivr.net/gh/zjl9959/algviz-launch@master/svgs/Prim_sec.svg\" width=120px /> |"
   ]
  },
  {
   "attachments": {},
   "cell_type": "markdown",
   "metadata": {},
   "source": [
    "# Leetcode\n",
    "\n",
    "|  Notebook    |  Description   |  Animation  |\n",
    "| :-----:   | :-----:  | :-----:   |\n",
    "| [SameTree.ipynb](leetcode/100.SameTree.ipynb) | [SameTree](https://leetcode.com/problems/same-tree/) leetcode | <img src=\"https://cdn.jsdelivr.net/gh/zjl9959/algviz-launch@master/svgs/SameTree_sec.svg\" width=160px /> |\n",
    "| [SmallestNumberinInfiniteSet.ipynb](leetcode/2336.SmallestNumberinInfiniteSet.ipynb) | [Smallest Number in Infinite Set](https://leetcode.com/problems/smallest-number-in-infinite-set/) leetcode | - |\n",
    "| [ReverseLinkedList](leetcode/206.ReverseLinkedList.ipynb)   | [reverse-linked-list](https://leetcode.com/problems/reverse-linked-list/) leetcode | <img src=\"https://cdn.jsdelivr.net/gh/zjl9959/algviz-launch@master/svgs/ReverseLinkedList_sec.svg\" width=200px /> |\n",
    "\n",
    "[More leetcode problems](leetcode/README.md)"
   ]
  }
 ],
 "metadata": {
  "kernelspec": {
   "display_name": "Python 3.9.13 ('algviz-public')",
   "language": "python",
   "name": "python3"
  },
  "language_info": {
   "name": "python",
   "version": "3.9.13 (main, Aug 25 2022, 23:51:50) [MSC v.1916 64 bit (AMD64)]"
  },
  "orig_nbformat": 4,
  "vscode": {
   "interpreter": {
    "hash": "ba530876bec2e6283b9bacba891681e9dff395534db17e3ec46729d6d41aa6cf"
   }
  }
 },
 "nbformat": 4,
 "nbformat_minor": 2
}
