{
 "cells": [
  {
   "cell_type": "markdown",
   "metadata": {},
   "source": [
    "# Dijkstra\n",
    "\n",
    "## Optimal substructure\n",
    "\n",
    "**The shortest path between two nodes contains other shortest paths.**\n",
    "\n",
    "## Inputs\n",
    "\n",
    "+ The input graph should be **directed graph**.\n",
    "+ All the edge weights should be **no negative**.\n",
    "+ The source node id in the graph.\n",
    "\n",
    "## Auxiliary data structure\n",
    "\n",
    "+ `shortest_path_table:` stores the shortest path dist and the predecessor node in the shortest path from source node to all the nodes in graph.\n",
    "\n",
    "## Outputs\n",
    "\n",
    "+ The list of all the shortest path from the source node to the other nodes in the graph.\n",
    "\n",
    "## How to run?\n",
    "\n",
    "All the animations in this notebook are rendered by the [algviz](https://algviz.com/) algorithm animation engine in real time. You can follow this [guidance](https://algviz.com/en/installation.html) to set up your local environment or run this repo on Gitpod directly.\n",
    "\n",
    "*If you meet any problem, please report an 👉[issue](https://github.com/zjl9959/algviz/issues)👈 here.*"
   ]
  },
  {
   "cell_type": "code",
   "execution_count": 1,
   "metadata": {},
   "outputs": [],
   "source": [
    "import algviz\n",
    "\n",
    "class DjkstraSolver:\n",
    "    def __init__(self, nodes, edges, source):\n",
    "        self._nodes_num = len(nodes)\n",
    "        self._viz = algviz.Visualizer(4, 1)\n",
    "        self._graph_nodes = algviz.parseGraph(nodes, edges)\n",
    "        self._graph = self._viz.createGraph(self._graph_nodes, 'Graph')\n",
    "        self._log = self._viz.createLogger(1, show_line_num=False)\n",
    "        self._log2 = self._viz.createLogger(3, show_line_num=False)\n",
    "        self._shortest_path_table = self._viz.createTable(3, self._nodes_num+1,\n",
    "            [[i-1 for i in range(self._nodes_num+1)], ['♾' for _ in range(self._nodes_num+1)],\n",
    "             [None for _ in range(self._nodes_num+1)]], 'shortest_path_table', show_index=False)\n",
    "        self._shortest_path_table[0][0] = 'node'\n",
    "        self._shortest_path_table[1][0] = 'dist'\n",
    "        self._shortest_path_table[2][0] = 'pred'\n",
    "        self._source_node = self._graph_nodes[source]\n",
    "        self._shortest_path_table[1][self._source_node.val+1] = 0\n",
    "        self._visited_nodes = set()\n",
    "\n",
    "    def run(self):\n",
    "        self._viz.display()\n",
    "        while len(self._visited_nodes) < self._nodes_num:\n",
    "            node, dist = self.extract_min()\n",
    "            self._graph.markNode(algviz.color_tan, node, True)\n",
    "            self._shortest_path_table.mark(algviz.color_tan, 0, node.val+1, True)\n",
    "            self._log.write('Current shortest path: {} -> ... -> {}'.format(self._source_node.val, node.val))\n",
    "            self._viz.display(0.5)\n",
    "            for (neighbor, edge) in node.neighbors():\n",
    "                neighbor_dist = self._shortest_path_table[1][neighbor.val+1]\n",
    "                self._graph.markNode(algviz.color_green_yellow, neighbor, True)\n",
    "                self._shortest_path_table.mark(algviz.color_green_yellow, 0, neighbor.val+1, True)\n",
    "                if node != self._source_node:\n",
    "                    self.mark_min_path(neighbor, algviz.color_aqua)\n",
    "                    self._log2.write('{} -> ... -> {} current minimum distance: {}'.format(\n",
    "                        self._source_node.val, neighbor.val, neighbor_dist))\n",
    "                    self._viz.display()\n",
    "                    self.mark_min_path(node, algviz.color_pink)\n",
    "                    self._graph.markEdge(algviz.color_pink, node, neighbor)\n",
    "                    self._log2.write('{} -> ... -> {} -> ... -> {} distance: {}'.format(\n",
    "                        self._source_node.val, node.val, neighbor.val, dist + edge))\n",
    "                    self._viz.display()\n",
    "                if neighbor_dist == '♾' or dist + edge < neighbor_dist:\n",
    "                    self._shortest_path_table[1][neighbor.val+1] = dist + edge\n",
    "                    self._shortest_path_table[2][neighbor.val+1] = node.val\n",
    "                    self._shortest_path_table.mark(algviz.color_pink, 1, neighbor.val+1)\n",
    "                    self._shortest_path_table.mark(algviz.color_pink, 2, neighbor.val+1)\n",
    "                    self._log2.write('Update the shortest path of node: {}'.format(neighbor.val))\n",
    "                    self._viz.display(1)\n",
    "                self._graph.removeMark(algviz.color_green_yellow)\n",
    "                self._shortest_path_table.removeMark(algviz.color_green_yellow)\n",
    "                self._viz.display(1)\n",
    "            self._graph.removeMark(algviz.color_tan)\n",
    "            self._shortest_path_table.removeMark(algviz.color_tan)\n",
    "        self._viz.display()\n",
    "\n",
    "    def extract_min(self):\n",
    "        min_dist, min_index = None, None\n",
    "        for i in range(self._nodes_num):\n",
    "            dist = self._shortest_path_table[1][i+1]\n",
    "            if i not in self._visited_nodes and dist != '♾' and (\n",
    "                min_dist == None or dist < min_dist):\n",
    "                min_dist = dist\n",
    "                min_index = i\n",
    "        self._visited_nodes.add(min_index)\n",
    "        return self._graph_nodes[min_index], min_dist\n",
    "\n",
    "    def mark_min_path(self, node, color):\n",
    "        pred = self._shortest_path_table[2][node.val+1]\n",
    "        while pred != None and node != self._source_node:\n",
    "            pred_node = self._graph_nodes[pred]\n",
    "            self._graph.markNode(color, pred_node)\n",
    "            self._graph.markEdge(color, pred_node, node)\n",
    "            node = pred_node\n",
    "            pred = self._shortest_path_table[2][node.val+1]"
   ]
  },
  {
   "cell_type": "code",
   "execution_count": 2,
   "metadata": {},
   "outputs": [
    {
     "data": {
      "text/plain": [
       "Graph:"
      ]
     },
     "metadata": {},
     "output_type": "display_data"
    },
    {
     "data": {
      "image/svg+xml": [
       "<?xml version=\"1.0\" ?><!DOCTYPE svg  PUBLIC '-//W3C//DTD SVG 1.1//EN'  'http://www.w3.org/Graphics/SVG/1.1/DTD/svg11.dtd'><!-- Generated by graphviz version 2.44.1 (20200629.0800) --><!-- Pages: 1 --><svg xmlns=\"http://www.w3.org/2000/svg\" xmlns:xlink=\"http://www.w3.org/1999/xlink\" width=\"439pt\" height=\"175pt\" viewBox=\"0.00 0.00 439.00 175.00\"><g id=\"graph0\" class=\"graph\" transform=\"scale(1 1) rotate(0) translate(4 171)\"><polygon fill=\"transparent\" stroke=\"transparent\" points=\"-4,4 -4,-171 435,-171 435,4 -4,4\"/><g id=\"node1\" class=\"node\"><ellipse fill=\"#ffffff\" stroke=\"#7b7b7b\" cx=\"18\" cy=\"-39\" rx=\"18\" ry=\"18\"/><text text-anchor=\"middle\" x=\"18\" y=\"-35.3\" font-family=\"Times New Roman,serif\" font-size=\"14.00\" fill=\"#000000\">0</text></g><g id=\"node2\" class=\"node\"><ellipse fill=\"#ffffff\" stroke=\"#7b7b7b\" cx=\"97\" cy=\"-100\" rx=\"18\" ry=\"18\"/><text text-anchor=\"middle\" x=\"97\" y=\"-96.3\" font-family=\"Times New Roman,serif\" font-size=\"14.00\" fill=\"#000000\">1</text></g><g id=\"edge3\" class=\"edge\"><path fill=\"none\" stroke=\"#7b7b7b\" d=\"M32.77,-49.91C44.26,-59.01 60.86,-72.16 74.17,-82.71\"/><polygon fill=\"#7b7b7b\" stroke=\"#7b7b7b\" points=\"82.35,-89.19 71.72,-86.51 78.43,-86.08 74.51,-82.98 74.51,-82.98 74.51,-82.98 78.43,-86.08 77.31,-79.45 82.35,-89.19 82.35,-89.19\"/><text text-anchor=\"middle\" x=\"57.5\" y=\"-74.4\" font-family=\"Times New Roman,serif\" font-size=\"12.00\" fill=\"#c0c0c0\">2</text></g><g id=\"node5\" class=\"node\"><ellipse fill=\"#ffffff\" stroke=\"#7b7b7b\" cx=\"413\" cy=\"-46\" rx=\"18\" ry=\"18\"/><text text-anchor=\"middle\" x=\"413\" y=\"-42.3\" font-family=\"Times New Roman,serif\" font-size=\"14.00\" fill=\"#000000\">4</text></g><g id=\"edge1\" class=\"edge\"><path fill=\"none\" stroke=\"#7b7b7b\" d=\"M32.16,-27.51C46.74,-16.01 71.42,0 96,0 96,0 96,0 335,0 356.74,0 377.67,-13.68 392.2,-26.12\"/><polygon fill=\"#7b7b7b\" stroke=\"#7b7b7b\" points=\"399.98,-33.19 389.55,-29.79 396.28,-29.82 392.58,-26.46 392.58,-26.46 392.58,-26.46 396.28,-29.82 395.61,-23.13 399.98,-33.19 399.98,-33.19\"/><text text-anchor=\"middle\" x=\"215.5\" y=\"-3.4\" font-family=\"Times New Roman,serif\" font-size=\"12.00\" fill=\"#c0c0c0\">8</text></g><g id=\"node7\" class=\"node\"><ellipse fill=\"#ffffff\" stroke=\"#7b7b7b\" cx=\"255\" cy=\"-46\" rx=\"18\" ry=\"18\"/><text text-anchor=\"middle\" x=\"255\" y=\"-42.3\" font-family=\"Times New Roman,serif\" font-size=\"14.00\" fill=\"#000000\">6</text></g><g id=\"edge2\" class=\"edge\"><path fill=\"none\" stroke=\"#7b7b7b\" d=\"M36.28,-39.51C76.68,-40.72 177.6,-43.72 226.53,-45.18\"/><polygon fill=\"#7b7b7b\" stroke=\"#7b7b7b\" points=\"236.69,-45.48 226.56,-49.68 231.7,-45.34 226.7,-45.19 226.7,-45.19 226.7,-45.19 231.7,-45.34 226.83,-40.69 236.69,-45.48 236.69,-45.48\"/><text text-anchor=\"middle\" x=\"136.5\" y=\"-45.4\" font-family=\"Times New Roman,serif\" font-size=\"12.00\" fill=\"#c0c0c0\">6</text></g><g id=\"node3\" class=\"node\"><ellipse fill=\"#ffffff\" stroke=\"#7b7b7b\" cx=\"255\" cy=\"-149\" rx=\"18\" ry=\"18\"/><text text-anchor=\"middle\" x=\"255\" y=\"-145.3\" font-family=\"Times New Roman,serif\" font-size=\"14.00\" fill=\"#000000\">2</text></g><g id=\"edge5\" class=\"edge\"><path fill=\"none\" stroke=\"#7b7b7b\" d=\"M113.57,-107.86C119.59,-110.82 126.57,-114.16 133,-117 166.68,-131.89 176.04,-134.03 212,-142 216.67,-143.04 221.67,-143.99 226.53,-144.85\"/><polygon fill=\"#7b7b7b\" stroke=\"#7b7b7b\" points=\"236.76,-146.55 226.15,-149.35 231.82,-145.73 226.89,-144.91 226.89,-144.91 226.89,-144.91 231.82,-145.73 227.63,-140.47 236.76,-146.55 236.76,-146.55\"/><text text-anchor=\"middle\" x=\"176\" y=\"-140.4\" font-family=\"Times New Roman,serif\" font-size=\"12.00\" fill=\"#c0c0c0\">3</text></g><g id=\"node6\" class=\"node\"><ellipse fill=\"#ffffff\" stroke=\"#7b7b7b\" cx=\"176\" cy=\"-100\" rx=\"18\" ry=\"18\"/><text text-anchor=\"middle\" x=\"176\" y=\"-96.3\" font-family=\"Times New Roman,serif\" font-size=\"14.00\" fill=\"#000000\">5</text></g><g id=\"edge4\" class=\"edge\"><path fill=\"none\" stroke=\"#7b7b7b\" d=\"M115.09,-100C124.66,-100 136.82,-100 147.68,-100\"/><polygon fill=\"#7b7b7b\" stroke=\"#7b7b7b\" points=\"157.96,-100 147.96,-104.5 152.96,-100 147.96,-100 147.96,-100 147.96,-100 152.96,-100 147.96,-95.5 157.96,-100 157.96,-100\"/><text text-anchor=\"middle\" x=\"136.5\" y=\"-103.4\" font-family=\"Times New Roman,serif\" font-size=\"12.00\" fill=\"#c0c0c0\">1</text></g><g id=\"node4\" class=\"node\"><ellipse fill=\"#ffffff\" stroke=\"#7b7b7b\" cx=\"334\" cy=\"-100\" rx=\"18\" ry=\"18\"/><text text-anchor=\"middle\" x=\"334\" y=\"-96.3\" font-family=\"Times New Roman,serif\" font-size=\"14.00\" fill=\"#000000\">3</text></g><g id=\"edge6\" class=\"edge\"><path fill=\"none\" stroke=\"#7b7b7b\" d=\"M270.48,-139.78C281.49,-132.78 296.86,-123 309.6,-114.89\"/><polygon fill=\"#7b7b7b\" stroke=\"#7b7b7b\" points=\"318.32,-109.34 312.3,-118.51 314.1,-112.03 309.88,-114.71 309.88,-114.71 309.88,-114.71 314.1,-112.03 307.47,-110.91 318.32,-109.34 318.32,-109.34\"/><text text-anchor=\"middle\" x=\"294.5\" y=\"-128.4\" font-family=\"Times New Roman,serif\" font-size=\"12.00\" fill=\"#c0c0c0\">1</text></g><g id=\"edge7\" class=\"edge\"><path fill=\"none\" stroke=\"#7b7b7b\" d=\"M349.12,-90.1C360.34,-82.23 376.25,-71.07 389.26,-61.95\"/><polygon fill=\"#7b7b7b\" stroke=\"#7b7b7b\" points=\"397.71,-56.02 392.1,-65.45 393.61,-58.9 389.52,-61.77 389.52,-61.77 389.52,-61.77 393.61,-58.9 386.93,-58.08 397.71,-56.02 397.71,-56.02\"/><text text-anchor=\"middle\" x=\"373.5\" y=\"-77.4\" font-family=\"Times New Roman,serif\" font-size=\"12.00\" fill=\"#c0c0c0\">3</text></g><g id=\"edge8\" class=\"edge\"><path fill=\"none\" stroke=\"#7b7b7b\" d=\"M191.48,-109.22C202.49,-116.22 217.86,-126 230.6,-134.11\"/><polygon fill=\"#7b7b7b\" stroke=\"#7b7b7b\" points=\"239.32,-139.66 228.47,-138.09 235.1,-136.97 230.88,-134.29 230.88,-134.29 230.88,-134.29 235.1,-136.97 233.3,-130.49 239.32,-139.66 239.32,-139.66\"/><text text-anchor=\"middle\" x=\"215.5\" y=\"-128.4\" font-family=\"Times New Roman,serif\" font-size=\"12.00\" fill=\"#c0c0c0\">1</text></g><g id=\"edge10\" class=\"edge\"><path fill=\"none\" stroke=\"#7b7b7b\" d=\"M194.29,-100C221.23,-100 273.46,-100 305.58,-100\"/><polygon fill=\"#7b7b7b\" stroke=\"#7b7b7b\" points=\"315.63,-100 305.63,-104.5 310.63,-100 305.63,-100 305.63,-100 305.63,-100 310.63,-100 305.63,-95.5 315.63,-100 315.63,-100\"/><text text-anchor=\"middle\" x=\"255\" y=\"-103.4\" font-family=\"Times New Roman,serif\" font-size=\"12.00\" fill=\"#c0c0c0\">2</text></g><g id=\"edge9\" class=\"edge\"><path fill=\"none\" stroke=\"#7b7b7b\" d=\"M190.43,-89.21C196.86,-84.16 204.72,-78.13 212,-73 217.9,-68.84 224.41,-64.53 230.51,-60.6\"/><polygon fill=\"#7b7b7b\" stroke=\"#7b7b7b\" points=\"239.02,-55.19 232.99,-64.35 234.8,-57.87 230.58,-60.55 230.58,-60.55 230.58,-60.55 234.8,-57.87 228.17,-56.75 239.02,-55.19 239.02,-55.19\"/><text text-anchor=\"middle\" x=\"215.5\" y=\"-76.4\" font-family=\"Times New Roman,serif\" font-size=\"12.00\" fill=\"#c0c0c0\">1</text></g><g id=\"edge11\" class=\"edge\"><path fill=\"none\" stroke=\"#7b7b7b\" d=\"M273.29,-46C300.23,-46 352.46,-46 384.58,-46\"/><polygon fill=\"#7b7b7b\" stroke=\"#7b7b7b\" points=\"394.63,-46 384.63,-50.5 389.63,-46 384.63,-46 384.63,-46 384.63,-46 389.63,-46 384.63,-41.5 394.63,-46 394.63,-46\"/><text text-anchor=\"middle\" x=\"334\" y=\"-49.4\" font-family=\"Times New Roman,serif\" font-size=\"12.00\" fill=\"#c0c0c0\">3</text></g></g><desc>Generated by algviz-0.2.2(see https://algviz.com).</desc><g id=\"graph1\" class=\"graph\" transform=\"scale(1 1) rotate(0) translate(4 171)\"/></svg>"
      ],
      "text/plain": [
       "<algviz.svg_graph.SvgGraph at 0x1ec698a93a0>"
      ]
     },
     "metadata": {},
     "output_type": "display_data"
    },
    {
     "data": {
      "image/svg+xml": [
       "<?xml version=\"1.0\" ?><svg xmlns=\"http://www.w3.org/2000/svg\" width=\"243pt\" height=\"16pt\" viewBox=\"0.00 0.00 242.60 15.60\"><g id=\"44\"><text x=\"5\" y=\"12.00\" font-size=\"12.00\" font-family=\"cursive\">Current shortest path: 0 -&gt; ... -&gt; 4</text></g></svg>"
      ],
      "text/plain": [
       "<algviz.logger.Logger at 0x1ec698510a0>"
      ]
     },
     "metadata": {},
     "output_type": "display_data"
    },
    {
     "data": {
      "image/svg+xml": [
       "<?xml version=\"1.0\" ?><svg xmlns=\"http://www.w3.org/2000/svg\" width=\"276pt\" height=\"47pt\" viewBox=\"0.00 0.00 275.60 46.80\"><g id=\"44\"><text x=\"5\" y=\"12.00\" font-size=\"12.00\" font-family=\"cursive\">Update the shortest path of node: 4</text><text x=\"5\" y=\"26.40\" font-size=\"12.00\" font-family=\"cursive\">0 -&gt; ... -&gt; 4 current minimum distance: 7</text><text x=\"5\" y=\"40.80\" font-size=\"12.00\" font-family=\"cursive\">0 -&gt; ... -&gt; 3 -&gt; ... -&gt; 4 distance: 8</text></g></svg>"
      ],
      "text/plain": [
       "<algviz.logger.Logger at 0x1ec698e39d0>"
      ]
     },
     "metadata": {},
     "output_type": "display_data"
    },
    {
     "data": {
      "text/plain": [
       "shortest_path_table:"
      ]
     },
     "metadata": {},
     "output_type": "display_data"
    },
    {
     "data": {
      "image/svg+xml": [
       "<?xml version=\"1.0\" ?><svg width=\"329pt\" height=\"129pt\" viewBox=\"0.00 0.00 329.00 129.00\" xmlns=\"http://www.w3.org/2000/svg\"><desc>Generated by algviz-0.2.2(see https://algviz.com).</desc><style>.txt { alignment-baseline:middle; text-anchor:middle; font-family:Times,serif; }</style><g id=\"0\"><rect x=\"6.00\" y=\"6.00\" width=\"40.00\" height=\"40.00\" fill=\"#ffffff\" stroke=\"#7b7b7b\"/><text class=\"txt\" x=\"26.00\" y=\"26.00\" font-size=\"16.00\" fill=\"#000000\">node</text></g><g id=\"1\"><rect x=\"46.00\" y=\"6.00\" width=\"40.00\" height=\"40.00\" fill=\"#ffffff\" stroke=\"#7b7b7b\"/><text class=\"txt\" x=\"66.00\" y=\"26.00\" font-size=\"16.00\" fill=\"#000000\">0</text></g><g id=\"2\"><rect x=\"86.00\" y=\"6.00\" width=\"40.00\" height=\"40.00\" fill=\"#ffffff\" stroke=\"#7b7b7b\"/><text class=\"txt\" x=\"106.00\" y=\"26.00\" font-size=\"16.00\" fill=\"#000000\">1</text></g><g id=\"3\"><rect x=\"126.00\" y=\"6.00\" width=\"40.00\" height=\"40.00\" fill=\"#ffffff\" stroke=\"#7b7b7b\"/><text class=\"txt\" x=\"146.00\" y=\"26.00\" font-size=\"16.00\" fill=\"#000000\">2</text></g><g id=\"4\"><rect x=\"166.00\" y=\"6.00\" width=\"40.00\" height=\"40.00\" fill=\"#ffffff\" stroke=\"#7b7b7b\"/><text class=\"txt\" x=\"186.00\" y=\"26.00\" font-size=\"16.00\" fill=\"#000000\">3</text></g><g id=\"5\"><rect x=\"206.00\" y=\"6.00\" width=\"40.00\" height=\"40.00\" fill=\"#ffffff\" stroke=\"#7b7b7b\"/><text class=\"txt\" x=\"226.00\" y=\"26.00\" font-size=\"16.00\" fill=\"#000000\">4</text></g><g id=\"6\"><rect x=\"246.00\" y=\"6.00\" width=\"40.00\" height=\"40.00\" fill=\"#ffffff\" stroke=\"#7b7b7b\"/><text class=\"txt\" x=\"266.00\" y=\"26.00\" font-size=\"16.00\" fill=\"#000000\">5</text></g><g id=\"7\"><rect x=\"286.00\" y=\"6.00\" width=\"40.00\" height=\"40.00\" fill=\"#ffffff\" stroke=\"#7b7b7b\"/><text class=\"txt\" x=\"306.00\" y=\"26.00\" font-size=\"16.00\" fill=\"#000000\">6</text></g><g id=\"8\"><rect x=\"6.00\" y=\"46.00\" width=\"40.00\" height=\"40.00\" fill=\"#ffffff\" stroke=\"#7b7b7b\"/><text class=\"txt\" x=\"26.00\" y=\"66.00\" font-size=\"16.00\" fill=\"#000000\">dist</text></g><g id=\"9\"><rect x=\"46.00\" y=\"46.00\" width=\"40.00\" height=\"40.00\" fill=\"#ffffff\" stroke=\"#7b7b7b\"/><text class=\"txt\" x=\"66.00\" y=\"66.00\" font-size=\"16.00\" fill=\"#000000\">0</text></g><g id=\"10\"><rect x=\"86.00\" y=\"46.00\" width=\"40.00\" height=\"40.00\" fill=\"#ffffff\" stroke=\"#7b7b7b\"/><text class=\"txt\" x=\"106.00\" y=\"66.00\" font-size=\"16.00\" fill=\"#000000\">2</text></g><g id=\"11\"><rect x=\"126.00\" y=\"46.00\" width=\"40.00\" height=\"40.00\" fill=\"#ffffff\" stroke=\"#7b7b7b\"/><text class=\"txt\" x=\"146.00\" y=\"66.00\" font-size=\"16.00\" fill=\"#000000\">4</text></g><g id=\"12\"><rect x=\"166.00\" y=\"46.00\" width=\"40.00\" height=\"40.00\" fill=\"#ffffff\" stroke=\"#7b7b7b\"/><text class=\"txt\" x=\"186.00\" y=\"66.00\" font-size=\"16.00\" fill=\"#000000\">5</text></g><g id=\"13\"><rect x=\"206.00\" y=\"46.00\" width=\"40.00\" height=\"40.00\" fill=\"#ffffff\" stroke=\"#7b7b7b\"/><text class=\"txt\" x=\"226.00\" y=\"66.00\" font-size=\"16.00\" fill=\"#000000\">7</text></g><g id=\"14\"><rect x=\"246.00\" y=\"46.00\" width=\"40.00\" height=\"40.00\" fill=\"#ffffff\" stroke=\"#7b7b7b\"/><text class=\"txt\" x=\"266.00\" y=\"66.00\" font-size=\"16.00\" fill=\"#000000\">3</text></g><g id=\"15\"><rect x=\"286.00\" y=\"46.00\" width=\"40.00\" height=\"40.00\" fill=\"#ffffff\" stroke=\"#7b7b7b\"/><text class=\"txt\" x=\"306.00\" y=\"66.00\" font-size=\"16.00\" fill=\"#000000\">4</text></g><g id=\"16\"><rect x=\"6.00\" y=\"86.00\" width=\"40.00\" height=\"40.00\" fill=\"#ffffff\" stroke=\"#7b7b7b\"/><text class=\"txt\" x=\"26.00\" y=\"106.00\" font-size=\"16.00\" fill=\"#000000\">pred</text></g><g id=\"17\"><rect x=\"46.00\" y=\"86.00\" width=\"40.00\" height=\"40.00\" fill=\"#ffffff\" stroke=\"#7b7b7b\"/></g><g id=\"18\"><rect x=\"86.00\" y=\"86.00\" width=\"40.00\" height=\"40.00\" fill=\"#ffffff\" stroke=\"#7b7b7b\"/><text class=\"txt\" x=\"106.00\" y=\"106.00\" font-size=\"16.00\" fill=\"#000000\">0</text></g><g id=\"19\"><rect x=\"126.00\" y=\"86.00\" width=\"40.00\" height=\"40.00\" fill=\"#ffffff\" stroke=\"#7b7b7b\"/><text class=\"txt\" x=\"146.00\" y=\"106.00\" font-size=\"16.00\" fill=\"#000000\">5</text></g><g id=\"20\"><rect x=\"166.00\" y=\"86.00\" width=\"40.00\" height=\"40.00\" fill=\"#ffffff\" stroke=\"#7b7b7b\"/><text class=\"txt\" x=\"186.00\" y=\"106.00\" font-size=\"16.00\" fill=\"#000000\">5</text></g><g id=\"21\"><rect x=\"206.00\" y=\"86.00\" width=\"40.00\" height=\"40.00\" fill=\"#ffffff\" stroke=\"#7b7b7b\"/><text class=\"txt\" x=\"226.00\" y=\"106.00\" font-size=\"16.00\" fill=\"#000000\">6</text></g><g id=\"22\"><rect x=\"246.00\" y=\"86.00\" width=\"40.00\" height=\"40.00\" fill=\"#ffffff\" stroke=\"#7b7b7b\"/><text class=\"txt\" x=\"266.00\" y=\"106.00\" font-size=\"16.00\" fill=\"#000000\">1</text></g><g id=\"23\"><rect x=\"286.00\" y=\"86.00\" width=\"40.00\" height=\"40.00\" fill=\"#ffffff\" stroke=\"#7b7b7b\"/><text class=\"txt\" x=\"306.00\" y=\"106.00\" font-size=\"16.00\" fill=\"#000000\">5</text></g></svg>"
      ],
      "text/plain": [
       "<algviz.table.Table at 0x1ec698a92e0>"
      ]
     },
     "metadata": {},
     "output_type": "display_data"
    }
   ],
   "source": [
    "# Test case1.\n",
    "nodes = [0, 1, 2, 3, 4, 5, 6]\n",
    "edges = [(0, 1, 2), (0, 6, 6), (0, 4, 8),\n",
    "        (1, 2, 3), (1, 5, 1),\n",
    "        (2, 3, 1),\n",
    "        (3, 4, 3),\n",
    "        (5, 3, 2), (5, 6, 1), (5, 2, 1),\n",
    "        (6, 4, 3)]\n",
    "DjkstraSolver(nodes, edges, 0).run()"
   ]
  },
  {
   "cell_type": "code",
   "execution_count": 3,
   "metadata": {},
   "outputs": [
    {
     "data": {
      "text/plain": [
       "Graph:"
      ]
     },
     "metadata": {},
     "output_type": "display_data"
    },
    {
     "data": {
      "image/svg+xml": [
       "<?xml version=\"1.0\" ?><!DOCTYPE svg  PUBLIC '-//W3C//DTD SVG 1.1//EN'  'http://www.w3.org/Graphics/SVG/1.1/DTD/svg11.dtd'><!-- Generated by graphviz version 2.44.1 (20200629.0800) --><!-- Pages: 1 --><svg xmlns=\"http://www.w3.org/2000/svg\" xmlns:xlink=\"http://www.w3.org/1999/xlink\" width=\"360pt\" height=\"151pt\" viewBox=\"0.00 0.00 360.00 151.00\"><g id=\"graph0\" class=\"graph\" transform=\"scale(1 1) rotate(0) translate(4 146.61)\"><polygon fill=\"transparent\" stroke=\"transparent\" points=\"-4,4 -4,-146.61 356,-146.61 356,4 -4,4\"/><g id=\"node1\" class=\"node\"><ellipse fill=\"#ffffff\" stroke=\"#7b7b7b\" cx=\"18\" cy=\"-42.61\" rx=\"18\" ry=\"18\"/><text text-anchor=\"middle\" x=\"18\" y=\"-38.91\" font-family=\"Times New Roman,serif\" font-size=\"14.00\" fill=\"#000000\">0</text></g><g id=\"node2\" class=\"node\"><ellipse fill=\"#ffffff\" stroke=\"#7b7b7b\" cx=\"334\" cy=\"-83.61\" rx=\"18\" ry=\"18\"/><text text-anchor=\"middle\" x=\"334\" y=\"-79.91\" font-family=\"Times New Roman,serif\" font-size=\"14.00\" fill=\"#000000\">1</text></g><g id=\"edge3\" class=\"edge\"><path fill=\"none\" stroke=\"#7b7b7b\" d=\"M25.04,-59.39C35.35,-84.67 58.89,-129.61 96,-129.61 96,-129.61 96,-129.61 256,-129.61 277.74,-129.61 298.67,-115.93 313.2,-103.49\"/><polygon fill=\"#7b7b7b\" stroke=\"#7b7b7b\" points=\"320.98,-96.43 316.61,-106.48 317.28,-99.79 313.58,-103.15 313.58,-103.15 313.58,-103.15 317.28,-99.79 310.55,-99.82 320.98,-96.43 320.98,-96.43\"/><text text-anchor=\"middle\" x=\"176\" y=\"-133.01\" font-family=\"Times New Roman,serif\" font-size=\"12.00\" fill=\"#c0c0c0\">6</text></g><g id=\"node3\" class=\"node\"><ellipse fill=\"#ffffff\" stroke=\"#7b7b7b\" cx=\"97\" cy=\"-71.61\" rx=\"18\" ry=\"18\"/><text text-anchor=\"middle\" x=\"97\" y=\"-67.91\" font-family=\"Times New Roman,serif\" font-size=\"14.00\" fill=\"#000000\">2</text></g><g id=\"edge2\" class=\"edge\"><path fill=\"none\" stroke=\"#7b7b7b\" d=\"M35.33,-48.76C45.5,-52.6 58.81,-57.61 70.37,-61.96\"/><polygon fill=\"#7b7b7b\" stroke=\"#7b7b7b\" points=\"79.96,-65.57 69.01,-66.26 75.28,-63.81 70.6,-62.05 70.6,-62.05 70.6,-62.05 75.28,-63.81 72.19,-57.84 79.96,-65.57 79.96,-65.57\"/><text text-anchor=\"middle\" x=\"57.5\" y=\"-61.01\" font-family=\"Times New Roman,serif\" font-size=\"12.00\" fill=\"#c0c0c0\">2</text></g><g id=\"node4\" class=\"node\"><ellipse fill=\"#ffffff\" stroke=\"#7b7b7b\" cx=\"176\" cy=\"-30.61\" rx=\"18\" ry=\"18\"/><text text-anchor=\"middle\" x=\"176\" y=\"-26.91\" font-family=\"Times New Roman,serif\" font-size=\"14.00\" fill=\"#000000\">3</text></g><g id=\"edge1\" class=\"edge\"><path fill=\"none\" stroke=\"#7b7b7b\" d=\"M35.7,-38.76C47.68,-36.19 64.24,-33.03 79,-31.61 102.13,-29.39 128.54,-29.29 147.8,-29.66\"/><polygon fill=\"#7b7b7b\" stroke=\"#7b7b7b\" points=\"157.96,-29.91 147.85,-34.17 152.96,-29.79 147.96,-29.67 147.96,-29.67 147.96,-29.67 152.96,-29.79 148.07,-25.17 157.96,-29.91 157.96,-29.91\"/><text text-anchor=\"middle\" x=\"97\" y=\"-35.01\" font-family=\"Times New Roman,serif\" font-size=\"12.00\" fill=\"#c0c0c0\">2</text></g><g id=\"edge5\" class=\"edge\"><path fill=\"none\" stroke=\"#7b7b7b\" d=\"M115.28,-72.5C155.78,-74.56 257.09,-79.74 305.89,-82.23\"/><polygon fill=\"#7b7b7b\" stroke=\"#7b7b7b\" points=\"316.01,-82.75 305.79,-86.73 311.02,-82.49 306.02,-82.24 306.02,-82.24 306.02,-82.24 311.02,-82.49 306.25,-77.74 316.01,-82.75 316.01,-82.75\"/><text text-anchor=\"middle\" x=\"215.5\" y=\"-81.01\" font-family=\"Times New Roman,serif\" font-size=\"12.00\" fill=\"#c0c0c0\">3</text></g><g id=\"edge4\" class=\"edge\"><path fill=\"none\" stroke=\"#7b7b7b\" d=\"M113.21,-63.51C123.97,-57.78 138.61,-49.99 150.94,-43.42\"/><polygon fill=\"#7b7b7b\" stroke=\"#7b7b7b\" points=\"159.82,-38.7 153.11,-47.37 155.41,-41.05 150.99,-43.4 150.99,-43.4 150.99,-43.4 155.41,-41.05 148.88,-39.42 159.82,-38.7 159.82,-38.7\"/><text text-anchor=\"middle\" x=\"136.5\" y=\"-55.01\" font-family=\"Times New Roman,serif\" font-size=\"12.00\" fill=\"#c0c0c0\">1</text></g><g id=\"node5\" class=\"node\"><ellipse fill=\"#ffffff\" stroke=\"#7b7b7b\" cx=\"255\" cy=\"-30.61\" rx=\"18\" ry=\"18\"/><text text-anchor=\"middle\" x=\"255\" y=\"-26.91\" font-family=\"Times New Roman,serif\" font-size=\"14.00\" fill=\"#000000\">4</text></g><g id=\"edge6\" class=\"edge\"><path fill=\"none\" stroke=\"#7b7b7b\" d=\"M194.09,-30.61C203.66,-30.61 215.82,-30.61 226.68,-30.61\"/><polygon fill=\"#7b7b7b\" stroke=\"#7b7b7b\" points=\"236.96,-30.61 226.96,-35.11 231.96,-30.61 226.96,-30.61 226.96,-30.61 226.96,-30.61 231.96,-30.61 226.96,-26.11 236.96,-30.61 236.96,-30.61\"/><text text-anchor=\"middle\" x=\"215.5\" y=\"-34.01\" font-family=\"Times New Roman,serif\" font-size=\"12.00\" fill=\"#c0c0c0\">1</text></g><g id=\"edge8\" class=\"edge\"><path fill=\"none\" stroke=\"#7b7b7b\" d=\"M238.83,-21.61C227.06,-15.18 210.08,-7.06 194,-3.61 140.26,7.92 77.4,-15.01 43.57,-30.35\"/><polygon fill=\"#7b7b7b\" stroke=\"#7b7b7b\" points=\"34.43,-34.63 41.58,-26.31 38.96,-32.51 43.49,-30.39 43.49,-30.39 43.49,-30.39 38.96,-32.51 45.4,-34.46 34.43,-34.63 34.43,-34.63\"/><text text-anchor=\"middle\" x=\"136.5\" y=\"-6.01\" font-family=\"Times New Roman,serif\" font-size=\"12.00\" fill=\"#c0c0c0\">3</text></g><g id=\"edge7\" class=\"edge\"><path fill=\"none\" stroke=\"#7b7b7b\" d=\"M271.01,-39.39C279.13,-44.27 289.26,-50.56 298,-56.61 302.46,-59.7 307.13,-63.14 311.54,-66.51\"/><polygon fill=\"#7b7b7b\" stroke=\"#7b7b7b\" points=\"319.61,-72.77 308.95,-70.19 315.66,-69.7 311.71,-66.64 311.71,-66.64 311.71,-66.64 315.66,-69.7 314.47,-63.08 319.61,-72.77 319.61,-72.77\"/><text text-anchor=\"middle\" x=\"294.5\" y=\"-60.01\" font-family=\"Times New Roman,serif\" font-size=\"12.00\" fill=\"#c0c0c0\">1</text></g></g><desc>Generated by algviz-0.2.2(see https://algviz.com).</desc><g id=\"graph1\" class=\"graph\" transform=\"scale(1 1) rotate(0) translate(4 146.61)\"/></svg>"
      ],
      "text/plain": [
       "<algviz.svg_graph.SvgGraph at 0x1ec698a9250>"
      ]
     },
     "metadata": {},
     "output_type": "display_data"
    },
    {
     "data": {
      "image/svg+xml": [
       "<?xml version=\"1.0\" ?><svg xmlns=\"http://www.w3.org/2000/svg\" width=\"243pt\" height=\"16pt\" viewBox=\"0.00 0.00 242.60 15.60\"><g id=\"30\"><text x=\"5\" y=\"12.00\" font-size=\"12.00\" font-family=\"cursive\">Current shortest path: 4 -&gt; ... -&gt; 3</text></g></svg>"
      ],
      "text/plain": [
       "<algviz.logger.Logger at 0x1ec698b60a0>"
      ]
     },
     "metadata": {},
     "output_type": "display_data"
    },
    {
     "data": {
      "image/svg+xml": [
       "<?xml version=\"1.0\" ?><svg xmlns=\"http://www.w3.org/2000/svg\" width=\"276pt\" height=\"47pt\" viewBox=\"0.00 0.00 275.60 46.80\"><g id=\"30\"><text x=\"5\" y=\"12.00\" font-size=\"12.00\" font-family=\"cursive\">4 -&gt; ... -&gt; 2 -&gt; ... -&gt; 3 distance: 6</text><text x=\"5\" y=\"26.40\" font-size=\"12.00\" font-family=\"cursive\">4 -&gt; ... -&gt; 4 current minimum distance: 0</text><text x=\"5\" y=\"40.80\" font-size=\"12.00\" font-family=\"cursive\">4 -&gt; ... -&gt; 3 -&gt; ... -&gt; 4 distance: 6</text></g></svg>"
      ],
      "text/plain": [
       "<algviz.logger.Logger at 0x1ec698b61f0>"
      ]
     },
     "metadata": {},
     "output_type": "display_data"
    },
    {
     "data": {
      "text/plain": [
       "shortest_path_table:"
      ]
     },
     "metadata": {},
     "output_type": "display_data"
    },
    {
     "data": {
      "image/svg+xml": [
       "<?xml version=\"1.0\" ?><svg width=\"249pt\" height=\"129pt\" viewBox=\"0.00 0.00 249.00 129.00\" xmlns=\"http://www.w3.org/2000/svg\"><desc>Generated by algviz-0.2.2(see https://algviz.com).</desc><style>.txt { alignment-baseline:middle; text-anchor:middle; font-family:Times,serif; }</style><g id=\"0\"><rect x=\"6.00\" y=\"6.00\" width=\"40.00\" height=\"40.00\" fill=\"#ffffff\" stroke=\"#7b7b7b\"/><text class=\"txt\" x=\"26.00\" y=\"26.00\" font-size=\"16.00\" fill=\"#000000\">node</text></g><g id=\"1\"><rect x=\"46.00\" y=\"6.00\" width=\"40.00\" height=\"40.00\" fill=\"#ffffff\" stroke=\"#7b7b7b\"/><text class=\"txt\" x=\"66.00\" y=\"26.00\" font-size=\"16.00\" fill=\"#000000\">0</text></g><g id=\"2\"><rect x=\"86.00\" y=\"6.00\" width=\"40.00\" height=\"40.00\" fill=\"#ffffff\" stroke=\"#7b7b7b\"/><text class=\"txt\" x=\"106.00\" y=\"26.00\" font-size=\"16.00\" fill=\"#000000\">1</text></g><g id=\"3\"><rect x=\"126.00\" y=\"6.00\" width=\"40.00\" height=\"40.00\" fill=\"#ffffff\" stroke=\"#7b7b7b\"/><text class=\"txt\" x=\"146.00\" y=\"26.00\" font-size=\"16.00\" fill=\"#000000\">2</text></g><g id=\"4\"><rect x=\"166.00\" y=\"6.00\" width=\"40.00\" height=\"40.00\" fill=\"#ffffff\" stroke=\"#7b7b7b\"/><text class=\"txt\" x=\"186.00\" y=\"26.00\" font-size=\"16.00\" fill=\"#000000\">3</text></g><g id=\"5\"><rect x=\"206.00\" y=\"6.00\" width=\"40.00\" height=\"40.00\" fill=\"#ffffff\" stroke=\"#7b7b7b\"/><text class=\"txt\" x=\"226.00\" y=\"26.00\" font-size=\"16.00\" fill=\"#000000\">4</text></g><g id=\"6\"><rect x=\"6.00\" y=\"46.00\" width=\"40.00\" height=\"40.00\" fill=\"#ffffff\" stroke=\"#7b7b7b\"/><text class=\"txt\" x=\"26.00\" y=\"66.00\" font-size=\"16.00\" fill=\"#000000\">dist</text></g><g id=\"7\"><rect x=\"46.00\" y=\"46.00\" width=\"40.00\" height=\"40.00\" fill=\"#ffffff\" stroke=\"#7b7b7b\"/><text class=\"txt\" x=\"66.00\" y=\"66.00\" font-size=\"16.00\" fill=\"#000000\">3</text></g><g id=\"8\"><rect x=\"86.00\" y=\"46.00\" width=\"40.00\" height=\"40.00\" fill=\"#ffffff\" stroke=\"#7b7b7b\"/><text class=\"txt\" x=\"106.00\" y=\"66.00\" font-size=\"16.00\" fill=\"#000000\">1</text></g><g id=\"9\"><rect x=\"126.00\" y=\"46.00\" width=\"40.00\" height=\"40.00\" fill=\"#ffffff\" stroke=\"#7b7b7b\"/><text class=\"txt\" x=\"146.00\" y=\"66.00\" font-size=\"16.00\" fill=\"#000000\">5</text></g><g id=\"10\"><rect x=\"166.00\" y=\"46.00\" width=\"40.00\" height=\"40.00\" fill=\"#ffffff\" stroke=\"#7b7b7b\"/><text class=\"txt\" x=\"186.00\" y=\"66.00\" font-size=\"16.00\" fill=\"#000000\">5</text></g><g id=\"11\"><rect x=\"206.00\" y=\"46.00\" width=\"40.00\" height=\"40.00\" fill=\"#ffffff\" stroke=\"#7b7b7b\"/><text class=\"txt\" x=\"226.00\" y=\"66.00\" font-size=\"16.00\" fill=\"#000000\">0</text></g><g id=\"12\"><rect x=\"6.00\" y=\"86.00\" width=\"40.00\" height=\"40.00\" fill=\"#ffffff\" stroke=\"#7b7b7b\"/><text class=\"txt\" x=\"26.00\" y=\"106.00\" font-size=\"16.00\" fill=\"#000000\">pred</text></g><g id=\"13\"><rect x=\"46.00\" y=\"86.00\" width=\"40.00\" height=\"40.00\" fill=\"#ffffff\" stroke=\"#7b7b7b\"/><text class=\"txt\" x=\"66.00\" y=\"106.00\" font-size=\"16.00\" fill=\"#000000\">4</text></g><g id=\"14\"><rect x=\"86.00\" y=\"86.00\" width=\"40.00\" height=\"40.00\" fill=\"#ffffff\" stroke=\"#7b7b7b\"/><text class=\"txt\" x=\"106.00\" y=\"106.00\" font-size=\"16.00\" fill=\"#000000\">4</text></g><g id=\"15\"><rect x=\"126.00\" y=\"86.00\" width=\"40.00\" height=\"40.00\" fill=\"#ffffff\" stroke=\"#7b7b7b\"/><text class=\"txt\" x=\"146.00\" y=\"106.00\" font-size=\"16.00\" fill=\"#000000\">0</text></g><g id=\"16\"><rect x=\"166.00\" y=\"86.00\" width=\"40.00\" height=\"40.00\" fill=\"#ffffff\" stroke=\"#7b7b7b\"/><text class=\"txt\" x=\"186.00\" y=\"106.00\" font-size=\"16.00\" fill=\"#000000\">0</text></g><g id=\"17\"><rect x=\"206.00\" y=\"86.00\" width=\"40.00\" height=\"40.00\" fill=\"#ffffff\" stroke=\"#7b7b7b\"/></g></svg>"
      ],
      "text/plain": [
       "<algviz.table.Table at 0x1ec698a9730>"
      ]
     },
     "metadata": {},
     "output_type": "display_data"
    }
   ],
   "source": [
    "# Test case2, graph with cycle.\n",
    "nodes = [0, 1, 2, 3, 4]\n",
    "edges = [(0, 1, 6), (0, 2, 2), (0, 3, 2),\n",
    "        (2, 1, 3), (2, 3, 1),\n",
    "        (3, 4, 1),\n",
    "        (4, 0, 3), (4, 1, 1)]\n",
    "DjkstraSolver(nodes, edges, 4).run()"
   ]
  },
  {
   "cell_type": "code",
   "execution_count": 5,
   "metadata": {},
   "outputs": [
    {
     "data": {
      "text/plain": [
       "Graph:"
      ]
     },
     "metadata": {},
     "output_type": "display_data"
    },
    {
     "data": {
      "image/svg+xml": [
       "<?xml version=\"1.0\" ?><!DOCTYPE svg  PUBLIC '-//W3C//DTD SVG 1.1//EN'  'http://www.w3.org/Graphics/SVG/1.1/DTD/svg11.dtd'><!-- Generated by graphviz version 2.44.1 (20200629.0800) --><!-- Pages: 1 --><svg xmlns=\"http://www.w3.org/2000/svg\" xmlns:xlink=\"http://www.w3.org/1999/xlink\" width=\"202pt\" height=\"77pt\" viewBox=\"0.00 0.00 202.00 77.00\"><g id=\"graph0\" class=\"graph\" transform=\"scale(1 1) rotate(0) translate(4 73)\"><polygon fill=\"transparent\" stroke=\"transparent\" points=\"-4,4 -4,-73 198,-73 198,4 -4,4\"/><g id=\"node1\" class=\"node\"><ellipse fill=\"#ffffff\" stroke=\"#7b7b7b\" cx=\"18\" cy=\"-18\" rx=\"18\" ry=\"18\"/><text text-anchor=\"middle\" x=\"18\" y=\"-14.3\" font-family=\"Times New Roman,serif\" font-size=\"14.00\" fill=\"#000000\">0</text></g><g id=\"node2\" class=\"node\"><ellipse fill=\"#ffffff\" stroke=\"#7b7b7b\" cx=\"97\" cy=\"-51\" rx=\"18\" ry=\"18\"/><text text-anchor=\"middle\" x=\"97\" y=\"-47.3\" font-family=\"Times New Roman,serif\" font-size=\"14.00\" fill=\"#000000\">1</text></g><g id=\"edge1\" class=\"edge\"><path fill=\"none\" stroke=\"#7b7b7b\" d=\"M34.95,-24.84C45.28,-29.26 58.94,-35.12 70.73,-40.17\"/><polygon fill=\"#7b7b7b\" stroke=\"#7b7b7b\" points=\"80.07,-44.17 69.1,-44.37 75.47,-42.2 70.87,-40.23 70.87,-40.23 70.87,-40.23 75.47,-42.2 72.65,-36.1 80.07,-44.17 80.07,-44.17\"/><text text-anchor=\"middle\" x=\"57.5\" y=\"-38.4\" font-family=\"Times New Roman,serif\" font-size=\"12.00\" fill=\"#c0c0c0\">1</text></g><g id=\"node3\" class=\"node\"><ellipse fill=\"#ffffff\" stroke=\"#7b7b7b\" cx=\"176\" cy=\"-18\" rx=\"18\" ry=\"18\"/><text text-anchor=\"middle\" x=\"176\" y=\"-14.3\" font-family=\"Times New Roman,serif\" font-size=\"14.00\" fill=\"#000000\">2</text></g><g id=\"edge2\" class=\"edge\"><path fill=\"none\" stroke=\"#7b7b7b\" d=\"M113.95,-44.16C124.28,-39.74 137.94,-33.88 149.73,-28.83\"/><polygon fill=\"#7b7b7b\" stroke=\"#7b7b7b\" points=\"159.07,-24.83 151.65,-32.9 154.47,-26.8 149.87,-28.77 149.87,-28.77 149.87,-28.77 154.47,-26.8 148.1,-24.63 159.07,-24.83 159.07,-24.83\"/><text text-anchor=\"middle\" x=\"136.5\" y=\"-38.4\" font-family=\"Times New Roman,serif\" font-size=\"12.00\" fill=\"#c0c0c0\">1</text></g><g id=\"edge3\" class=\"edge\"><path fill=\"none\" stroke=\"#7b7b7b\" d=\"M157.98,-15.48C145.99,-13.84 129.55,-11.85 115,-11 99.03,-10.07 94.97,-10.07 79,-11 68.2,-11.63 56.36,-12.89 46.07,-14.17\"/><polygon fill=\"#7b7b7b\" stroke=\"#7b7b7b\" points=\"36.02,-15.48 45.35,-9.72 40.98,-14.83 45.94,-14.18 45.94,-14.18 45.94,-14.18 40.98,-14.83 46.52,-18.64 36.02,-15.48 36.02,-15.48\"/><text text-anchor=\"middle\" x=\"97\" y=\"-14.4\" font-family=\"Times New Roman,serif\" font-size=\"12.00\" fill=\"#c0c0c0\">-3</text></g></g><desc>Generated by algviz-0.2.2(see https://algviz.com).</desc><g id=\"graph1\" class=\"graph\" transform=\"scale(1 1) rotate(0) translate(4 73)\"/></svg>"
      ],
      "text/plain": [
       "<algviz.svg_graph.SvgGraph at 0x1ec698b6220>"
      ]
     },
     "metadata": {},
     "output_type": "display_data"
    },
    {
     "data": {
      "image/svg+xml": [
       "<?xml version=\"1.0\" ?><svg xmlns=\"http://www.w3.org/2000/svg\" width=\"243pt\" height=\"16pt\" viewBox=\"0.00 0.00 242.60 15.60\"><g id=\"14\"><text x=\"5\" y=\"12.00\" font-size=\"12.00\" font-family=\"cursive\">Current shortest path: 0 -&gt; ... -&gt; 2</text></g></svg>"
      ],
      "text/plain": [
       "<algviz.logger.Logger at 0x1ec6a488c10>"
      ]
     },
     "metadata": {},
     "output_type": "display_data"
    },
    {
     "data": {
      "image/svg+xml": [
       "<?xml version=\"1.0\" ?><svg xmlns=\"http://www.w3.org/2000/svg\" width=\"276pt\" height=\"47pt\" viewBox=\"0.00 0.00 275.60 46.80\"><g id=\"14\"><text x=\"5\" y=\"12.00\" font-size=\"12.00\" font-family=\"cursive\">0 -&gt; ... -&gt; 0 current minimum distance: 0</text><text x=\"5\" y=\"26.40\" font-size=\"12.00\" font-family=\"cursive\">0 -&gt; ... -&gt; 2 -&gt; ... -&gt; 0 distance: -1</text><text x=\"5\" y=\"40.80\" font-size=\"12.00\" font-family=\"cursive\">Update the shortest path of node: 0</text></g></svg>"
      ],
      "text/plain": [
       "<algviz.logger.Logger at 0x1ec6a344670>"
      ]
     },
     "metadata": {},
     "output_type": "display_data"
    },
    {
     "data": {
      "text/plain": [
       "shortest_path_table:"
      ]
     },
     "metadata": {},
     "output_type": "display_data"
    },
    {
     "data": {
      "image/svg+xml": [
       "<?xml version=\"1.0\" ?><svg width=\"169pt\" height=\"129pt\" viewBox=\"0.00 0.00 169.00 129.00\" xmlns=\"http://www.w3.org/2000/svg\"><desc>Generated by algviz-0.2.2(see https://algviz.com).</desc><style>.txt { alignment-baseline:middle; text-anchor:middle; font-family:Times,serif; }</style><g id=\"0\"><rect x=\"6.00\" y=\"6.00\" width=\"40.00\" height=\"40.00\" fill=\"#ffffff\" stroke=\"#7b7b7b\"/><text class=\"txt\" x=\"26.00\" y=\"26.00\" font-size=\"16.00\" fill=\"#000000\">node</text></g><g id=\"1\"><rect x=\"46.00\" y=\"6.00\" width=\"40.00\" height=\"40.00\" fill=\"#ffffff\" stroke=\"#7b7b7b\"/><text class=\"txt\" x=\"66.00\" y=\"26.00\" font-size=\"16.00\" fill=\"#000000\">0</text></g><g id=\"2\"><rect x=\"86.00\" y=\"6.00\" width=\"40.00\" height=\"40.00\" fill=\"#ffffff\" stroke=\"#7b7b7b\"/><text class=\"txt\" x=\"106.00\" y=\"26.00\" font-size=\"16.00\" fill=\"#000000\">1</text></g><g id=\"3\"><rect x=\"126.00\" y=\"6.00\" width=\"40.00\" height=\"40.00\" fill=\"#ffffff\" stroke=\"#7b7b7b\"/><text class=\"txt\" x=\"146.00\" y=\"26.00\" font-size=\"16.00\" fill=\"#000000\">2</text></g><g id=\"4\"><rect x=\"6.00\" y=\"46.00\" width=\"40.00\" height=\"40.00\" fill=\"#ffffff\" stroke=\"#7b7b7b\"/><text class=\"txt\" x=\"26.00\" y=\"66.00\" font-size=\"16.00\" fill=\"#000000\">dist</text></g><g id=\"5\"><rect x=\"46.00\" y=\"46.00\" width=\"40.00\" height=\"40.00\" fill=\"#ffffff\" stroke=\"#7b7b7b\"/><text class=\"txt\" x=\"66.00\" y=\"66.00\" font-size=\"16.00\" fill=\"#000000\">-1</text></g><g id=\"6\"><rect x=\"86.00\" y=\"46.00\" width=\"40.00\" height=\"40.00\" fill=\"#ffffff\" stroke=\"#7b7b7b\"/><text class=\"txt\" x=\"106.00\" y=\"66.00\" font-size=\"16.00\" fill=\"#000000\">1</text></g><g id=\"7\"><rect x=\"126.00\" y=\"46.00\" width=\"40.00\" height=\"40.00\" fill=\"#ffffff\" stroke=\"#7b7b7b\"/><text class=\"txt\" x=\"146.00\" y=\"66.00\" font-size=\"16.00\" fill=\"#000000\">2</text></g><g id=\"8\"><rect x=\"6.00\" y=\"86.00\" width=\"40.00\" height=\"40.00\" fill=\"#ffffff\" stroke=\"#7b7b7b\"/><text class=\"txt\" x=\"26.00\" y=\"106.00\" font-size=\"16.00\" fill=\"#000000\">pred</text></g><g id=\"9\"><rect x=\"46.00\" y=\"86.00\" width=\"40.00\" height=\"40.00\" fill=\"#ffffff\" stroke=\"#7b7b7b\"/><text class=\"txt\" x=\"66.00\" y=\"106.00\" font-size=\"16.00\" fill=\"#000000\">2</text></g><g id=\"10\"><rect x=\"86.00\" y=\"86.00\" width=\"40.00\" height=\"40.00\" fill=\"#ffffff\" stroke=\"#7b7b7b\"/><text class=\"txt\" x=\"106.00\" y=\"106.00\" font-size=\"16.00\" fill=\"#000000\">0</text></g><g id=\"11\"><rect x=\"126.00\" y=\"86.00\" width=\"40.00\" height=\"40.00\" fill=\"#ffffff\" stroke=\"#7b7b7b\"/><text class=\"txt\" x=\"146.00\" y=\"106.00\" font-size=\"16.00\" fill=\"#000000\">1</text></g></svg>"
      ],
      "text/plain": [
       "<algviz.table.Table at 0x1ec6a1f2cd0>"
      ]
     },
     "metadata": {},
     "output_type": "display_data"
    }
   ],
   "source": [
    "# Test case3, failed when there exist a cycle with negative edge value.\n",
    "nodes = [0, 1, 2]\n",
    "edges = [(0, 1, 1), (1, 2, 1), (2, 0, -3)]\n",
    "DjkstraSolver(nodes, edges, 0).run()"
   ]
  }
 ],
 "metadata": {
  "kernelspec": {
   "display_name": "Python 3 (ipykernel)",
   "language": "python",
   "name": "python3"
  },
  "language_info": {
   "codemirror_mode": {
    "name": "ipython",
    "version": 3
   },
   "file_extension": ".py",
   "mimetype": "text/x-python",
   "name": "python",
   "nbconvert_exporter": "python",
   "pygments_lexer": "ipython3",
   "version": "3.9.13"
  },
  "vscode": {
   "interpreter": {
    "hash": "ba530876bec2e6283b9bacba891681e9dff395534db17e3ec46729d6d41aa6cf"
   }
  }
 },
 "nbformat": 4,
 "nbformat_minor": 4
}
