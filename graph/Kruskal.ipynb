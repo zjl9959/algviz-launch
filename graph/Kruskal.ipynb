{
 "cells": [
  {
   "cell_type": "markdown",
   "metadata": {},
   "source": [
    "# Kruskai algorithm\n",
    "\n",
    "Kruskai is a greedy algorithm to find the minimum spanning forest/tree of an undirected edge-weighted graph.\n",
    "\n",
    "Firstly, algorithm creates a forest which including all the vertex in the input graph and init a edge set that contains all the edges in the graph.\n",
    "\n",
    "Then, algorithm repeats removing an edge with minimum weight from the edge and connects the vertex in the forest until edge set is empty.\n",
    "\n",
    "## Reference\n",
    "\n",
    "https://en.wikipedia.org/wiki/Kruskal%27s_algorithm"
   ]
  },
  {
   "cell_type": "code",
   "execution_count": null,
   "metadata": {},
   "outputs": [],
   "source": [
    "import algviz\n",
    "\n",
    "class KruskaiAlgorithm:\n",
    "    def __init__(self, graph_nodes):\n",
    "        self.viz = algviz.Visualizer(0.5)\n",
    "        self.graph = self.viz.createGraph(graph_nodes, name='Input graph', directed=False)\n",
    "        self.graph_nodes = graph_nodes\n",
    "        self.viz.display()\n",
    "\n",
    "    def solve(self):\n",
    "        # TODO: add implement, need the disjoint-set data structure.\n",
    "        pass"
   ]
  }
 ],
 "metadata": {
  "kernelspec": {
   "display_name": "Python 3 (ipykernel)",
   "language": "python",
   "name": "python3"
  },
  "language_info": {
   "codemirror_mode": {
    "name": "ipython",
    "version": 3
   },
   "file_extension": ".py",
   "mimetype": "text/x-python",
   "name": "python",
   "nbconvert_exporter": "python",
   "pygments_lexer": "ipython3",
   "version": "3.9.13"
  },
  "vscode": {
   "interpreter": {
    "hash": "ba530876bec2e6283b9bacba891681e9dff395534db17e3ec46729d6d41aa6cf"
   }
  }
 },
 "nbformat": 4,
 "nbformat_minor": 4
}
