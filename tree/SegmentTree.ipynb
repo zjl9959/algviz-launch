{
 "cells": [
  {
   "cell_type": "markdown",
   "metadata": {},
   "source": [
    "## 背景知识\n",
    "\n",
    "**给你一个数组，如何快速查询数组中某一区间的和？**\n",
    "\n",
    "如果数组里面的内容是不变的，那么可以使用**前缀和**来解决，构造前缀和的时间复杂度为 $O(n)$，查询区间的时间复杂度为 $O(1)$。\n",
    "\n",
    "**但如果数组里面的内容会更新**，提前计算好的前缀和就失效了，查询的时间复杂度退化为 $O(n)$。那么有没有一种数据结构能够兼顾查询和更新的效率呢？当然有，那就是**线段树**！\n",
    "\n",
    "这篇帖子写的很好，介绍了`前缀和`及`线段树`的区别：https://leetcode.cn/circle/discuss/7voSQX/\n",
    "\n",
    "## 什么是线段树?\n",
    "\n",
    "线段树（Segment Tree）是一种二叉树形数据结构，1977 年由 Jon Louis Bentley 发明，用以存储区间或线段，并且允许快速查询结构内包含某一点的所有区间。\n",
    "\n",
    "线段树将数据保存在叶子节点，在上层节点中保存对应区间的相关信息。\n",
    "线段树的根节点对应数组的整个区间，然后递归的将节点所在的区间平衡的划分成左右两部分，并创建左右两颗子树，直到区间中只包含一个元素。\n",
    "\n",
    "<img alt=\"线段树示意图\" src=\"https://pic.leetcode.cn/1694272404-cQImBo-%E7%BA%BF%E6%AE%B5%E6%A0%91%E7%A4%BA%E6%84%8F%E5%9B%BE.jpg\" width=\"700px\">\n",
    "\n",
    "*图：一个区间求和线段树👆*\n",
    "\n",
    "## 练习题目\n",
    "\n",
    "[307. 区域和检索 - 数组可修改](https://leetcode-cn.com/problems/range-sum-query-mutable/)\n",
    "\n",
    "[2424. 最长上传前缀](https://leetcode.cn/problems/longest-uploaded-prefix/description/)\n",
    "\n",
    "[线段树专题](https://leetcode.cn/tag/segment-tree/discuss/latest/)\n"
   ]
  },
  {
   "cell_type": "markdown",
   "metadata": {},
   "source": [
    "### 运行环境\n",
    "\n",
    "*笔记中的动画使用 [algviz算法动画引擎](https://algviz.com/) 渲染，环境配置请参考该链接：[https://algviz.com/cn/installation.html](https://algviz.com/cn/installation.html)*\n",
    "\n",
    "*觉得对你有帮忙的话请给👉[algviz开源项目](https://github.com/zjl9959/algviz)👈点个 Star✨，遇到了问题也可以在这里 [报个bug](https://github.com/zjl9959/algviz/issues)！*"
   ]
  },
  {
   "cell_type": "code",
   "execution_count": 1,
   "metadata": {
    "slideshow": {
     "slide_type": "slide"
    }
   },
   "outputs": [],
   "source": [
    "# 导入算法可视化库，进行实时动画预览；\n",
    "# 开源项目链接：https://github.com/zjl9959/algviz\n",
    "import algviz\n",
    "\n",
    "# 定义线段树节点，记录节点对应的区间信息；\n",
    "# 线段树也是二叉树，这里直接继承 algviz 提供的二叉树类。\n",
    "class SegmentTreeNode(algviz.BinaryTreeNode):\n",
    "    def __init__(self, l, r, v, left, right):\n",
    "        super().__init__(v, left, right)\n",
    "        self.l = l      # 区间左边界\n",
    "        self.r = r      # 区间右边界\n",
    "\n",
    "    def __str__(self):\n",
    "        return '{}\\n[{},{}]'.format(self.val, self.l, self.r)\n",
    "\n",
    "# 更新线段树某一节点的值，这里是做区间求和，根据需要也可以换成求区间最大/最小值。\n",
    "def update_value(node):\n",
    "    val = 0\n",
    "    if node.left is not None:\n",
    "        val += node.left.val\n",
    "    if node.right is not None:\n",
    "        val += node.right.val\n",
    "    return val\n",
    "\n",
    "class SegmentTree:\n",
    "    def __init__(self, data):\n",
    "        self.data = data                    # 保存输入的数组\n",
    "        self.viz = algviz.Visualizer()      # 实例化一个可视化窗口\n",
    "        self.tree = self.viz.createGraph()  # 实例化一个线段树可视化对象\n",
    "        self.root = self.create(0, len(self.data))\n",
    "        self.tree.addNode(self.root)        # 将创建好的线段树绑定到可视化对象\n",
    "        self.viz.display()                  # 刷新可视化窗口\n",
    "\n",
    "    # 递归的创建线段树区间 [l, r)\n",
    "    def create(self, l, r):\n",
    "        if l == r - 1:\n",
    "            node = SegmentTreeNode(l, r - 1, self.data[l], None, None)\n",
    "            self.tree.addNode(node)\n",
    "            self.viz.display(1.0)\n",
    "            return node\n",
    "        mid = (l + r) // 2                  # 将区间均分，注意是左闭右开\n",
    "        node = SegmentTreeNode(l, r - 1, None, None, None)\n",
    "        self.tree.addNode(node)\n",
    "        self.viz.display(1.0)\n",
    "        if mid > l:\n",
    "          node.left = self.create(l, mid)   # 创建左子树\n",
    "        if mid < r:\n",
    "          node.right = self.create(mid, r)  # 创建右子树\n",
    "        node.val = update_value(node)       # 左右子树创建完成后，更新节点的值\n",
    "        self.viz.display(1.0)\n",
    "        return node\n",
    "    \n",
    "    # 区间查询接口 [l, r]\n",
    "    def query(self, l, r):\n",
    "        res = self._query(self.root, l, r)\n",
    "        self.viz.display()\n",
    "        self.tree.removeMark(algviz.cRed)   # 移除树节点上的颜色节点标记\n",
    "        self.viz.display()\n",
    "        self.tree.removeMark(algviz.cGreen)\n",
    "        self.viz.display()\n",
    "        return res\n",
    "\n",
    "    # 区间查询接口的内部递归实现\n",
    "    def _query(self, node, l, r):\n",
    "        if l == node.l and r == node.r:     # 要查询的区间和树节点匹配上了！\n",
    "            self.tree.markNode(algviz.cGreen, node, True)\n",
    "            self.viz.display()              # 刷新可视化动画\n",
    "            return node.val\n",
    "        self.tree.markNode(algviz.cRed, node, True)\n",
    "        self.viz.display()\n",
    "        mid = (node.l + node.r) // 2\n",
    "        if r <= mid:\n",
    "            return self._query(node.left, l, r)     # 要查询的区间位于左子树\n",
    "        elif l > mid:\n",
    "            return self._query(node.right, l, r)    # 要查询的区间位于右子树\n",
    "        else:\n",
    "            # 当要查询区间跨了两个节点时，分成两个区间进行查询\n",
    "            return self._query(node.left, l, mid) + self._query(node.right, mid + 1, r)\n",
    "    \n",
    "    # 单点更新接口\n",
    "    def update(self, pos, val):\n",
    "        self._update(self.root, pos, val)\n",
    "        self.tree.removeMark(algviz.cBlue)\n",
    "        self.viz.display()\n",
    "    \n",
    "    # 单点更新接口的内部实现\n",
    "    def _update(self, node, pos, val):\n",
    "        self.tree.markNode(algviz.cBlue, node, True)\n",
    "        self.viz.display()\n",
    "        if pos == node.l and pos == node.r:\n",
    "            node.val = val\n",
    "            self.viz.display()\n",
    "            return\n",
    "        mid = (node.l + node.r) // 2\n",
    "        if pos <= mid:\n",
    "            self._update(node.left, pos, val)\n",
    "        else:\n",
    "            self._update(node.right, pos, val)\n",
    "        node.val = update_value(node)       # 更新查询路径上节点的值\n",
    "        self.viz.display()"
   ]
  },
  {
   "cell_type": "code",
   "execution_count": 2,
   "metadata": {},
   "outputs": [
    {
     "data": {
      "image/svg+xml": [
       "<?xml version=\"1.0\" ?><!DOCTYPE svg  PUBLIC '-//W3C//DTD SVG 1.1//EN'  'http://www.w3.org/Graphics/SVG/1.1/DTD/svg11.dtd'><!-- Generated by graphviz version 8.1.0 (20230707.0739) --><!-- Pages: 1 --><svg xmlns=\"http://www.w3.org/2000/svg\" xmlns:xlink=\"http://www.w3.org/1999/xlink\" width=\"502pt\" height=\"260pt\" viewBox=\"0.00 0.00 502.00 260.00\"><g id=\"graph0\" class=\"graph\" transform=\"scale(1 1) rotate(0) translate(4 256)\"><polygon fill=\"none\" stroke=\"none\" points=\"-4,4 -4,-256 498,-256 498,4 -4,4\"/><g id=\"node1\" class=\"node\"><ellipse fill=\"#ffffff\" stroke=\"#7b7b7b\" cx=\"247\" cy=\"-234\" rx=\"18\" ry=\"18\"/><text text-anchor=\"middle\" x=\"247\" y=\"-237.02\" font-family=\"Courier,monospace\" font-size=\"10.24\" fill=\"#000000\">37</text><text text-anchor=\"middle\" x=\"247\" y=\"-224.27\" font-family=\"Courier,monospace\" font-size=\"10.24\" fill=\"#000000\">[0,7]</text></g><g id=\"node2\" class=\"node\"><ellipse fill=\"#ffffff\" stroke=\"#7b7b7b\" cx=\"183\" cy=\"-162\" rx=\"18\" ry=\"18\"/><text text-anchor=\"middle\" x=\"183\" y=\"-165.02\" font-family=\"Courier,monospace\" font-size=\"10.24\" fill=\"#000000\">11</text><text text-anchor=\"middle\" x=\"183\" y=\"-152.27\" font-family=\"Courier,monospace\" font-size=\"10.24\" fill=\"#000000\">[0,3]</text></g><g id=\"edge2\" class=\"edge\"><path fill=\"none\" stroke=\"#7b7b7b\" d=\"M235.56,-220.49C225.91,-209.93 211.94,-194.65 200.83,-182.5\"/><polygon fill=\"#7b7b7b\" stroke=\"#7b7b7b\" points=\"194.34,-175.41 204.41,-179.75 197.72,-179.1 201.09,-182.79 201.09,-182.79 201.09,-182.79 197.72,-179.1 197.77,-185.82 194.34,-175.41 194.34,-175.41\"/></g><g id=\"node9\" class=\"node\"><ellipse fill=\"#ffffff\" stroke=\"#7b7b7b\" cx=\"311\" cy=\"-162\" rx=\"18\" ry=\"18\"/><text text-anchor=\"middle\" x=\"311\" y=\"-165.02\" font-family=\"Courier,monospace\" font-size=\"10.24\" fill=\"#000000\">26</text><text text-anchor=\"middle\" x=\"311\" y=\"-152.27\" font-family=\"Courier,monospace\" font-size=\"10.24\" fill=\"#000000\">[4,7]</text></g><g id=\"edge1\" class=\"edge\"><path fill=\"none\" stroke=\"#7b7b7b\" d=\"M258.44,-220.49C268.09,-209.93 282.06,-194.65 293.17,-182.5\"/><polygon fill=\"#7b7b7b\" stroke=\"#7b7b7b\" points=\"299.66,-175.41 296.23,-185.82 296.28,-179.1 292.91,-182.79 292.91,-182.79 292.91,-182.79 296.28,-179.1 289.59,-179.75 299.66,-175.41 299.66,-175.41\"/></g><g id=\"node3\" class=\"node\"><ellipse fill=\"#ffffff\" stroke=\"#7b7b7b\" cx=\"87\" cy=\"-90\" rx=\"18\" ry=\"18\"/><text text-anchor=\"middle\" x=\"87\" y=\"-93.02\" font-family=\"Courier,monospace\" font-size=\"10.24\" fill=\"#000000\">3</text><text text-anchor=\"middle\" x=\"87\" y=\"-80.27\" font-family=\"Courier,monospace\" font-size=\"10.24\" fill=\"#000000\">[0,1]</text></g><g id=\"edge4\" class=\"edge\"><path fill=\"none\" stroke=\"#7b7b7b\" d=\"M169.25,-150.97C153.51,-139.5 127.53,-120.55 108.98,-107.03\"/><polygon fill=\"#7b7b7b\" stroke=\"#7b7b7b\" points=\"101.04,-101.24 111.77,-103.49 105.08,-104.18 109.12,-107.13 109.12,-107.13 109.12,-107.13 105.08,-104.18 106.47,-110.77 101.04,-101.24 101.04,-101.24\"/></g><g id=\"node6\" class=\"node\"><ellipse fill=\"#ffffff\" stroke=\"#7b7b7b\" cx=\"183\" cy=\"-90\" rx=\"18\" ry=\"18\"/><text text-anchor=\"middle\" x=\"183\" y=\"-93.02\" font-family=\"Courier,monospace\" font-size=\"10.24\" fill=\"#000000\">8</text><text text-anchor=\"middle\" x=\"183\" y=\"-80.27\" font-family=\"Courier,monospace\" font-size=\"10.24\" fill=\"#000000\">[2,3]</text></g><g id=\"edge3\" class=\"edge\"><path fill=\"none\" stroke=\"#7b7b7b\" d=\"M183,-144.05C183,-136.14 183,-126.54 183,-117.69\"/><polygon fill=\"#7b7b7b\" stroke=\"#7b7b7b\" points=\"183,-107.79 187.5,-117.79 183,-112.79 183,-117.79 183,-117.79 183,-117.79 183,-112.79 178.5,-117.79 183,-107.79 183,-107.79\"/></g><g id=\"node4\" class=\"node\"><ellipse fill=\"#ffffff\" stroke=\"#7b7b7b\" cx=\"23\" cy=\"-18\" rx=\"18\" ry=\"18\"/><text text-anchor=\"middle\" x=\"23\" y=\"-21.02\" font-family=\"Courier,monospace\" font-size=\"10.24\" fill=\"#000000\">1</text><text text-anchor=\"middle\" x=\"23\" y=\"-8.27\" font-family=\"Courier,monospace\" font-size=\"10.24\" fill=\"#000000\">[0,0]</text></g><g id=\"edge6\" class=\"edge\"><path fill=\"none\" stroke=\"#7b7b7b\" d=\"M75.56,-76.49C65.91,-65.93 51.94,-50.65 40.83,-38.5\"/><polygon fill=\"#7b7b7b\" stroke=\"#7b7b7b\" points=\"34.34,-31.41 44.41,-35.75 37.72,-35.1 41.09,-38.79 41.09,-38.79 41.09,-38.79 37.72,-35.1 37.77,-41.82 34.34,-31.41 34.34,-31.41\"/></g><g id=\"node5\" class=\"node\"><ellipse fill=\"#ffffff\" stroke=\"#7b7b7b\" cx=\"87\" cy=\"-18\" rx=\"18\" ry=\"18\"/><text text-anchor=\"middle\" x=\"87\" y=\"-21.02\" font-family=\"Courier,monospace\" font-size=\"10.24\" fill=\"#000000\">2</text><text text-anchor=\"middle\" x=\"87\" y=\"-8.27\" font-family=\"Courier,monospace\" font-size=\"10.24\" fill=\"#000000\">[1,1]</text></g><g id=\"edge5\" class=\"edge\"><path fill=\"none\" stroke=\"#7b7b7b\" d=\"M87,-72.05C87,-64.14 87,-54.54 87,-45.69\"/><polygon fill=\"#7b7b7b\" stroke=\"#7b7b7b\" points=\"87,-35.79 91.5,-45.79 87,-40.79 87,-45.79 87,-45.79 87,-45.79 87,-40.79 82.5,-45.79 87,-35.79 87,-35.79\"/></g><g id=\"node7\" class=\"node\"><ellipse fill=\"#ffffff\" stroke=\"#7b7b7b\" cx=\"151\" cy=\"-18\" rx=\"18\" ry=\"18\"/><text text-anchor=\"middle\" x=\"151\" y=\"-21.02\" font-family=\"Courier,monospace\" font-size=\"10.24\" fill=\"#000000\">3</text><text text-anchor=\"middle\" x=\"151\" y=\"-8.27\" font-family=\"Courier,monospace\" font-size=\"10.24\" fill=\"#000000\">[2,2]</text></g><g id=\"edge8\" class=\"edge\"><path fill=\"none\" stroke=\"#7b7b7b\" d=\"M175.9,-73.46C171.88,-64.67 166.76,-53.48 162.21,-43.53\"/><polygon fill=\"#7b7b7b\" stroke=\"#7b7b7b\" points=\"158.08,-34.49 166.33,-41.72 160.16,-39.04 162.24,-43.59 162.24,-43.59 162.24,-43.59 160.16,-39.04 158.15,-45.46 158.08,-34.49 158.08,-34.49\"/></g><g id=\"node8\" class=\"node\"><ellipse fill=\"#ffffff\" stroke=\"#7b7b7b\" cx=\"215\" cy=\"-18\" rx=\"18\" ry=\"18\"/><text text-anchor=\"middle\" x=\"215\" y=\"-21.02\" font-family=\"Courier,monospace\" font-size=\"10.24\" fill=\"#000000\">5</text><text text-anchor=\"middle\" x=\"215\" y=\"-8.27\" font-family=\"Courier,monospace\" font-size=\"10.24\" fill=\"#000000\">[3,3]</text></g><g id=\"edge7\" class=\"edge\"><path fill=\"none\" stroke=\"#7b7b7b\" d=\"M190.1,-73.46C194.12,-64.67 199.24,-53.48 203.79,-43.53\"/><polygon fill=\"#7b7b7b\" stroke=\"#7b7b7b\" points=\"207.92,-34.49 207.85,-45.46 205.84,-39.04 203.76,-43.59 203.76,-43.59 203.76,-43.59 205.84,-39.04 199.67,-41.72 207.92,-34.49 207.92,-34.49\"/></g><g id=\"node10\" class=\"node\"><ellipse fill=\"#ffffff\" stroke=\"#7b7b7b\" cx=\"311\" cy=\"-90\" rx=\"18\" ry=\"18\"/><text text-anchor=\"middle\" x=\"311\" y=\"-93.02\" font-family=\"Courier,monospace\" font-size=\"10.24\" fill=\"#000000\">11</text><text text-anchor=\"middle\" x=\"311\" y=\"-80.27\" font-family=\"Courier,monospace\" font-size=\"10.24\" fill=\"#000000\">[4,5]</text></g><g id=\"edge10\" class=\"edge\"><path fill=\"none\" stroke=\"#7b7b7b\" d=\"M311,-144.05C311,-136.14 311,-126.54 311,-117.69\"/><polygon fill=\"#7b7b7b\" stroke=\"#7b7b7b\" points=\"311,-107.79 315.5,-117.79 311,-112.79 311,-117.79 311,-117.79 311,-117.79 311,-112.79 306.5,-117.79 311,-107.79 311,-107.79\"/></g><g id=\"node13\" class=\"node\"><ellipse fill=\"#ffffff\" stroke=\"#7b7b7b\" cx=\"407\" cy=\"-90\" rx=\"18\" ry=\"18\"/><text text-anchor=\"middle\" x=\"407\" y=\"-93.02\" font-family=\"Courier,monospace\" font-size=\"10.24\" fill=\"#000000\">15</text><text text-anchor=\"middle\" x=\"407\" y=\"-80.27\" font-family=\"Courier,monospace\" font-size=\"10.24\" fill=\"#000000\">[6,7]</text></g><g id=\"edge9\" class=\"edge\"><path fill=\"none\" stroke=\"#7b7b7b\" d=\"M324.75,-150.97C340.49,-139.5 366.47,-120.55 385.02,-107.03\"/><polygon fill=\"#7b7b7b\" stroke=\"#7b7b7b\" points=\"392.96,-101.24 387.53,-110.77 388.92,-104.18 384.88,-107.13 384.88,-107.13 384.88,-107.13 388.92,-104.18 382.23,-103.49 392.96,-101.24 392.96,-101.24\"/></g><g id=\"node11\" class=\"node\"><ellipse fill=\"#ffffff\" stroke=\"#7b7b7b\" cx=\"279\" cy=\"-18\" rx=\"18\" ry=\"18\"/><text text-anchor=\"middle\" x=\"279\" y=\"-21.02\" font-family=\"Courier,monospace\" font-size=\"10.24\" fill=\"#000000\">5</text><text text-anchor=\"middle\" x=\"279\" y=\"-8.27\" font-family=\"Courier,monospace\" font-size=\"10.24\" fill=\"#000000\">[4,4]</text></g><g id=\"edge12\" class=\"edge\"><path fill=\"none\" stroke=\"#7b7b7b\" d=\"M303.9,-73.46C299.88,-64.67 294.76,-53.48 290.21,-43.53\"/><polygon fill=\"#7b7b7b\" stroke=\"#7b7b7b\" points=\"286.08,-34.49 294.33,-41.72 288.16,-39.04 290.24,-43.59 290.24,-43.59 290.24,-43.59 288.16,-39.04 286.15,-45.46 286.08,-34.49 286.08,-34.49\"/></g><g id=\"node12\" class=\"node\"><ellipse fill=\"#ffffff\" stroke=\"#7b7b7b\" cx=\"343\" cy=\"-18\" rx=\"18\" ry=\"18\"/><text text-anchor=\"middle\" x=\"343\" y=\"-21.02\" font-family=\"Courier,monospace\" font-size=\"10.24\" fill=\"#000000\">6</text><text text-anchor=\"middle\" x=\"343\" y=\"-8.27\" font-family=\"Courier,monospace\" font-size=\"10.24\" fill=\"#000000\">[5,5]</text></g><g id=\"edge11\" class=\"edge\"><path fill=\"none\" stroke=\"#7b7b7b\" d=\"M318.1,-73.46C322.12,-64.67 327.24,-53.48 331.79,-43.53\"/><polygon fill=\"#7b7b7b\" stroke=\"#7b7b7b\" points=\"335.92,-34.49 335.85,-45.46 333.84,-39.04 331.76,-43.59 331.76,-43.59 331.76,-43.59 333.84,-39.04 327.67,-41.72 335.92,-34.49 335.92,-34.49\"/></g><g id=\"node14\" class=\"node\"><ellipse fill=\"#ffffff\" stroke=\"#7b7b7b\" cx=\"407\" cy=\"-18\" rx=\"18\" ry=\"18\"/><text text-anchor=\"middle\" x=\"407\" y=\"-21.02\" font-family=\"Courier,monospace\" font-size=\"10.24\" fill=\"#000000\">7</text><text text-anchor=\"middle\" x=\"407\" y=\"-8.27\" font-family=\"Courier,monospace\" font-size=\"10.24\" fill=\"#000000\">[6,6]</text></g><g id=\"edge14\" class=\"edge\"><path fill=\"none\" stroke=\"#7b7b7b\" d=\"M407,-72.05C407,-64.14 407,-54.54 407,-45.69\"/><polygon fill=\"#7b7b7b\" stroke=\"#7b7b7b\" points=\"407,-35.79 411.5,-45.79 407,-40.79 407,-45.79 407,-45.79 407,-45.79 407,-40.79 402.5,-45.79 407,-35.79 407,-35.79\"/></g><g id=\"node15\" class=\"node\"><ellipse fill=\"#ffffff\" stroke=\"#7b7b7b\" cx=\"471\" cy=\"-18\" rx=\"18\" ry=\"18\"/><text text-anchor=\"middle\" x=\"471\" y=\"-21.02\" font-family=\"Courier,monospace\" font-size=\"10.24\" fill=\"#000000\">8</text><text text-anchor=\"middle\" x=\"471\" y=\"-8.27\" font-family=\"Courier,monospace\" font-size=\"10.24\" fill=\"#000000\">[7,7]</text></g><g id=\"edge13\" class=\"edge\"><path fill=\"none\" stroke=\"#7b7b7b\" d=\"M418.44,-76.49C428.09,-65.93 442.06,-50.65 453.17,-38.5\"/><polygon fill=\"#7b7b7b\" stroke=\"#7b7b7b\" points=\"459.66,-31.41 456.23,-41.82 456.28,-35.1 452.91,-38.79 452.91,-38.79 452.91,-38.79 456.28,-35.1 449.59,-35.75 459.66,-31.41 459.66,-31.41\"/></g></g><desc>Generated by algviz-0.3.1(see https://algviz.com).</desc><g id=\"graph1\" class=\"graph\" transform=\"scale(1 1) rotate(0) translate(4 256)\"/></svg>"
      ],
      "text/plain": [
       "<algviz.svg_graph.SvgGraph at 0x2335ee19b20>"
      ]
     },
     "metadata": {},
     "output_type": "display_data"
    }
   ],
   "source": [
    "# 创建一个线段树\n",
    "st = SegmentTree([1, 2, 3, 4, 5, 6, 7, 8])"
   ]
  },
  {
   "cell_type": "code",
   "execution_count": 3,
   "metadata": {},
   "outputs": [
    {
     "data": {
      "text/plain": [
       "9"
      ]
     },
     "execution_count": 3,
     "metadata": {},
     "output_type": "execute_result"
    }
   ],
   "source": [
    "# 区间查询\n",
    "st.query(1, 3)"
   ]
  },
  {
   "cell_type": "code",
   "execution_count": 4,
   "metadata": {},
   "outputs": [],
   "source": [
    "# 节点更新\n",
    "st.update(3, 5)"
   ]
  }
 ],
 "metadata": {
  "kernelspec": {
   "display_name": "algviz",
   "language": "python",
   "name": "python3"
  },
  "language_info": {
   "codemirror_mode": {
    "name": "ipython",
    "version": 3
   },
   "file_extension": ".py",
   "mimetype": "text/x-python",
   "name": "python",
   "nbconvert_exporter": "python",
   "pygments_lexer": "ipython3",
   "version": "3.9.16"
  },
  "orig_nbformat": 4
 },
 "nbformat": 4,
 "nbformat_minor": 2
}
