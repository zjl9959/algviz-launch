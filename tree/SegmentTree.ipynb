{
 "cells": [
  {
   "cell_type": "code",
   "execution_count": null,
   "metadata": {},
   "outputs": [],
   "source": [
    "import algviz\n",
    "\n",
    "class SegmentTreeNode(algviz.BinaryTreeNode):\n",
    "    def __init__(self, l, r, v, left, right):\n",
    "        super().__init__(v, left, right)\n",
    "        self.l = l\n",
    "        self.r = r\n",
    "\n",
    "    def __str__(self):\n",
    "        return '{}\\n[{},{}]'.format(self.val, self.l, self.r)\n",
    "\n",
    "class SegmentTree:\n",
    "    def __init__(self, data):\n",
    "        self.data = data\n",
    "        self.viz = algviz.Visualizer()\n",
    "        self.graph = self.viz.createGraph()\n",
    "        self.root = self.create(0, len(self.data))\n",
    "        self.graph.addNode(self.root)\n",
    "        self.viz.display()\n",
    "\n",
    "    def create(self, l, r):\n",
    "        if l == r - 1:\n",
    "            return SegmentTreeNode(l, r - 1, self.data[l], None, None)\n",
    "        mid = (l + r) / 2\n",
    "        node = SegmentTreeNode(l, r - 1, None, None, None)\n",
    "        self.graph.addNode(node)\n",
    "        if mid > l:\n",
    "          node.left = self.create(l, mid)\n",
    "        if mid < r:\n",
    "          node.right = self.create(mid, r)\n",
    "        node.val = node.left.val if node.left else 0 + node.right.val if node.right else 0\n",
    "        self.viz.display()\n",
    "        return node\n",
    "        \n",
    "        "
   ]
  },
  {
   "cell_type": "code",
   "execution_count": null,
   "metadata": {},
   "outputs": [],
   "source": [
    "SegmentTree([1, 2, 3])"
   ]
  }
 ],
 "metadata": {
  "kernelspec": {
   "display_name": "algviz",
   "language": "python",
   "name": "python3"
  },
  "language_info": {
   "codemirror_mode": {
    "name": "ipython",
    "version": 3
   },
   "file_extension": ".py",
   "mimetype": "text/x-python",
   "name": "python",
   "nbconvert_exporter": "python",
   "pygments_lexer": "ipython3",
   "version": "3.9.16"
  },
  "orig_nbformat": 4
 },
 "nbformat": 4,
 "nbformat_minor": 2
}
