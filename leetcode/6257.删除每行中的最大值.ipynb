{
 "cells": [
  {
   "attachments": {},
   "cell_type": "markdown",
   "metadata": {},
   "source": [
    "# 6257.删除每行中的最大值\n",
    "\n",
    "本笔记包含力扣题目 [6257.删除每行中的最大值](https://leetcode.cn/contest/weekly-contest-323/problems/delete-greatest-value-in-each-row/) 的求解动画演示代码，动画基于 [algviz](https://algviz.com) 算法动画引擎实时在线渲染。\n",
    "\n",
    "*相关链接：[algviz 官网](https://algviz.com)，[algviz 安装方式](https://algviz.com/cn/installation.html)，[algviz 使用教程](https://algviz.com/cn/examples.html)， [algviz 接口 API 文档](https://algviz.readthedocs.io/en/latest/)。*"
   ]
  },
  {
   "attachments": {},
   "cell_type": "markdown",
   "metadata": {},
   "source": [
    "## 解题思路\n",
    "\n",
    "直接模拟题目中的要求进行操作即可，注意每次删除元素后可以从被删元素后面的部分进行复制更新数组。"
   ]
  },
  {
   "attachments": {},
   "cell_type": "markdown",
   "metadata": {},
   "source": [
    "## 算法演示代码\n",
    "\n",
    "请依次运行下方单元格中的代码来生成可视化动画！👇\n",
    "\n",
    "您可以尝试修改代码中的输入参数，来观察不同情况下的运行动画。\n",
    "\n",
    "*如果您在运行中遇到了报错，麻烦把报错日志提交到这里（[Algviz Github issues](https://github.com/zjl9959/algviz/issues)），也可以直接发我邮箱（zjl9959@gmail.com），谢谢！*"
   ]
  },
  {
   "cell_type": "code",
   "execution_count": null,
   "metadata": {},
   "outputs": [],
   "source": [
    "import algviz\n",
    "\n",
    "class Solution(object):\n",
    "    def deleteGreatestValue(self, grid):\n",
    "        \"\"\"\n",
    "        :type grid: List[List[int]]\n",
    "        :rtype: int\n",
    "        \"\"\"\n",
    "        sum = 0\n",
    "        viz = algviz.Visualizer(0.5)\n",
    "        R, C = len(grid), len(grid[0])\n",
    "        grid = viz.createTable(R, C, grid)\n",
    "        while grid.shape() != (2, 0):\n",
    "            max_sum = 0\n",
    "            for r in range(0, R):\n",
    "                max_row_val = 0\n",
    "                max_row_index = -1\n",
    "                for c in range(0, C):\n",
    "                    if max_row_val < grid[r][c]:\n",
    "                        max_row_val = grid[r][c]\n",
    "                        max_row_index = c\n",
    "                if max_sum < max_row_val:\n",
    "                    max_sum = max_row_val\n",
    "                grid.mark(algviz.cRed, r, max_row_index)\n",
    "                viz.display()\n",
    "                for c in range(max_row_index + 1, C):\n",
    "                    grid[r][c-1] = grid[r][c]\n",
    "                viz.display()\n",
    "            sum += max_sum\n",
    "            C-=1\n",
    "            if R >=0 and  C >= 0:\n",
    "                grid.reshape(R, C)\n",
    "        return sum\n",
    "\n",
    "grid = [[1,2,4],[3,3,1]]\n",
    "print(Solution().deleteGreatestValue(grid))"
   ]
  },
  {
   "attachments": {},
   "cell_type": "markdown",
   "metadata": {},
   "source": [
    "## 可提交版本代码"
   ]
  },
  {
   "cell_type": "code",
   "execution_count": null,
   "metadata": {},
   "outputs": [],
   "source": [
    "class Solution(object):\n",
    "    def deleteGreatestValue(self, grid):\n",
    "        \"\"\"\n",
    "        :type grid: List[List[int]]\n",
    "        :rtype: int\n",
    "        \"\"\"\n",
    "        sum = 0\n",
    "        R, C = len(grid), len(grid[0])\n",
    "        while len(grid[0]) != 0:\n",
    "            max_sum = 0\n",
    "            for r in range(0, R):\n",
    "                max_row_val = 0\n",
    "                max_row_index = -1\n",
    "                for c in range(0, C):\n",
    "                    if max_row_val < grid[r][c]:\n",
    "                        max_row_val = grid[r][c]\n",
    "                        max_row_index = c\n",
    "                if max_sum < max_row_val:\n",
    "                    max_sum = max_row_val\n",
    "                for c in range(max_row_index + 1, C):\n",
    "                    grid[r][c-1] = grid[r][c]\n",
    "                grid[r].pop()\n",
    "            C -= 1\n",
    "            sum += max_sum\n",
    "        return sum\n",
    "\n",
    "grid = [[1,2,4],[3,3,1]]\n",
    "print(Solution().deleteGreatestValue(grid))"
   ]
  }
 ],
 "metadata": {
  "kernelspec": {
   "display_name": "algviz-public",
   "language": "python",
   "name": "python3"
  },
  "language_info": {
   "codemirror_mode": {
    "name": "ipython",
    "version": 3
   },
   "file_extension": ".py",
   "mimetype": "text/x-python",
   "name": "python",
   "nbconvert_exporter": "python",
   "pygments_lexer": "ipython3",
   "version": "3.9.13 (main, Aug 25 2022, 23:51:50) [MSC v.1916 64 bit (AMD64)]"
  },
  "orig_nbformat": 4,
  "vscode": {
   "interpreter": {
    "hash": "ba530876bec2e6283b9bacba891681e9dff395534db17e3ec46729d6d41aa6cf"
   }
  }
 },
 "nbformat": 4,
 "nbformat_minor": 2
}
