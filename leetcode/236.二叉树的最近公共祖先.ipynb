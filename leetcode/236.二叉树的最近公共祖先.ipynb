{
 "cells": [
  {
   "attachments": {},
   "cell_type": "markdown",
   "metadata": {},
   "source": [
    "# 236.二叉树的最近公共祖先\n",
    "\n",
    "本笔记包含力扣题目 [236.二叉树的最近公共祖先](https://leetcode.cn/problems/lowest-common-ancestor-of-a-binary-tree/) 的求解动画演示代码。\n",
    "\n",
    "### 运行环境\n",
    "\n",
    "*笔记中的动画使用 [algviz算法动画引擎](https://zjl9959.github.io/algviz/) 渲染，环境配置请参考该链接：[https://zjl9959.github.io/algviz/cn/installation.html](https://zjl9959.github.io/algviz/cn/installation.html)*\n",
    "\n",
    "*觉得对你有帮忙的话请给👉[algviz开源项目](https://github.com/zjl9959/algviz)👈点个 Star✨，遇到了问题也可以在这里 [报个bug](https://github.com/zjl9959/algviz/issues)！*"
   ]
  },
  {
   "attachments": {},
   "cell_type": "markdown",
   "metadata": {},
   "source": [
    "## 思路\n",
    "\n",
    "TODO"
   ]
  },
  {
   "cell_type": "code",
   "execution_count": null,
   "metadata": {},
   "outputs": [],
   "source": [
    "import algviz\n",
    "\n"
   ]
  }
 ],
 "metadata": {
  "kernelspec": {
   "display_name": "algviz-public",
   "language": "python",
   "name": "python3"
  },
  "language_info": {
   "name": "python",
   "version": "3.9.13 (main, Aug 25 2022, 23:51:50) [MSC v.1916 64 bit (AMD64)]"
  },
  "orig_nbformat": 4,
  "vscode": {
   "interpreter": {
    "hash": "ba530876bec2e6283b9bacba891681e9dff395534db17e3ec46729d6d41aa6cf"
   }
  }
 },
 "nbformat": 4,
 "nbformat_minor": 2
}
