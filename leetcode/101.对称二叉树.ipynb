{
 "cells": [
  {
   "attachments": {},
   "cell_type": "markdown",
   "metadata": {},
   "source": [
    "# 101.称二叉树\n",
    "\n",
    "本笔记包含力扣题目 [101.称二叉树](https://leetcode.cn/problems/symmetric-tree/) 的求解动画演示代码，动画基于 [algviz](https://algviz.com) 算法动画引擎实时在线渲染。\n",
    "\n",
    "*相关链接：[algviz 官网](https://algviz.com)，[algviz 安装方式](https://algviz.com/cn/installation.html)，[algviz 使用教程](https://algviz.com/cn/examples.html)， [algviz 接口 API 文档](https://algviz.readthedocs.io/en/latest/)。*"
   ]
  },
  {
   "attachments": {},
   "cell_type": "markdown",
   "metadata": {},
   "source": [
    "## 算法演示代码\n",
    "\n",
    "请依次运行下方单元格中的代码来生成可视化动画！👇\n",
    "\n",
    "您可以尝试修改代码中的输入参数，来观察不同情况下的运行动画。\n",
    "\n",
    "*如果您在运行中遇到了报错，麻烦把报错日志提交到这里（[Algviz Github issues](https://github.com/zjl9959/algviz/issues)），也可以直接发我邮箱（zjl9959@gmail.com），谢谢！*"
   ]
  },
  {
   "cell_type": "code",
   "execution_count": null,
   "metadata": {},
   "outputs": [],
   "source": [
    "import algviz   # 私信我了解使用方法\n",
    "\n",
    "class Solution(object):\n",
    "    def isSymmetric(self, root):\n",
    "        self.viz = algviz.Visualizer(1)\n",
    "        self.tree = self.viz.createGraph([root])\n",
    "        if root == None:\n",
    "            return True\n",
    "        self.tree.markNode(algviz.cGreen, root, True)\n",
    "        self.viz.display()\n",
    "        return self.check(root.left, root.right)\n",
    "\n",
    "    def check(self, left, right):\n",
    "        if left == None and right == None:\n",
    "            return True\n",
    "        if left == None or right == None:\n",
    "            if left == None:\n",
    "                self.tree.markNode(algviz.cRed, right)\n",
    "            else:\n",
    "                self.tree.markNode(algviz.cRed, left)\n",
    "            self.viz.display()\n",
    "            return False\n",
    "        if left.val != right.val:\n",
    "            self.tree.markNode(algviz.cRed, left)\n",
    "            self.tree.markNode(algviz.cRed, right)\n",
    "            self.viz.display()\n",
    "            return False\n",
    "        self.tree.markNode(algviz.cGreen, left, True)\n",
    "        self.tree.markNode(algviz.cGreen, right, True)\n",
    "        self.viz.display()\n",
    "        return self.check(left.right, right.left) and self.check(left.left, right.right)"
   ]
  },
  {
   "cell_type": "code",
   "execution_count": null,
   "metadata": {},
   "outputs": [],
   "source": [
    "# Case_1\n",
    "root = [1,2,2,3,4,4,3,5,6,7,8,8,7,6,5]\n",
    "print(Solution().isSymmetric(algviz.parseBinaryTree(root)))"
   ]
  },
  {
   "cell_type": "code",
   "execution_count": null,
   "metadata": {},
   "outputs": [],
   "source": [
    "# Case_2\n",
    "root = [1,2,2,3,4,4,3,5,6,7,8,8,7,5,6]\n",
    "print(Solution().isSymmetric(algviz.parseBinaryTree(root)))"
   ]
  },
  {
   "cell_type": "code",
   "execution_count": null,
   "metadata": {},
   "outputs": [],
   "source": [
    "# Case_3\n",
    "root = [1,2,2,3,4,4,3,5,6,7,8,8,7]\n",
    "print(Solution().isSymmetric(algviz.parseBinaryTree(root)))"
   ]
  },
  {
   "attachments": {},
   "cell_type": "markdown",
   "metadata": {},
   "source": [
    "## 可提交版本代码"
   ]
  },
  {
   "cell_type": "code",
   "execution_count": null,
   "metadata": {},
   "outputs": [],
   "source": [
    "class Solution(object):\n",
    "    def isSymmetric(self, root):\n",
    "        if root == None:\n",
    "            return True\n",
    "        return self.check(root.left, root.right)\n",
    "\n",
    "    def check(self, left, right):\n",
    "        if left == None and right == None:\n",
    "            return True\n",
    "        if left == None or right == None:\n",
    "            return False\n",
    "        if left.val != right.val:\n",
    "            return False\n",
    "        return self.check(left.right, right.left) and self.check(left.left, right.right)"
   ]
  }
 ],
 "metadata": {
  "kernelspec": {
   "display_name": "algviz-public",
   "language": "python",
   "name": "python3"
  },
  "language_info": {
   "codemirror_mode": {
    "name": "ipython",
    "version": 3
   },
   "file_extension": ".py",
   "mimetype": "text/x-python",
   "name": "python",
   "nbconvert_exporter": "python",
   "pygments_lexer": "ipython3",
   "version": "3.9.13"
  },
  "orig_nbformat": 4,
  "vscode": {
   "interpreter": {
    "hash": "ba530876bec2e6283b9bacba891681e9dff395534db17e3ec46729d6d41aa6cf"
   }
  }
 },
 "nbformat": 4,
 "nbformat_minor": 2
}
