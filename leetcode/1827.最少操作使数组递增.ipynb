{
 "cells": [
  {
   "attachments": {},
   "cell_type": "markdown",
   "metadata": {},
   "source": [
    "# 1827.最少操作使数组递增\n",
    "\n",
    "本笔记包含力扣题目 [1827.最少操作使数组递增](https://leetcode.cn/problems/minimum-operations-to-make-the-array-increasing/) 的求解动画演示代码，动画基于 [algviz](https://algviz.com) 算法动画引擎实时在线渲染。\n",
    "\n",
    "*相关链接：[algviz 官网](https://algviz.com)，[algviz 安装方式](https://algviz.com/cn/installation.html)，[algviz 使用教程](https://algviz.com/cn/examples.html)， [algviz 接口 API 文档](https://algviz.readthedocs.io/en/latest/)。*"
   ]
  },
  {
   "attachments": {},
   "cell_type": "markdown",
   "metadata": {},
   "source": [
    "## 解题思路\n",
    "\n",
    "从第二个位置开始，按顺序扫描数组中的元素，如果当前元素的值小于前一个元素，则令当前元素的值为前一个元素值加一，并记录操作次数即可。"
   ]
  },
  {
   "attachments": {},
   "cell_type": "markdown",
   "metadata": {},
   "source": [
    "### 运行环境\n",
    "\n",
    "*笔记中的动画使用 [algviz算法动画引擎](https://algviz.com/) 渲染，环境配置请参考该链接：[https://algviz.com/cn/installation.html](https://algviz.com/cn/installation.html)*\n",
    "\n",
    "*觉得对你有帮忙的话请给👉[algviz开源项目](https://github.com/zjl9959/algviz)👈点个 Star✨，遇到了问题也可以在这里 [报个bug](https://github.com/zjl9959/algviz/issues)！*"
   ]
  },
  {
   "cell_type": "code",
   "execution_count": null,
   "metadata": {},
   "outputs": [],
   "source": [
    "import algviz\n",
    "\n",
    "class Solution(object):\n",
    "    def minOperations(self, nums):\n",
    "        viz = algviz.Visualizer(1, 2)\n",
    "        nums = viz.createVector(nums)\n",
    "        log = viz.createLogger(1, show_line_num=False)\n",
    "        viz.display()\n",
    "        add_count = 0\n",
    "        i = viz.createCursor(1, 'i')\n",
    "        while i < len(nums):\n",
    "            if nums[i] <= nums[i-1]:\n",
    "                log.write('所需操作次数之和：{} + ( {} - {} ) + 1 = {}'.format(\n",
    "                    add_count,  nums[i-1], nums[i], add_count+nums[i-1]-nums[i]+1))\n",
    "                add_count += nums[i-1]-nums[i]+1\n",
    "                nums[i] = nums[i-1] + 1\n",
    "            viz.display()\n",
    "            i += 1\n",
    "        return add_count"
   ]
  },
  {
   "cell_type": "code",
   "execution_count": null,
   "metadata": {},
   "outputs": [],
   "source": [
    "nums = [1,5,2,4,1]\n",
    "print(Solution().minOperations(nums))"
   ]
  },
  {
   "cell_type": "code",
   "execution_count": null,
   "metadata": {},
   "outputs": [],
   "source": [
    "nums = [3,1,5,5,2]\n",
    "print(Solution().minOperations(nums))"
   ]
  },
  {
   "attachments": {},
   "cell_type": "markdown",
   "metadata": {},
   "source": [
    "## 可提交版本代码"
   ]
  },
  {
   "cell_type": "code",
   "execution_count": null,
   "metadata": {},
   "outputs": [],
   "source": [
    "class Solution(object):\n",
    "    def minOperations(self, nums):\n",
    "        add_count = 0\n",
    "        i = 1\n",
    "        while i < len(nums):\n",
    "            if nums[i] <= nums[i-1]:\n",
    "                add_count += nums[i-1]-nums[i]+1\n",
    "                nums[i] = nums[i-1] + 1\n",
    "            i += 1\n",
    "        return add_count\n",
    "\n",
    "nums = [1,5,2,4,1]\n",
    "print(Solution().minOperations(nums))"
   ]
  }
 ],
 "metadata": {
  "kernelspec": {
   "display_name": "algviz-public",
   "language": "python",
   "name": "python3"
  },
  "language_info": {
   "codemirror_mode": {
    "name": "ipython",
    "version": 3
   },
   "file_extension": ".py",
   "mimetype": "text/x-python",
   "name": "python",
   "nbconvert_exporter": "python",
   "pygments_lexer": "ipython3",
   "version": "3.9.13 (main, Aug 25 2022, 23:51:50) [MSC v.1916 64 bit (AMD64)]"
  },
  "orig_nbformat": 4,
  "vscode": {
   "interpreter": {
    "hash": "ba530876bec2e6283b9bacba891681e9dff395534db17e3ec46729d6d41aa6cf"
   }
  }
 },
 "nbformat": 4,
 "nbformat_minor": 2
}
