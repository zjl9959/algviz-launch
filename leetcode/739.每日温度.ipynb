{
 "cells": [
  {
   "attachments": {},
   "cell_type": "markdown",
   "metadata": {},
   "source": [
    "# 739.每日温度\n",
    "\n",
    "本笔记包含力扣题目 [739.每日温度](https://leetcode.cn/problems/daily-temperatures/) 的求解动画演示代码，动画基于 [algviz](https://github.com/zjl9959/algviz) 算法动画引擎实时在线渲染。\n",
    "\n",
    "*相关链接：[algviz 官网](https://algviz.com)，[algviz 安装方式](https://algviz.com/cn/installation.html)，[algviz 使用教程](https://algviz.com/cn/examples.html)， [algviz 接口 API 文档](https://algviz.readthedocs.io/en/latest/)。*"
   ]
  },
  {
   "attachments": {},
   "cell_type": "markdown",
   "metadata": {},
   "source": [
    "## 解题思路\n",
    "\n",
    "暴力枚举的时间复杂度为 $O(n^2)$，会超时，所以考虑使用单调栈来优化时间复杂度。\n",
    "\n",
    "我们可以从左向右扫描数组，并使用单调递减栈来记录：（温度值，天数）信息。\n",
    "为了维护栈的单调递减性，我们需要做如下操作：\n",
    "+ 如果当前温度大于栈尾部记录的温度，那么依次出栈，直到栈尾温度大于当前温度，最后将当前温度信息入栈；\n",
    "    + 对于所有出栈的温度记录，当前温度就是对于它来说：下一个更高温度出现的位置，所以在出栈的同时更新结果。\n",
    "+ 如果当前温度小于栈尾部记录的温度，那么直接将当前温度信息入栈；"
   ]
  },
  {
   "attachments": {},
   "cell_type": "markdown",
   "metadata": {},
   "source": [
    "## 算法演示代码\n",
    "\n",
    "请依次运行下方单元格中的代码来生成可视化动画！👇\n",
    "\n",
    "您可以尝试修改代码中的输入参数，来观察不同情况下的运行动画。\n",
    "\n",
    "*如果您在运行中遇到了报错，麻烦把报错日志提交到这里（[Algviz Github issues](https://github.com/zjl9959/algviz/issues)），也可以直接发我邮箱（zjl9959@gmail.com），谢谢！*"
   ]
  },
  {
   "cell_type": "code",
   "execution_count": null,
   "metadata": {},
   "outputs": [],
   "source": [
    "import algviz\n",
    "\n",
    "# Code.S\n",
    "class Solution(object):\n",
    "    def dailyTemperatures(self, temperatures):\n",
    "        viz = algviz.Visualizer(1)   # Hide\n",
    "        s = viz.createVector(name='单调递减栈') # Alias:s = list()\n",
    "        res = viz.createVector([0 for i in range(len(temperatures))], '最终结果')   # Alias:res = [0 for i in range(len(temperatures))]\n",
    "        temperatures = viz.createVector(temperatures, name='每日温度') # Hide\n",
    "        for i in range(len(temperatures)):\n",
    "            temperatures.removeMark(algviz.cGreenYellow)            # Hide\n",
    "            temperatures.mark(algviz.cGreenYellow, i, hold=True)    # Hide\n",
    "            while len(s) > 0 and s[len(s) - 1][0] < temperatures[i]:\n",
    "                s.mark(algviz.cGreenYellow, len(s) - 1)     # Hide\n",
    "                viz.display()                               # Hide\n",
    "                # Block.S\n",
    "                j = s[len(s) - 1][1]\n",
    "                res[j] = i - j          # 更新结果\n",
    "                res.mark(algviz.cTomato, j)     # Hide\n",
    "                s.pop()                 # 弹出小于当前温度的记录\n",
    "                viz.display()   # Hide\n",
    "                # Block.E\n",
    "            # Block.S\n",
    "            s.append((temperatures[i], i))  # 记录当前温度\n",
    "            viz.display()   # Hide\n",
    "            # Block.E\n",
    "        viz.display(3)  # Alias:return res\n",
    "# Code.E"
   ]
  },
  {
   "cell_type": "code",
   "execution_count": null,
   "metadata": {},
   "outputs": [],
   "source": [
    "# Case 1\n",
    "temperatures = [73,74,75,71,69,72,76,73]\n",
    "Solution().dailyTemperatures(temperatures)"
   ]
  },
  {
   "attachments": {},
   "cell_type": "markdown",
   "metadata": {},
   "source": [
    "## 可提交版本代码"
   ]
  },
  {
   "cell_type": "code",
   "execution_count": null,
   "metadata": {},
   "outputs": [],
   "source": [
    "class Solution(object):\n",
    "    def dailyTemperatures(self, temperatures):\n",
    "        \"\"\"\n",
    "        :type temperatures: List[int]\n",
    "        :rtype: List[int]\n",
    "        \"\"\"\n",
    "        s = []\n",
    "        res = [0 for i in range(len(temperatures))]\n",
    "        for i in range(len(temperatures)):\n",
    "            while len(s) > 0 and s[len(s) - 1][0] < temperatures[i]:\n",
    "                j = s[len(s) - 1][1]\n",
    "                res[j] = i - j\n",
    "                s.pop()\n",
    "            s.append((temperatures[i], i))\n",
    "        return res"
   ]
  }
 ],
 "metadata": {
  "kernelspec": {
   "display_name": "algviz-public",
   "language": "python",
   "name": "python3"
  },
  "language_info": {
   "codemirror_mode": {
    "name": "ipython",
    "version": 3
   },
   "file_extension": ".py",
   "mimetype": "text/x-python",
   "name": "python",
   "nbconvert_exporter": "python",
   "pygments_lexer": "ipython3",
   "version": "3.9.13 (main, Aug 25 2022, 23:51:50) [MSC v.1916 64 bit (AMD64)]"
  },
  "orig_nbformat": 4,
  "vscode": {
   "interpreter": {
    "hash": "ba530876bec2e6283b9bacba891681e9dff395534db17e3ec46729d6d41aa6cf"
   }
  }
 },
 "nbformat": 4,
 "nbformat_minor": 2
}
