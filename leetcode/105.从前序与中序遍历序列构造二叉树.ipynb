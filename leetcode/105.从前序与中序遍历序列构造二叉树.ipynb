{
 "cells": [
  {
   "attachments": {},
   "cell_type": "markdown",
   "metadata": {},
   "source": [
    "# 105.从前序与中序遍历序列构造二叉树\n",
    "\n",
    "本笔记包含力扣题目 [105.从前序与中序遍历序列构造二叉树](https://leetcode.cn/problems/construct-binary-tree-from-preorder-and-inorder-traversal/) 的求解动画演示代码，动画基于 [algviz](https://github.com/zjl9959/algviz) 算法动画引擎实时在线渲染。\n",
    "\n",
    "*相关链接：[algviz 官网](https://algviz.com)，[algviz 安装方式](https://algviz.com/cn/installation.html)，[algviz 使用教程](https://algviz.com/cn/examples.html)， [algviz 接口 API 文档](https://algviz.readthedocs.io/en/latest/)。*"
   ]
  },
  {
   "attachments": {},
   "cell_type": "markdown",
   "metadata": {},
   "source": [
    "## 解题思路\n",
    "\n",
    "前序遍历访问树节点的顺序为：根节点，左子树，右子树\n",
    "\n",
    "中序遍历访问树节点的顺序为：左子树，右子树，根节点\n",
    "\n",
    "使用递归的方式来构造二叉树，先假设一个简单的情况：\n",
    "\n",
    "前序遍历列表为：[0, 1, 2]\n",
    "中序遍历列表为：[1, 0, 2]\n",
    "\n",
    "可以看出来，树的根节点的值是前序遍历中的第一个元素。我们想知道左子树对应前序遍历列表中的区间，因为在前序遍历表中，总是先访问左子树，再访问右子树，所以只需要知道左子树区间的长度即可。\n",
    "\n",
    "如何得到左子树区间的长度呢？这一信息隐藏在中序遍历列表中，因为中序遍历列表是按照（【左子树区间】，根节点，【右子树区间】）来分布的，所以只需要找到根节点在中序遍历列表中的位置，就可以确定左右子树的区间长度了。\n",
    "\n",
    "*PS:为了动画演示更加直观，这里使用顺序查找的方式来定位根节点在中序遍历中的位置，复杂度为 $O(n)$，实际上可以使用哈希表来查询（题目中说了节点的值是不重复的），可以将复杂度降为 $O(1)$。*"
   ]
  },
  {
   "attachments": {},
   "cell_type": "markdown",
   "metadata": {},
   "source": [
    "### 运行环境\n",
    "\n",
    "*笔记中的动画使用 [algviz算法动画引擎](https://algviz.com/) 渲染，环境配置请参考该链接：[https://algviz.com/cn/installation.html](https://algviz.com/cn/installation.html)*\n",
    "\n",
    "*觉得对你有帮忙的话请给👉[algviz开源项目](https://github.com/zjl9959/algviz)👈点个 Star✨，遇到了问题也可以在这里 [报个bug](https://github.com/zjl9959/algviz/issues)！*"
   ]
  },
  {
   "cell_type": "code",
   "execution_count": null,
   "metadata": {},
   "outputs": [],
   "source": [
    "# 此段代码用于生成题解中的动画，可在本地运行\n",
    "# 动画使用algviz渲染，详情见我主页中的介绍\n",
    "import algviz\n",
    "\n",
    "class Solution(object):\n",
    "    def buildTree(self, preorder, inorder):\n",
    "        self.viz = algviz.Visualizer()\n",
    "        self.preorder = self.viz.createVector(preorder, '前序遍历列表')\n",
    "        self.inorder = self.viz.createVector(inorder, '中序遍历列表')\n",
    "        self.tree = self.viz.createGraph(name='二叉树')\n",
    "        assert len(preorder) == len(inorder)\n",
    "        self.node_num = len(self.inorder)\n",
    "        return self.solve(0, self.node_num, 0, self.node_num)\n",
    "\n",
    "    def solve(self, pre_left, pre_right, in_left, in_right):\n",
    "        if pre_right - pre_left == 0:\n",
    "            return None\n",
    "        else:\n",
    "            val = self.preorder[pre_left]\n",
    "            root = algviz.BinaryTreeNode(val)\n",
    "            self.preorder.mark(algviz.cSilver, pre_left, hold=True)\n",
    "            if pre_right - pre_left == 1:\n",
    "                self.inorder.mark(algviz.cSilver, in_left, hold=True)\n",
    "                self.tree.addNode(root); self.viz.display()\n",
    "                return root\n",
    "            else:\n",
    "                val = self.preorder[pre_left]\n",
    "                self.preorder.mark(algviz.cTomato, pre_left, hold=True)\n",
    "                # Find the node;s index in inorder with this value.\n",
    "                index = self.viz.createCursor(in_left)\n",
    "                while index < in_right:\n",
    "                    if self.inorder[index] == val:\n",
    "                        self.inorder.mark(algviz.cTomato, index)\n",
    "                        break\n",
    "                    index += 1\n",
    "                    self.viz.display(1)\n",
    "                self.tree.addNode(root); self.viz.display()\n",
    "                self.preorder.removeMark(algviz.cTomato)\n",
    "                self.viz.removeCursor(index)\n",
    "                self.inorder.mark(algviz.cSilver, index, hold=True)\n",
    "                self.viz.display()\n",
    "                index = index.index()\n",
    "                root.left = self.solve(pre_left + 1, pre_left + index - in_left + 1, in_left, index)\n",
    "                root.right = self.solve(pre_left + index - in_left + 1, pre_right, index + 1, in_right)\n",
    "                self.tree.markNode(algviz.cGreenYellow, root)\n",
    "                self.viz.display()\n",
    "                return root"
   ]
  },
  {
   "cell_type": "code",
   "execution_count": null,
   "metadata": {},
   "outputs": [],
   "source": [
    "preorder = [0, 1, 2]\n",
    "inorder = [1, 0, 2]\n",
    "root = Solution().buildTree(preorder, inorder)"
   ]
  },
  {
   "cell_type": "code",
   "execution_count": null,
   "metadata": {},
   "outputs": [],
   "source": [
    "preorder = [0, 1, 3, 4, 2, 5, 6, 7]\n",
    "inorder = [3, 1, 4, 0, 6, 5, 7, 2]\n",
    "root = Solution().buildTree(preorder, inorder)"
   ]
  },
  {
   "attachments": {},
   "cell_type": "markdown",
   "metadata": {},
   "source": [
    "## 可提交版本代码"
   ]
  },
  {
   "cell_type": "code",
   "execution_count": null,
   "metadata": {},
   "outputs": [],
   "source": [
    "# Definition for a binary tree node.\n",
    "class TreeNode(object):\n",
    "     def __init__(self, val=0, left=None, right=None):\n",
    "         self.val = val\n",
    "         self.left = left\n",
    "         self.right = right\n",
    "\n",
    "class Solution(object):\n",
    "    def buildTree(self, preorder, inorder):\n",
    "        \"\"\"\n",
    "        :type preorder: List[int]\n",
    "        :type inorder: List[int]\n",
    "        :rtype: TreeNode\n",
    "        \"\"\"\n",
    "        self.preorder = preorder\n",
    "        self.inorder = inorder\n",
    "        assert len(preorder) == len(inorder)\n",
    "        self.node_num = len(self.inorder)\n",
    "        return self.solve(0, self.node_num, 0, self.node_num)\n",
    "\n",
    "    def solve(self, pre_left, pre_right, in_left, in_right):\n",
    "        if pre_right - pre_left == 0:\n",
    "            return None\n",
    "        elif pre_right - pre_left == 1:\n",
    "            return TreeNode(self.preorder[pre_left])\n",
    "        else:\n",
    "            val = self.preorder[pre_left]\n",
    "            # Find the node;s index in inorder with this value.\n",
    "            index = in_left\n",
    "            while index < in_right:\n",
    "                if self.inorder[index] == val:\n",
    "                    break\n",
    "                index += 1\n",
    "            root = TreeNode(val)\n",
    "            root.left = self.solve(pre_left + 1, pre_left + index - in_left + 1, in_left, index)\n",
    "            root.right = self.solve(pre_left + index - in_left + 1, pre_right, index + 1, in_right)\n",
    "            return root"
   ]
  }
 ],
 "metadata": {
  "kernelspec": {
   "display_name": "algviz-public",
   "language": "python",
   "name": "python3"
  },
  "language_info": {
   "codemirror_mode": {
    "name": "ipython",
    "version": 3
   },
   "file_extension": ".py",
   "mimetype": "text/x-python",
   "name": "python",
   "nbconvert_exporter": "python",
   "pygments_lexer": "ipython3",
   "version": "3.9.13"
  },
  "orig_nbformat": 4,
  "vscode": {
   "interpreter": {
    "hash": "ba530876bec2e6283b9bacba891681e9dff395534db17e3ec46729d6d41aa6cf"
   }
  }
 },
 "nbformat": 4,
 "nbformat_minor": 2
}
