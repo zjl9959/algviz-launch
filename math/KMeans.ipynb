{
 "cells": [
  {
   "cell_type": "markdown",
   "metadata": {},
   "source": [
    "# K-Means 聚类算法介绍\n",
    "\n",
    "## 相关链接\n",
    "\n",
    "+ https://zhuanlan.zhihu.com/p/149597282\n",
    "+ https://medium.com/nerd-for-tech/k-means-algorithm-in-4-parts-5dfe1d773303\n",
    "\n",
    "## 算法实现步骤\n",
    "\n",
    "1. 在输入的数据中随机选择 k 个点作为中心点；\n",
    "2. 将输入数据中的每个点分配到距离它最近的中心点所在集合；\n",
    "3. 更新集合的中心点位置；\n",
    "4. 重复步骤 2 和 3 直到中心点的位置收敛。"
   ]
  },
  {
   "cell_type": "code",
   "execution_count": 31,
   "metadata": {},
   "outputs": [],
   "source": [
    "from matplotlib import pyplot\n",
    "from IPython import display\n",
    "import numpy as np\n",
    "import time\n",
    "\n",
    "np.random.seed(253)\n",
    "\n",
    "class KMeans:\n",
    "  def __init__(self, k):\n",
    "    self.k = k\n",
    "    self.max_iter = 8\n",
    "    pyplot.figure(dpi=80)\n",
    "    pyplot.xlabel('x'); pyplot.ylabel('f(x)')\n",
    "    self.update_display_flag = False\n",
    "    self.colors = ['red', 'green', 'blue', 'yellow', 'black']\n",
    "\n",
    "  def solve(self, data):\n",
    "    np.random.shuffle(data)\n",
    "    self.centers = data[:self.k]\n",
    "    iter_count = 0\n",
    "    while iter_count < self.max_iter:\n",
    "      # 更新集合\n",
    "      self.clusters = [[] for _ in range(self.k)]\n",
    "      for i in range(len(data)):\n",
    "        min_dist = 100000000000\n",
    "        min_cluster = None\n",
    "        for j in range(self.k):\n",
    "          dist = (data[i][0]-self.centers[j][0])**2 + (data[i][1]-self.centers[j][1])**2\n",
    "          if min_dist > dist:\n",
    "            min_dist = dist\n",
    "            min_cluster = j\n",
    "        self.clusters[min_cluster].append(data[i])\n",
    "      # 更新中心点\n",
    "      for i in range(self.k):\n",
    "        center_x = 0\n",
    "        center_y = 0\n",
    "        for j in range(len(self.clusters[i])):\n",
    "          center_x += self.clusters[i][j][0]\n",
    "          center_y += self.clusters[i][j][1]\n",
    "        self.centers[i] = (center_x/len(self.clusters[i]), center_y/len(self.clusters[i]))\n",
    "      self.update_display()\n",
    "      time.sleep(1)\n",
    "      iter_count += 1\n",
    "    pyplot.close()\n",
    "    \n",
    "  def update_display(self):\n",
    "    pyplot.clf()\n",
    "    for i in range(self.k):\n",
    "      for j in range(len(self.clusters[i])):\n",
    "        point = self.clusters[i][j]\n",
    "        pyplot.scatter(point[0], point[1], color=self.colors[i])\n",
    "      pyplot.scatter(self.centers[i][0], self.centers[i][1], marker='+', color=self.colors[i])\n",
    "    if self.update_display_flag == False:\n",
    "      display.display(pyplot.gcf(), display_id='fig1')\n",
    "      self.update_display_flag = True\n",
    "    else:\n",
    "      display.update_display(pyplot.gcf(), display_id='fig1')"
   ]
  },
  {
   "cell_type": "code",
   "execution_count": 32,
   "metadata": {},
   "outputs": [
    {
     "data": {
      "image/png": "[encoded data removed]",
      "text/plain": [
       "<Figure size 512x384 with 1 Axes>"
      ]
     },
     "metadata": {},
     "output_type": "display_data"
    }
   ],
   "source": [
    "solver = KMeans(3)\n",
    "data = []\n",
    "for i in range(3):\n",
    "  temp = np.random.uniform(i-0.7, i+0.7, (10, 2))\n",
    "  for d in temp:\n",
    "    data.append((d[0], d[1]))\n",
    "solver.solve(data)"
   ]
  }
 ],
 "metadata": {
  "kernelspec": {
   "display_name": "algviz",
   "language": "python",
   "name": "python3"
  },
  "language_info": {
   "codemirror_mode": {
    "name": "ipython",
    "version": 3
   },
   "file_extension": ".py",
   "mimetype": "text/x-python",
   "name": "python",
   "nbconvert_exporter": "python",
   "pygments_lexer": "ipython3",
   "version": "3.9.16"
  },
  "orig_nbformat": 4
 },
 "nbformat": 4,
 "nbformat_minor": 2
}
