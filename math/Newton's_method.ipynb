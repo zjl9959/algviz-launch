{
 "cells": [
  {
   "cell_type": "markdown",
   "metadata": {},
   "source": [
    "## 牛顿迭代\n",
    "\n",
    "牛顿迭代可以用来求解非线性方程 $f(x) = 0$ 在区间 $[a, b]$ 内的根，使用程序快速得到方程的数值解。\n",
    "\n",
    "+ https://zh.wikipedia.org/zh-hans/%E7%89%9B%E9%A1%BF%E6%B3%95\n",
    "+ https://zhuanlan.zhihu.com/p/293951317\n",
    "+ http://xpzhang.me/teach/CM19_Fall/slide04.pdf\n",
    "\n",
    "## 核心原理\n",
    "\n",
    "$x_{n+1} = x_{n} - \\frac{f(x_{n})}{f'(x_{n})}$\n",
    "\n",
    "选取一个靠近方程真实根 $x^{*}$ 的初始点 $x_{0}$，反复迭代直到满足一定的精度要求即可；\n",
    "\n",
    "### 使用条件\n",
    "\n",
    "1. $f(x)$ 在区间 $[a, b]$ 内处处可导；\n",
    "2. $\\forall x \\in [a, b]$， 有 $f'(x) \\ne 0；$\n",
    "3. $f(x)$ 在方程根 $x^{*}$ 的附近有连续的二阶导数。\n",
    "\n",
    "### 收敛性证明\n",
    "\n",
    "为什么牛顿迭代可以在上述条件下收敛到方程的真实解呢？下面是简单的证明过程：\n",
    "\n",
    "令 $g(x) = x - \\frac{f(x)}{f'(x)}$，对 $g(x)$ 求导得：$g'(x) = 1 - \\frac{[f'(x)]^2 - f(x)*f''(x)}{[f'(x)]^2} = \\frac{f(x)*f''(x)}{[f'(x)]^2}$\n",
    "\n",
    "由上面得三个条件可知，$g'(x)$ 在方程根的邻域 $(x^*-\\delta, x^*+\\delta)$ 内连续，那么对这个邻域内得所有 $x$，有 $0 < |g'(x)| < 1$。所以迭代方程 $x_{n+1} = x_{n} - \\frac{f(x_{n})}{f'(x_{n})}$ 收敛于 $x^*$。\n",
    "\n",
    "更详细的证明参考：https://zhuanlan.zhihu.com/p/293951317\n",
    "\n",
    "#### 泰勒级数\n",
    "\n",
    "泰勒级数用无限连加的多项式（级数）来表示一个函数，将 $f(x)$ 在 $x_{0}$ 进行泰勒级数展开后得到的结果为：$f(x) = f(x_{0}) + f'(x_{0})(x-x_{0}) + \\frac{f''(x_{0})*(x-x_0)^2}{2!} + ... + \\frac{f^{n}(x_{0})*(x-x_0)^n}{n!} + R_{n}(x)$，因为不可能把级数的所有项都写出来，这里用 $R_{n}$ 表示更高次的项之和（余项）。\n",
    "至于为什么函数 $f(x)$ 可以表示成这种形式，请复习大学微积分相关知识，这里就不深入展开了。\n",
    "\n",
    "假设方程 $f(x) = 0$ 存在一个根 $x^*$，将该方程的根带入泰勒级数可得：$f(x_{0}) + f'(x_{0})(x^*-x_{0}) + \\frac{f''(x_{0})*(x^*-x_0)^2}{2!} + ... + \\frac{f^{n}(x_{0})*(x^*-x_0)^n}{n!} + R_{n}(x) = 0$"
   ]
  },
  {
   "cell_type": "markdown",
   "metadata": {},
   "source": [
    "### 算法实现\n",
    "\n",
    "虽然理论很复杂，但是代码实现起来却非常简单，让我们看一道题目：[Leetcode 69. x 的平方根](\n",
    "https://leetcode.cn/problems/sqrtx/)\n",
    "\n",
    "> 给你一个非负整数 x ，计算并返回 x 的 算术平方根 。\n",
    "\n",
    "> 由于返回类型是整数，结果只保留 整数部分 ，小数部分将被 舍去 。\n",
    "\n",
    "> 注意：不允许使用任何内置指数函数和算符，例如 pow(x, 0.5) 或者 x ** 0.5 。\n",
    "\n",
    "题目要求 `不允许使用任何内置指数函数和算`，那么我们可以使用牛顿迭代来求解该题目。\n",
    "\n",
    "令 $f(x)=x^2-m$，其中 $m$ 为输入的值，那么 $f'(x)=2*x$，牛顿迭代公式为：$x_{n+1}=\\frac{x_n^2 + m}{2*x_n}$。\n",
    "\n",
    "现在检查牛顿迭代的条件：\n",
    "\n",
    "1. $x^2-m$ 在整个实数作用域内都是可导的；\n",
    "2. $2*x$ 在区间 $(0, +\\infty)$ 内都不为0；\n",
    "3. $f''(x)=2$ 一定是连续的；\n",
    "\n",
    "都是满足的，说明牛顿迭代可以用来求方程的根。\n",
    "\n",
    "然后是选取迭代的初始点 $x_0$，根据前面的证明，只需要保证 $|g'(x_0)| = |\\frac{f(x_0)*f''(x_0)}{[f'(x_0)]^2}| = |\\frac{1}{2} - \\frac{m}{x_0^2}|$ 在 $(0, 1)$ 区间内即可。令 $x_0=m$，那么 $|g'(x_0)| = |\\frac{1}{2} - \\frac{1}{m}|$ 在题目给定的输入范围内一定是满足要求的。\n"
   ]
  },
  {
   "cell_type": "markdown",
   "metadata": {},
   "source": [
    "### 运行环境\n",
    "\n",
    "*笔记中的动画使用 [algviz算法动画引擎](https://algviz.com/) 渲染，环境配置请参考该链接：[https://algviz.com/cn/installation.html](https://algviz.com/cn/installation.html)*\n",
    "\n",
    "*觉得对你有帮忙的话请给👉[algviz开源项目](https://github.com/zjl9959/algviz)👈点个 Star✨，遇到了问题也可以在这里 [报个bug](https://github.com/zjl9959/algviz/issues)！*"
   ]
  },
  {
   "cell_type": "code",
   "execution_count": 24,
   "metadata": {},
   "outputs": [
    {
     "data": {
      "image/png": "[encoded data removed]",
      "text/plain": [
       "<Figure size 512x384 with 1 Axes>"
      ]
     },
     "metadata": {},
     "output_type": "display_data"
    },
    {
     "data": {
      "text/plain": [
       "1"
      ]
     },
     "execution_count": 24,
     "metadata": {},
     "output_type": "execute_result"
    }
   ],
   "source": [
    "from matplotlib import pyplot\n",
    "from IPython import display\n",
    "import time\n",
    "\n",
    "class Solution:\n",
    "  def mySqrt(self, m):\n",
    "    self.m = m\n",
    "    pyplot.figure(dpi=80)\n",
    "    pyplot.xlabel('x'); pyplot.ylabel('f(x)')\n",
    "    self.update_display_flag = False\n",
    "    if m == 0:\n",
    "      return 0\n",
    "    e = 0.01\n",
    "    last = -100\n",
    "    cur = m\n",
    "    while abs(cur-last) > e:\n",
    "      self.updateDisplay(cur)\n",
    "      time.sleep(1)\n",
    "      last = cur\n",
    "      cur = (cur*cur + m)/(2*cur)\n",
    "    pyplot.close()\n",
    "    return int(cur)\n",
    "\n",
    "  def updateDisplay(self, x0):\n",
    "    x = []\n",
    "    y1 = []\n",
    "    y2 = []\n",
    "    if self.update_display_flag == False:\n",
    "      cur = self.m - 2\n",
    "      while cur < self.m + 1:\n",
    "        cur += 0.001\n",
    "        x.append(cur)\n",
    "        y1.append(cur*cur-self.m)\n",
    "      pyplot.plot(x, y1)\n",
    "    x = []\n",
    "    cur = x0 - 0.5\n",
    "    while cur < x0 + 0.5:\n",
    "      cur += 0.001\n",
    "      x.append(cur)\n",
    "      y2.append(2*x0*cur - x0*x0 - self.m)\n",
    "    pyplot.plot(x, y2)\n",
    "    pyplot.scatter(x0, x0*x0 - self.m, color=\"red\")\n",
    "    if self.update_display_flag == False:\n",
    "      display.display(pyplot.gcf(), display_id='fig1')\n",
    "      self.update_display_flag = True\n",
    "    else:\n",
    "      display.update_display(pyplot.gcf(), display_id='fig1')\n",
    "\n",
    "Solution().mySqrt(3)\n",
    "    "
   ]
  }
 ],
 "metadata": {
  "kernelspec": {
   "display_name": "algviz",
   "language": "python",
   "name": "python3"
  },
  "language_info": {
   "codemirror_mode": {
    "name": "ipython",
    "version": 3
   },
   "file_extension": ".py",
   "mimetype": "text/x-python",
   "name": "python",
   "nbconvert_exporter": "python",
   "pygments_lexer": "ipython3",
   "version": "3.9.16"
  },
  "orig_nbformat": 4
 },
 "nbformat": 4,
 "nbformat_minor": 2
}
